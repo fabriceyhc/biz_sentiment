{
 "cells": [
  {
   "cell_type": "markdown",
   "metadata": {},
   "source": [
    "# Analyzing Sentiment in Amazon Product Reviews"
   ]
  },
  {
   "cell_type": "markdown",
   "metadata": {},
   "source": [
    "https://www.curiousily.com/posts/sentiment-analysis-with-bert-and-hugging-face-using-pytorch-and-python/\n",
    "\n",
    "https://towardsdatascience.com/fine-grained-sentiment-analysis-part-3-fine-tuning-transformers-1ae6574f25a6\n",
    "\n",
    "https://medium.com/analytics-vidhya/bert-using-hugging-face-for-sentiment-extraction-with-pytorch-2477980e7976"
   ]
  },
  {
   "cell_type": "code",
   "execution_count": 1,
   "metadata": {},
   "outputs": [],
   "source": [
    "import os\n",
    "import glob\n",
    "import json\n",
    "import gzip\n",
    "import pandas as pd\n",
    "import numpy as np\n",
    "from tqdm.notebook import tqdm\n",
    "\n",
    "import torch\n",
    "\n",
    "import matplotlib.pyplot as plt\n",
    "%matplotlib inline"
   ]
  },
  {
   "cell_type": "markdown",
   "metadata": {},
   "source": [
    "# Load Data"
   ]
  },
  {
   "cell_type": "markdown",
   "metadata": {},
   "source": [
    "### Stata by Category as DataFrame"
   ]
  },
  {
   "cell_type": "code",
   "execution_count": 2,
   "metadata": {},
   "outputs": [],
   "source": [
    "# data_dir = \"data/amazon/by_category_stata\"\n",
    "\n",
    "# li = []\n",
    "# for filename in tqdm(glob.glob(data_dir + \"/*\")):\n",
    "#     df = pd.read_stata(filename)\n",
    "#     li.append(df)\n",
    "\n",
    "# df = pd.concat(li, axis=0, ignore_index=True)\n",
    "# df "
   ]
  },
  {
   "cell_type": "markdown",
   "metadata": {},
   "source": [
    "### Stata by Category as Loaders"
   ]
  },
  {
   "cell_type": "code",
   "execution_count": 3,
   "metadata": {},
   "outputs": [],
   "source": [
    "# data_dir = \"data/amazon/by_category_stata\"\n",
    "# train_loaders = {}\n",
    "# batch_size = 100\n",
    "# for json_file in tqdm(glob.glob(data_dir + \"/*\")):\n",
    "#     category = os.path.basename(json_file).replace('.json.gz', '')\n",
    "#     train_loaders[category] = pd.read_stata(json_file, chunksize=batch_size)\n",
    "    \n",
    "# train_loaders"
   ]
  },
  {
   "cell_type": "markdown",
   "metadata": {},
   "source": [
    "### JSON by Category as Loaders"
   ]
  },
  {
   "cell_type": "markdown",
   "metadata": {},
   "source": [
    "http://deepyeti.ucsd.edu/jianmo/amazon/index.html"
   ]
  },
  {
   "cell_type": "code",
   "execution_count": 4,
   "metadata": {},
   "outputs": [],
   "source": [
    "# data_dir = \"data/amazon/by_category/raw\"\n",
    "# train_loaders = {}\n",
    "# batch_size = 100\n",
    "# for json_file in tqdm(glob.glob(data_dir + \"/*\")):\n",
    "#     category = os.path.basename(json_file).replace('.json.gz', '')\n",
    "#     train_loaders[category] = pd.read_json(json_file, lines=True, chunksize=batch_size)\n",
    "    \n",
    "# # train_loaders"
   ]
  },
  {
   "cell_type": "markdown",
   "metadata": {},
   "source": [
    "# DataLoader"
   ]
  },
  {
   "cell_type": "code",
   "execution_count": 5,
   "metadata": {},
   "outputs": [],
   "source": [
    "def load_data(data_dir, batch_size, keyword=\"\"):\n",
    "    train_loaders = {}\n",
    "    for json_file in tqdm(glob.glob(data_dir + \"/*\" + keyword + \"*\")):\n",
    "        category = os.path.basename(json_file).split(\".\", 1)[0] # keep only filename, no extensions\n",
    "        train_loaders[category] = pd.read_json(os.path.abspath(json_file), lines=True, chunksize=batch_size)\n",
    "    return train_loaders\n",
    "# train_loaders"
   ]
  },
  {
   "cell_type": "code",
   "execution_count": 6,
   "metadata": {},
   "outputs": [
    {
     "data": {
      "application/vnd.jupyter.widget-view+json": {
       "model_id": "0134adbadb95412eaf3f43c5d0302e6b",
       "version_major": 2,
       "version_minor": 0
      },
      "text/plain": [
       "HBox(children=(FloatProgress(value=0.0, max=29.0), HTML(value='')))"
      ]
     },
     "metadata": {},
     "output_type": "display_data"
    },
    {
     "name": "stdout",
     "output_type": "stream",
     "text": [
      "\n"
     ]
    }
   ],
   "source": [
    "train_loaders = load_data(\"data/amazon/by_category/raw\", batch_size=25)"
   ]
  },
  {
   "cell_type": "markdown",
   "metadata": {},
   "source": [
    "### Adding derived columns"
   ]
  },
  {
   "cell_type": "code",
   "execution_count": 7,
   "metadata": {},
   "outputs": [],
   "source": [
    "def to_sentiment(rating):\n",
    "    rating = int(rating)\n",
    "    if rating <= 2:\n",
    "        return 0\n",
    "    elif rating == 3:\n",
    "        return 1\n",
    "    else:\n",
    "        return 2"
   ]
  },
  {
   "cell_type": "code",
   "execution_count": 8,
   "metadata": {},
   "outputs": [],
   "source": [
    "def preprocess_df(df):\n",
    "    # remove unnecessary columns\n",
    "    df = df.drop(columns=[\n",
    "        'verified',\n",
    "        'reviewTime',\n",
    "        'reviewerID',\n",
    "        'asin',\n",
    "        'reviewerName',\n",
    "        'unixReviewTime',\n",
    "        'vote',\n",
    "        'style',\n",
    "        'image'\n",
    "    ], errors='ignore')\n",
    "    \n",
    "    # create an approximate label from the star ratings for future training\n",
    "    df['star_sentiment'] = df['overall'].apply(to_sentiment)\n",
    "    \n",
    "    # add the number of words in the reviewText\n",
    "    df['num_words'] = df['reviewText'].str.split().str.len()\n",
    "    \n",
    "    # avoid possible data leakage where the thing to predict exists in the data\n",
    "    df['summary'] = df['summary'].replace(['One Star', \n",
    "                                           'Two Stars', \n",
    "                                           'Three Stars', \n",
    "                                           'Four Stars', \n",
    "                                           'Five Stars'], '')\n",
    "    \n",
    "    columns = ['overall', 'star_sentiment', 'num_words', 'reviewText', 'summary']\n",
    "    df = df[columns]\n",
    "    \n",
    "    return df"
   ]
  },
  {
   "cell_type": "markdown",
   "metadata": {},
   "source": [
    "### Saving the preprocessed datasets back to the JSON original JSON format"
   ]
  },
  {
   "cell_type": "code",
   "execution_count": 9,
   "metadata": {},
   "outputs": [],
   "source": [
    "def append_df_to_JSON(file, df):\n",
    "    json_df = df.to_json(\n",
    "        # path_or_buf=file_path,\n",
    "        orient='records',\n",
    "        lines=True\n",
    "    )\n",
    "    with open(file, 'a', encoding='utf8') as f:\n",
    "        f.write(json_df)\n",
    "        f.write(\"\\n\")"
   ]
  },
  {
   "cell_type": "code",
   "execution_count": 10,
   "metadata": {},
   "outputs": [],
   "source": [
    "# save_path = \"data/amazon/by_category/preprocessed\"\n",
    "# for file_name, json_loader in tqdm(train_loaders.items()):\n",
    "#     print('preprocessing', file_name)\n",
    "#     file_path = os.path.join(save_path, file_name + '.json')\n",
    "#     for df in tqdm(json_loader):\n",
    "#         df = preprocess_df(df)\n",
    "#         append_df_to_JSON(file_path, df)"
   ]
  },
  {
   "cell_type": "markdown",
   "metadata": {},
   "source": [
    "# Sentiment Pipeline"
   ]
  },
  {
   "cell_type": "code",
   "execution_count": 11,
   "metadata": {},
   "outputs": [],
   "source": [
    "from transformers import pipeline, AutoTokenizer, AutoModelForSequenceClassification"
   ]
  },
  {
   "cell_type": "code",
   "execution_count": 12,
   "metadata": {},
   "outputs": [],
   "source": [
    "MODEL_NAME = \"distilbert-base-uncased-finetuned-sst-2-english\"\n",
    "\n",
    "# Previously tried ######################\n",
    "# \"roberta-base\"                                                   | not sentiment analysis\n",
    "# \"roberta-large-mnli\"                                             | not sentiment analysis\n",
    "# \"distilbert-base-uncased-finetuned-sst-2-english\"                | works!!! NEGATIVE, POSITIVE\n",
    "# \"sshleifer/tiny-distilbert-base-uncased-finetuned-sst-2-english\" | fail\n",
    "# \"textattack/roberta-base-SST-2\"                                  | works!!! LABEL_0, LABEL_1\n",
    "# \"distilbert-base-uncased\"                                        | fail\n",
    "# \"distilbert-base-cased\"                                          | fail"
   ]
  },
  {
   "cell_type": "code",
   "execution_count": 13,
   "metadata": {},
   "outputs": [],
   "source": [
    "tokenizer = AutoTokenizer.from_pretrained(MODEL_NAME)\n",
    "model = AutoModelForSequenceClassification.from_pretrained(MODEL_NAME)"
   ]
  },
  {
   "cell_type": "code",
   "execution_count": 14,
   "metadata": {},
   "outputs": [],
   "source": [
    "classifier = pipeline(\n",
    "    task='sentiment-analysis',\n",
    "    model=model, \n",
    "    tokenizer=tokenizer,\n",
    "    device=-1,\n",
    "    framework='pt',\n",
    "    return_all_scores=False\n",
    ")"
   ]
  },
  {
   "cell_type": "code",
   "execution_count": 15,
   "metadata": {},
   "outputs": [],
   "source": [
    "# classifier.model"
   ]
  },
  {
   "cell_type": "code",
   "execution_count": 16,
   "metadata": {},
   "outputs": [],
   "source": [
    "# classifier('what is the time?')"
   ]
  },
  {
   "cell_type": "code",
   "execution_count": null,
   "metadata": {},
   "outputs": [
    {
     "data": {
      "application/vnd.jupyter.widget-view+json": {
       "model_id": "b6773e337e8e47dea6d978e9e7e0b161",
       "version_major": 2,
       "version_minor": 0
      },
      "text/plain": [
       "HBox(children=(FloatProgress(value=0.0, max=29.0), HTML(value='')))"
      ]
     },
     "metadata": {},
     "output_type": "display_data"
    },
    {
     "name": "stdout",
     "output_type": "stream",
     "text": [
      "running sentiment-analysis on All_Beauty\n"
     ]
    },
    {
     "data": {
      "application/vnd.jupyter.widget-view+json": {
       "model_id": "05d1cc928e48485d8379b0c6b9bb91f4",
       "version_major": 2,
       "version_minor": 0
      },
      "text/plain": [
       "HBox(children=(FloatProgress(value=1.0, bar_style='info', max=1.0), HTML(value='')))"
      ]
     },
     "metadata": {},
     "output_type": "display_data"
    },
    {
     "name": "stdout",
     "output_type": "stream",
     "text": [
      "\n",
      "1484\n",
      "running sentiment-analysis on AMAZON_FASHION\n"
     ]
    },
    {
     "data": {
      "application/vnd.jupyter.widget-view+json": {
       "model_id": "639d92ab4b594d7e963795445710e77a",
       "version_major": 2,
       "version_minor": 0
      },
      "text/plain": [
       "HBox(children=(FloatProgress(value=1.0, bar_style='info', max=1.0), HTML(value='')))"
      ]
     },
     "metadata": {},
     "output_type": "display_data"
    }
   ],
   "source": [
    "save_path = \"data/amazon/by_category/preprocessed\"\n",
    "\n",
    "column_order = ['category_id', \n",
    "                'overall', \n",
    "                'star_sentiment', \n",
    "                'reviewText', \n",
    "                'summary', \n",
    "                'num_words', \n",
    "                'polarity']\n",
    "\n",
    "category_id = 0\n",
    "\n",
    "error_counter = 0\n",
    "\n",
    "for file_name, json_loader in tqdm(train_loaders.items()):\n",
    "    print('running sentiment-analysis on', file_name)\n",
    "    file_path = os.path.join(save_path, file_name + '_results2.json')\n",
    "    for df in tqdm(json_loader):\n",
    "        \n",
    "        # Preprocess #####################\n",
    "\n",
    "        # create an approximate label from the star ratings for future training\n",
    "        df['star_sentiment'] = df['overall'].apply(to_sentiment)\n",
    "\n",
    "        # add the number of words in the reviewText\n",
    "        df['num_words'] = df['reviewText'].str.split().str.len()\n",
    "\n",
    "        # avoid possible data leakage where the thing to predict exists in the data\n",
    "        df['summary'] = df['summary'].replace(['One Star', \n",
    "                                               'Two Stars', \n",
    "                                               'Three Stars', \n",
    "                                               'Four Stars', \n",
    "                                               'Five Stars'], '')\n",
    "        \n",
    "        # add category_id\n",
    "        df['category_id'] = category_id\n",
    "        \n",
    "        # drop irrelevant columns\n",
    "        df = df.drop(columns=[\n",
    "            'verified',\n",
    "            'reviewTime',\n",
    "            'reviewerID',\n",
    "            'asin',\n",
    "            'reviewerName',\n",
    "            'unixReviewTime',\n",
    "            'vote',\n",
    "            'style',\n",
    "            'image'\n",
    "        ], errors='ignore')\n",
    "\n",
    "        # Sentiment Analysis ##################### \n",
    "        try:\n",
    "            sentiments = classifier(list(df['reviewText']))\n",
    "        except:\n",
    "            error_counter+=1\n",
    "            continue\n",
    "            \n",
    "        df_results = pd.DataFrame(sentiments)\n",
    "        \n",
    "        df['polarity'] = np.where(df_results['label'] == 'POSITIVE', \n",
    "                                  df_results['score'], \n",
    "                                  df_results['score'] * -1)\n",
    "        \n",
    "        df = df[column_order]\n",
    "        \n",
    "        # Save results #####################\n",
    "        append_df_to_JSON(file_path, df)\n",
    "    \n",
    "    print(error_counter)\n",
    "    category_id += 1"
   ]
  },
  {
   "cell_type": "markdown",
   "metadata": {},
   "source": [
    "# Reviewing Results"
   ]
  },
  {
   "cell_type": "code",
   "execution_count": 67,
   "metadata": {},
   "outputs": [
    {
     "data": {
      "application/vnd.jupyter.widget-view+json": {
       "model_id": "1f5e77edcad44800a5350cda8c7561d6",
       "version_major": 2,
       "version_minor": 0
      },
      "text/plain": [
       "HBox(children=(FloatProgress(value=0.0, max=2.0), HTML(value='')))"
      ]
     },
     "metadata": {},
     "output_type": "display_data"
    },
    {
     "name": "stdout",
     "output_type": "stream",
     "text": [
      "\n"
     ]
    },
    {
     "data": {
      "text/plain": [
       "{'All_Beauty_results2': <pandas.io.json._json.JsonReader at 0x1f8f328ec10>,\n",
       " 'AMAZON_FASHION_results2': <pandas.io.json._json.JsonReader at 0x1f8f328e400>}"
      ]
     },
     "execution_count": 67,
     "metadata": {},
     "output_type": "execute_result"
    }
   ],
   "source": [
    "results_dir = \"data/amazon/by_category/preprocessed\"\n",
    "results_loaders = load_data(results_dir, batch_size=25, keyword=\"results2\")\n",
    "results_loaders"
   ]
  },
  {
   "cell_type": "code",
   "execution_count": 68,
   "metadata": {},
   "outputs": [],
   "source": [
    "# intervals for binning the polarity\n",
    "cut_class = np.arange(3)\n",
    "cut_class_text = [\"Negative\", \"Neutral\", \"Positive\"]\n",
    "cut_bins = np.linspace(\n",
    "    start = -1, \n",
    "    stop = 1,\n",
    "    num = 4\n",
    ")"
   ]
  },
  {
   "cell_type": "code",
   "execution_count": 69,
   "metadata": {
    "scrolled": true
   },
   "outputs": [
    {
     "data": {
      "application/vnd.jupyter.widget-view+json": {
       "model_id": "ad9de9645f16480ba547d90034375cb5",
       "version_major": 2,
       "version_minor": 0
      },
      "text/plain": [
       "HBox(children=(FloatProgress(value=0.0, max=2.0), HTML(value='')))"
      ]
     },
     "metadata": {},
     "output_type": "display_data"
    },
    {
     "name": "stdout",
     "output_type": "stream",
     "text": [
      "loading results for All_Beauty_results2\n"
     ]
    },
    {
     "data": {
      "application/vnd.jupyter.widget-view+json": {
       "model_id": "b141c74035814788a70098f3029405cd",
       "version_major": 2,
       "version_minor": 0
      },
      "text/plain": [
       "HBox(children=(FloatProgress(value=1.0, bar_style='info', max=1.0), HTML(value='')))"
      ]
     },
     "metadata": {},
     "output_type": "display_data"
    },
    {
     "name": "stdout",
     "output_type": "stream",
     "text": [
      "\n",
      "loading results for AMAZON_FASHION_results2\n"
     ]
    },
    {
     "data": {
      "application/vnd.jupyter.widget-view+json": {
       "model_id": "cbf5efe6c46d4426aa19c2c0f60fa23f",
       "version_major": 2,
       "version_minor": 0
      },
      "text/plain": [
       "HBox(children=(FloatProgress(value=1.0, bar_style='info', max=1.0), HTML(value='')))"
      ]
     },
     "metadata": {},
     "output_type": "display_data"
    },
    {
     "name": "stdout",
     "output_type": "stream",
     "text": [
      "\n",
      "\n"
     ]
    },
    {
     "data": {
      "text/html": [
       "<div>\n",
       "<style scoped>\n",
       "    .dataframe tbody tr th:only-of-type {\n",
       "        vertical-align: middle;\n",
       "    }\n",
       "\n",
       "    .dataframe tbody tr th {\n",
       "        vertical-align: top;\n",
       "    }\n",
       "\n",
       "    .dataframe thead th {\n",
       "        text-align: right;\n",
       "    }\n",
       "</style>\n",
       "<table border=\"1\" class=\"dataframe\">\n",
       "  <thead>\n",
       "    <tr style=\"text-align: right;\">\n",
       "      <th></th>\n",
       "      <th>All_Beauty_results2</th>\n",
       "      <th>AMAZON_FASHION_results2</th>\n",
       "    </tr>\n",
       "  </thead>\n",
       "  <tbody>\n",
       "    <tr>\n",
       "      <th>accuracy</th>\n",
       "      <td>0.798088</td>\n",
       "      <td>0.79531</td>\n",
       "    </tr>\n",
       "    <tr>\n",
       "      <th>class_counts</th>\n",
       "      <td>[102892.0, 0.0, 231778.0]</td>\n",
       "      <td>[49524.0, 0.0, 127026.0]</td>\n",
       "    </tr>\n",
       "  </tbody>\n",
       "</table>\n",
       "</div>"
      ],
      "text/plain": [
       "                    All_Beauty_results2   AMAZON_FASHION_results2\n",
       "accuracy                       0.798088                   0.79531\n",
       "class_counts  [102892.0, 0.0, 231778.0]  [49524.0, 0.0, 127026.0]"
      ]
     },
     "execution_count": 69,
     "metadata": {},
     "output_type": "execute_result"
    }
   ],
   "source": [
    "results = {}\n",
    "for file_name, json_loader in tqdm(results_loaders.items()):\n",
    "    \n",
    "    print('loading results for', file_name)\n",
    "    \n",
    "    class_counts = np.zeros(3)\n",
    "    \n",
    "    total_correct = 0\n",
    "    total_rows = 0\n",
    "    \n",
    "    for df in tqdm(json_loader):\n",
    "        \n",
    "        # add new columns\n",
    "        df['class']      = pd.cut(df['polarity'], bins=cut_bins, labels=cut_class)\n",
    "        # df['class_text'] = pd.cut(df['polarity'], bins=cut_bins, labels=cut_class_text)\n",
    "        \n",
    "        # for accuracy\n",
    "        total_correct += np.sum(df['star_sentiment'] == df['class'])\n",
    "        total_rows += len(df)\n",
    "        \n",
    "        # for class counts\n",
    "        class_counts += list(df['class'].value_counts(sort=False))\n",
    "    \n",
    "    # category accuracy\n",
    "    acc = total_correct / total_rows\n",
    "    \n",
    "    # save results \n",
    "    results[file_name] = {\n",
    "        'accuracy': acc,\n",
    "        'class_counts' : class_counts\n",
    "    }\n",
    "    \n",
    "df_results = pd.DataFrame.from_dict(results)\n",
    "df_results"
   ]
  },
  {
   "cell_type": "code",
   "execution_count": 85,
   "metadata": {},
   "outputs": [
    {
     "data": {
      "image/png": "[encoded data removed]",
      "text/plain": [
       "<Figure size 432x288 with 1 Axes>"
      ]
     },
     "metadata": {
      "needs_background": "light"
     },
     "output_type": "display_data"
    },
    {
     "data": {
      "image/png": "[encoded data removed]",
      "text/plain": [
       "<Figure size 432x288 with 1 Axes>"
      ]
     },
     "metadata": {
      "needs_background": "light"
     },
     "output_type": "display_data"
    }
   ],
   "source": [
    "for result in df_results:\n",
    "    y = df_results.T['class_counts'][0]\n",
    "    plt.bar(cut_class_text, y)\n",
    "    plt.title(result)\n",
    "    plt.show()"
   ]
  },
  {
   "cell_type": "code",
   "execution_count": 86,
   "metadata": {},
   "outputs": [
    {
     "data": {
      "text/html": [
       "<div>\n",
       "<style scoped>\n",
       "    .dataframe tbody tr th:only-of-type {\n",
       "        vertical-align: middle;\n",
       "    }\n",
       "\n",
       "    .dataframe tbody tr th {\n",
       "        vertical-align: top;\n",
       "    }\n",
       "\n",
       "    .dataframe thead th {\n",
       "        text-align: right;\n",
       "    }\n",
       "</style>\n",
       "<table border=\"1\" class=\"dataframe\">\n",
       "  <thead>\n",
       "    <tr style=\"text-align: right;\">\n",
       "      <th></th>\n",
       "      <th>category_id</th>\n",
       "      <th>overall</th>\n",
       "      <th>star_sentiment</th>\n",
       "      <th>reviewText</th>\n",
       "      <th>summary</th>\n",
       "      <th>num_words</th>\n",
       "      <th>polarity</th>\n",
       "      <th>class</th>\n",
       "      <th>class_text</th>\n",
       "    </tr>\n",
       "  </thead>\n",
       "  <tbody>\n",
       "    <tr>\n",
       "      <th>176525</th>\n",
       "      <td>1</td>\n",
       "      <td>1</td>\n",
       "      <td>0</td>\n",
       "      <td>Small</td>\n",
       "      <td></td>\n",
       "      <td>1</td>\n",
       "      <td>-0.996106</td>\n",
       "      <td>0</td>\n",
       "      <td>Negative</td>\n",
       "    </tr>\n",
       "    <tr>\n",
       "      <th>176526</th>\n",
       "      <td>1</td>\n",
       "      <td>3</td>\n",
       "      <td>1</td>\n",
       "      <td>It's an elastic waistband with vertical strips...</td>\n",
       "      <td>It's just ok. There is no \"tie top\" or split.</td>\n",
       "      <td>22</td>\n",
       "      <td>-0.852520</td>\n",
       "      <td>0</td>\n",
       "      <td>Negative</td>\n",
       "    </tr>\n",
       "    <tr>\n",
       "      <th>176527</th>\n",
       "      <td>1</td>\n",
       "      <td>5</td>\n",
       "      <td>2</td>\n",
       "      <td>I purchased size large.  I am 5'10\" with a 32\"...</td>\n",
       "      <td>The length was perfect, just down to my ankles</td>\n",
       "      <td>75</td>\n",
       "      <td>0.999314</td>\n",
       "      <td>2</td>\n",
       "      <td>Positive</td>\n",
       "    </tr>\n",
       "    <tr>\n",
       "      <th>176528</th>\n",
       "      <td>1</td>\n",
       "      <td>5</td>\n",
       "      <td>2</td>\n",
       "      <td>Love that it is long and flowy. You can wear i...</td>\n",
       "      <td>Love that it is long and flowy</td>\n",
       "      <td>21</td>\n",
       "      <td>0.999852</td>\n",
       "      <td>2</td>\n",
       "      <td>Positive</td>\n",
       "    </tr>\n",
       "    <tr>\n",
       "      <th>176529</th>\n",
       "      <td>1</td>\n",
       "      <td>1</td>\n",
       "      <td>0</td>\n",
       "      <td>Hate it!! It is not as big and full.  Like the...</td>\n",
       "      <td></td>\n",
       "      <td>16</td>\n",
       "      <td>-0.999822</td>\n",
       "      <td>0</td>\n",
       "      <td>Negative</td>\n",
       "    </tr>\n",
       "    <tr>\n",
       "      <th>176530</th>\n",
       "      <td>1</td>\n",
       "      <td>1</td>\n",
       "      <td>0</td>\n",
       "      <td>It's a beautiful skirt but is way small. I got...</td>\n",
       "      <td>skirt not worth the money</td>\n",
       "      <td>46</td>\n",
       "      <td>-0.998091</td>\n",
       "      <td>0</td>\n",
       "      <td>Negative</td>\n",
       "    </tr>\n",
       "    <tr>\n",
       "      <th>176531</th>\n",
       "      <td>1</td>\n",
       "      <td>5</td>\n",
       "      <td>2</td>\n",
       "      <td>Looks like it cost more than I spent.  It mana...</td>\n",
       "      <td>Absolutely beautiful and stunning little eveni...</td>\n",
       "      <td>52</td>\n",
       "      <td>-0.994881</td>\n",
       "      <td>0</td>\n",
       "      <td>Negative</td>\n",
       "    </tr>\n",
       "    <tr>\n",
       "      <th>176532</th>\n",
       "      <td>1</td>\n",
       "      <td>5</td>\n",
       "      <td>2</td>\n",
       "      <td>Perfect size - Beautiful purse that I used for...</td>\n",
       "      <td>Great value</td>\n",
       "      <td>21</td>\n",
       "      <td>0.999833</td>\n",
       "      <td>2</td>\n",
       "      <td>Positive</td>\n",
       "    </tr>\n",
       "    <tr>\n",
       "      <th>176533</th>\n",
       "      <td>1</td>\n",
       "      <td>5</td>\n",
       "      <td>2</td>\n",
       "      <td>The bag is stunning. Two separate straps for c...</td>\n",
       "      <td>The Glamourous Peacock</td>\n",
       "      <td>37</td>\n",
       "      <td>0.999731</td>\n",
       "      <td>2</td>\n",
       "      <td>Positive</td>\n",
       "    </tr>\n",
       "    <tr>\n",
       "      <th>176534</th>\n",
       "      <td>1</td>\n",
       "      <td>5</td>\n",
       "      <td>2</td>\n",
       "      <td>OMG!  I love this purse!  I was a little worri...</td>\n",
       "      <td>Perfect!</td>\n",
       "      <td>45</td>\n",
       "      <td>0.999717</td>\n",
       "      <td>2</td>\n",
       "      <td>Positive</td>\n",
       "    </tr>\n",
       "    <tr>\n",
       "      <th>176535</th>\n",
       "      <td>1</td>\n",
       "      <td>4</td>\n",
       "      <td>2</td>\n",
       "      <td>The bag is lovely. You can carry glasses and k...</td>\n",
       "      <td>lovely, practical evening bag</td>\n",
       "      <td>46</td>\n",
       "      <td>0.969380</td>\n",
       "      <td>2</td>\n",
       "      <td>Positive</td>\n",
       "    </tr>\n",
       "    <tr>\n",
       "      <th>176536</th>\n",
       "      <td>1</td>\n",
       "      <td>5</td>\n",
       "      <td>2</td>\n",
       "      <td>Very shiny and sparkly. Beautiful and classy l...</td>\n",
       "      <td>Beautiful and classy looking in person</td>\n",
       "      <td>14</td>\n",
       "      <td>0.999885</td>\n",
       "      <td>2</td>\n",
       "      <td>Positive</td>\n",
       "    </tr>\n",
       "    <tr>\n",
       "      <th>176537</th>\n",
       "      <td>1</td>\n",
       "      <td>5</td>\n",
       "      <td>2</td>\n",
       "      <td>well its beautiful bag but it's small for my p...</td>\n",
       "      <td>Beautiful but small</td>\n",
       "      <td>29</td>\n",
       "      <td>0.521213</td>\n",
       "      <td>2</td>\n",
       "      <td>Positive</td>\n",
       "    </tr>\n",
       "    <tr>\n",
       "      <th>176538</th>\n",
       "      <td>1</td>\n",
       "      <td>5</td>\n",
       "      <td>2</td>\n",
       "      <td>I love it!!! This is even more elegant than it...</td>\n",
       "      <td>Beautiful and Sparkly!</td>\n",
       "      <td>29</td>\n",
       "      <td>0.999882</td>\n",
       "      <td>2</td>\n",
       "      <td>Positive</td>\n",
       "    </tr>\n",
       "    <tr>\n",
       "      <th>176539</th>\n",
       "      <td>1</td>\n",
       "      <td>5</td>\n",
       "      <td>2</td>\n",
       "      <td>Nice bag, a tad on the bright side, good for b...</td>\n",
       "      <td>Nice bag, a tad on the bright side</td>\n",
       "      <td>19</td>\n",
       "      <td>0.999363</td>\n",
       "      <td>2</td>\n",
       "      <td>Positive</td>\n",
       "    </tr>\n",
       "    <tr>\n",
       "      <th>176540</th>\n",
       "      <td>1</td>\n",
       "      <td>2</td>\n",
       "      <td>0</td>\n",
       "      <td>I order 2 silver but like what you see in the ...</td>\n",
       "      <td>I order 2 silver but like what you see in the ...</td>\n",
       "      <td>21</td>\n",
       "      <td>0.994822</td>\n",
       "      <td>2</td>\n",
       "      <td>Positive</td>\n",
       "    </tr>\n",
       "    <tr>\n",
       "      <th>176541</th>\n",
       "      <td>1</td>\n",
       "      <td>4</td>\n",
       "      <td>2</td>\n",
       "      <td>This is a pretty little clutch, and extremely ...</td>\n",
       "      <td>Pretty but not perfect</td>\n",
       "      <td>204</td>\n",
       "      <td>0.694117</td>\n",
       "      <td>2</td>\n",
       "      <td>Positive</td>\n",
       "    </tr>\n",
       "    <tr>\n",
       "      <th>176542</th>\n",
       "      <td>1</td>\n",
       "      <td>4</td>\n",
       "      <td>2</td>\n",
       "      <td>Very beautiful purse but not very big.  My iPh...</td>\n",
       "      <td>Very beautiful purse but not very big</td>\n",
       "      <td>22</td>\n",
       "      <td>-0.998961</td>\n",
       "      <td>0</td>\n",
       "      <td>Negative</td>\n",
       "    </tr>\n",
       "    <tr>\n",
       "      <th>176543</th>\n",
       "      <td>1</td>\n",
       "      <td>5</td>\n",
       "      <td>2</td>\n",
       "      <td>I just received this today and I love it! I am...</td>\n",
       "      <td>Very cute fancy little purse.</td>\n",
       "      <td>107</td>\n",
       "      <td>0.989915</td>\n",
       "      <td>2</td>\n",
       "      <td>Positive</td>\n",
       "    </tr>\n",
       "    <tr>\n",
       "      <th>176544</th>\n",
       "      <td>1</td>\n",
       "      <td>3</td>\n",
       "      <td>1</td>\n",
       "      <td>Beautiful color.  Orange panels are longer tha...</td>\n",
       "      <td>Oddly cut</td>\n",
       "      <td>9</td>\n",
       "      <td>0.999552</td>\n",
       "      <td>2</td>\n",
       "      <td>Positive</td>\n",
       "    </tr>\n",
       "    <tr>\n",
       "      <th>176545</th>\n",
       "      <td>1</td>\n",
       "      <td>1</td>\n",
       "      <td>0</td>\n",
       "      <td>Not what it looks like.  Poor quality, especia...</td>\n",
       "      <td>Returning it</td>\n",
       "      <td>10</td>\n",
       "      <td>-0.999815</td>\n",
       "      <td>0</td>\n",
       "      <td>Negative</td>\n",
       "    </tr>\n",
       "    <tr>\n",
       "      <th>176546</th>\n",
       "      <td>1</td>\n",
       "      <td>3</td>\n",
       "      <td>1</td>\n",
       "      <td>The dress is sooo cute, but it didn't come wit...</td>\n",
       "      <td>No belt, a little to small</td>\n",
       "      <td>93</td>\n",
       "      <td>-0.993836</td>\n",
       "      <td>0</td>\n",
       "      <td>Negative</td>\n",
       "    </tr>\n",
       "    <tr>\n",
       "      <th>176547</th>\n",
       "      <td>1</td>\n",
       "      <td>5</td>\n",
       "      <td>2</td>\n",
       "      <td>Love it runs a lil small</td>\n",
       "      <td></td>\n",
       "      <td>6</td>\n",
       "      <td>0.999810</td>\n",
       "      <td>2</td>\n",
       "      <td>Positive</td>\n",
       "    </tr>\n",
       "    <tr>\n",
       "      <th>176548</th>\n",
       "      <td>1</td>\n",
       "      <td>4</td>\n",
       "      <td>2</td>\n",
       "      <td>Cute summer dress.</td>\n",
       "      <td></td>\n",
       "      <td>3</td>\n",
       "      <td>0.999881</td>\n",
       "      <td>2</td>\n",
       "      <td>Positive</td>\n",
       "    </tr>\n",
       "    <tr>\n",
       "      <th>176549</th>\n",
       "      <td>1</td>\n",
       "      <td>5</td>\n",
       "      <td>2</td>\n",
       "      <td>Perefct for my daughter</td>\n",
       "      <td></td>\n",
       "      <td>4</td>\n",
       "      <td>-0.937922</td>\n",
       "      <td>0</td>\n",
       "      <td>Negative</td>\n",
       "    </tr>\n",
       "  </tbody>\n",
       "</table>\n",
       "</div>"
      ],
      "text/plain": [
       "        category_id  overall  star_sentiment  \\\n",
       "176525            1        1               0   \n",
       "176526            1        3               1   \n",
       "176527            1        5               2   \n",
       "176528            1        5               2   \n",
       "176529            1        1               0   \n",
       "176530            1        1               0   \n",
       "176531            1        5               2   \n",
       "176532            1        5               2   \n",
       "176533            1        5               2   \n",
       "176534            1        5               2   \n",
       "176535            1        4               2   \n",
       "176536            1        5               2   \n",
       "176537            1        5               2   \n",
       "176538            1        5               2   \n",
       "176539            1        5               2   \n",
       "176540            1        2               0   \n",
       "176541            1        4               2   \n",
       "176542            1        4               2   \n",
       "176543            1        5               2   \n",
       "176544            1        3               1   \n",
       "176545            1        1               0   \n",
       "176546            1        3               1   \n",
       "176547            1        5               2   \n",
       "176548            1        4               2   \n",
       "176549            1        5               2   \n",
       "\n",
       "                                               reviewText  \\\n",
       "176525                                              Small   \n",
       "176526  It's an elastic waistband with vertical strips...   \n",
       "176527  I purchased size large.  I am 5'10\" with a 32\"...   \n",
       "176528  Love that it is long and flowy. You can wear i...   \n",
       "176529  Hate it!! It is not as big and full.  Like the...   \n",
       "176530  It's a beautiful skirt but is way small. I got...   \n",
       "176531  Looks like it cost more than I spent.  It mana...   \n",
       "176532  Perfect size - Beautiful purse that I used for...   \n",
       "176533  The bag is stunning. Two separate straps for c...   \n",
       "176534  OMG!  I love this purse!  I was a little worri...   \n",
       "176535  The bag is lovely. You can carry glasses and k...   \n",
       "176536  Very shiny and sparkly. Beautiful and classy l...   \n",
       "176537  well its beautiful bag but it's small for my p...   \n",
       "176538  I love it!!! This is even more elegant than it...   \n",
       "176539  Nice bag, a tad on the bright side, good for b...   \n",
       "176540  I order 2 silver but like what you see in the ...   \n",
       "176541  This is a pretty little clutch, and extremely ...   \n",
       "176542  Very beautiful purse but not very big.  My iPh...   \n",
       "176543  I just received this today and I love it! I am...   \n",
       "176544  Beautiful color.  Orange panels are longer tha...   \n",
       "176545  Not what it looks like.  Poor quality, especia...   \n",
       "176546  The dress is sooo cute, but it didn't come wit...   \n",
       "176547                           Love it runs a lil small   \n",
       "176548                                 Cute summer dress.   \n",
       "176549                            Perefct for my daughter   \n",
       "\n",
       "                                                  summary  num_words  \\\n",
       "176525                                                             1   \n",
       "176526      It's just ok. There is no \"tie top\" or split.         22   \n",
       "176527     The length was perfect, just down to my ankles         75   \n",
       "176528                     Love that it is long and flowy         21   \n",
       "176529                                                            16   \n",
       "176530                          skirt not worth the money         46   \n",
       "176531  Absolutely beautiful and stunning little eveni...         52   \n",
       "176532                                        Great value         21   \n",
       "176533                             The Glamourous Peacock         37   \n",
       "176534                                           Perfect!         45   \n",
       "176535                      lovely, practical evening bag         46   \n",
       "176536             Beautiful and classy looking in person         14   \n",
       "176537                                Beautiful but small         29   \n",
       "176538                             Beautiful and Sparkly!         29   \n",
       "176539                 Nice bag, a tad on the bright side         19   \n",
       "176540  I order 2 silver but like what you see in the ...         21   \n",
       "176541                             Pretty but not perfect        204   \n",
       "176542              Very beautiful purse but not very big         22   \n",
       "176543                      Very cute fancy little purse.        107   \n",
       "176544                                          Oddly cut          9   \n",
       "176545                                       Returning it         10   \n",
       "176546                         No belt, a little to small         93   \n",
       "176547                                                             6   \n",
       "176548                                                             3   \n",
       "176549                                                             4   \n",
       "\n",
       "        polarity class class_text  \n",
       "176525 -0.996106     0   Negative  \n",
       "176526 -0.852520     0   Negative  \n",
       "176527  0.999314     2   Positive  \n",
       "176528  0.999852     2   Positive  \n",
       "176529 -0.999822     0   Negative  \n",
       "176530 -0.998091     0   Negative  \n",
       "176531 -0.994881     0   Negative  \n",
       "176532  0.999833     2   Positive  \n",
       "176533  0.999731     2   Positive  \n",
       "176534  0.999717     2   Positive  \n",
       "176535  0.969380     2   Positive  \n",
       "176536  0.999885     2   Positive  \n",
       "176537  0.521213     2   Positive  \n",
       "176538  0.999882     2   Positive  \n",
       "176539  0.999363     2   Positive  \n",
       "176540  0.994822     2   Positive  \n",
       "176541  0.694117     2   Positive  \n",
       "176542 -0.998961     0   Negative  \n",
       "176543  0.989915     2   Positive  \n",
       "176544  0.999552     2   Positive  \n",
       "176545 -0.999815     0   Negative  \n",
       "176546 -0.993836     0   Negative  \n",
       "176547  0.999810     2   Positive  \n",
       "176548  0.999881     2   Positive  \n",
       "176549 -0.937922     0   Negative  "
      ]
     },
     "execution_count": 86,
     "metadata": {},
     "output_type": "execute_result"
    }
   ],
   "source": [
    "df"
   ]
  },
  {
   "cell_type": "code",
   "execution_count": null,
   "metadata": {},
   "outputs": [],
   "source": []
  },
  {
   "cell_type": "code",
   "execution_count": null,
   "metadata": {},
   "outputs": [],
   "source": []
  },
  {
   "cell_type": "code",
   "execution_count": null,
   "metadata": {},
   "outputs": [],
   "source": []
  },
  {
   "cell_type": "code",
   "execution_count": null,
   "metadata": {},
   "outputs": [],
   "source": []
  },
  {
   "cell_type": "code",
   "execution_count": null,
   "metadata": {},
   "outputs": [],
   "source": []
  },
  {
   "cell_type": "code",
   "execution_count": null,
   "metadata": {},
   "outputs": [],
   "source": []
  },
  {
   "cell_type": "code",
   "execution_count": null,
   "metadata": {},
   "outputs": [],
   "source": []
  },
  {
   "cell_type": "code",
   "execution_count": null,
   "metadata": {},
   "outputs": [],
   "source": []
  },
  {
   "cell_type": "code",
   "execution_count": null,
   "metadata": {},
   "outputs": [],
   "source": []
  },
  {
   "cell_type": "markdown",
   "metadata": {},
   "source": [
    "## Train-Test Split"
   ]
  },
  {
   "cell_type": "code",
   "execution_count": 6,
   "metadata": {},
   "outputs": [],
   "source": [
    "from sklearn.model_selection import train_test_split"
   ]
  },
  {
   "cell_type": "code",
   "execution_count": 7,
   "metadata": {},
   "outputs": [],
   "source": [
    "train, test = train_test_split(df[\"reviewText\"], test_size=0.2, random_state=42, shuffle=True)"
   ]
  },
  {
   "cell_type": "markdown",
   "metadata": {},
   "source": [
    "## Save reviews to text format"
   ]
  },
  {
   "cell_type": "code",
   "execution_count": 8,
   "metadata": {},
   "outputs": [],
   "source": [
    "save_dir = \"data/amazon\"\n",
    "\n",
    "train_file = \"Prime_Pantry.reviewText.train.txt\"\n",
    "test_file = \"Prime_Pantry.reviewText.test.txt\"\n",
    "\n",
    "train_path = os.path.join(save_dir, train_file)\n",
    "test_path = os.path.join(save_dir, test_file)\n",
    "\n",
    "train.to_csv(train_path, header=None, index=None, sep=' ')\n",
    "test.to_csv(test_path, header=None, index=None, sep=' ')"
   ]
  },
  {
   "cell_type": "markdown",
   "metadata": {},
   "source": [
    "# Pipeline"
   ]
  },
  {
   "cell_type": "code",
   "execution_count": 9,
   "metadata": {},
   "outputs": [],
   "source": [
    "from transformers import pipeline"
   ]
  },
  {
   "cell_type": "code",
   "execution_count": 10,
   "metadata": {},
   "outputs": [],
   "source": [
    "classifier = pipeline('sentiment-analysis')"
   ]
  },
  {
   "cell_type": "code",
   "execution_count": 92,
   "metadata": {},
   "outputs": [
    {
     "data": {
      "text/html": [
       "<div>\n",
       "<style scoped>\n",
       "    .dataframe tbody tr th:only-of-type {\n",
       "        vertical-align: middle;\n",
       "    }\n",
       "\n",
       "    .dataframe tbody tr th {\n",
       "        vertical-align: top;\n",
       "    }\n",
       "\n",
       "    .dataframe thead th {\n",
       "        text-align: right;\n",
       "    }\n",
       "</style>\n",
       "<table border=\"1\" class=\"dataframe\">\n",
       "  <thead>\n",
       "    <tr style=\"text-align: right;\">\n",
       "      <th></th>\n",
       "      <th>overall</th>\n",
       "      <th>verified</th>\n",
       "      <th>reviewTime</th>\n",
       "      <th>reviewerID</th>\n",
       "      <th>asin</th>\n",
       "      <th>reviewerName</th>\n",
       "      <th>reviewText</th>\n",
       "      <th>summary</th>\n",
       "      <th>unixReviewTime</th>\n",
       "      <th>vote</th>\n",
       "    </tr>\n",
       "  </thead>\n",
       "  <tbody>\n",
       "    <tr>\n",
       "      <th>0</th>\n",
       "      <td>1.0</td>\n",
       "      <td>False</td>\n",
       "      <td>12 11, 2015</td>\n",
       "      <td>A27BTSGLXK2C5K</td>\n",
       "      <td>B017O9P72A</td>\n",
       "      <td>Jacob M. Wessler</td>\n",
       "      <td>Alexa is not able to control my lights. If I a...</td>\n",
       "      <td>VERY Buggy, doesn't work.</td>\n",
       "      <td>1449792000</td>\n",
       "      <td></td>\n",
       "    </tr>\n",
       "    <tr>\n",
       "      <th>1</th>\n",
       "      <td>4.0</td>\n",
       "      <td>False</td>\n",
       "      <td>12 8, 2015</td>\n",
       "      <td>A27ZJ1NCBFP1HZ</td>\n",
       "      <td>B017O9P72A</td>\n",
       "      <td>Greg</td>\n",
       "      <td>Alexa works great for me so far, but I'm also ...</td>\n",
       "      <td>So Far So Good</td>\n",
       "      <td>1449532800</td>\n",
       "      <td>5</td>\n",
       "    </tr>\n",
       "    <tr>\n",
       "      <th>2</th>\n",
       "      <td>1.0</td>\n",
       "      <td>False</td>\n",
       "      <td>12 7, 2015</td>\n",
       "      <td>ACCQIOZMFN4UK</td>\n",
       "      <td>B017O9P72A</td>\n",
       "      <td>Da-Gr8-1</td>\n",
       "      <td>Weak!!\\n\\nAlexa doesn't even recognize the nam...</td>\n",
       "      <td>Time waster</td>\n",
       "      <td>1449446400</td>\n",
       "      <td>11</td>\n",
       "    </tr>\n",
       "    <tr>\n",
       "      <th>3</th>\n",
       "      <td>2.0</td>\n",
       "      <td>False</td>\n",
       "      <td>12 5, 2015</td>\n",
       "      <td>A3KUPJ396OQF78</td>\n",
       "      <td>B017O9P72A</td>\n",
       "      <td>Larry Russlin</td>\n",
       "      <td>Can only control one of two bulbs from one of ...</td>\n",
       "      <td>Buggy</td>\n",
       "      <td>1449273600</td>\n",
       "      <td></td>\n",
       "    </tr>\n",
       "    <tr>\n",
       "      <th>4</th>\n",
       "      <td>1.0</td>\n",
       "      <td>False</td>\n",
       "      <td>02 2, 2018</td>\n",
       "      <td>A1U1RE1ZI19E1H</td>\n",
       "      <td>B017O9P72A</td>\n",
       "      <td>Rebekah</td>\n",
       "      <td>this worked great then randomly stopped. pleas...</td>\n",
       "      <td>stopped working</td>\n",
       "      <td>1517529600</td>\n",
       "      <td>2</td>\n",
       "    </tr>\n",
       "    <tr>\n",
       "      <th>...</th>\n",
       "      <td>...</td>\n",
       "      <td>...</td>\n",
       "      <td>...</td>\n",
       "      <td>...</td>\n",
       "      <td>...</td>\n",
       "      <td>...</td>\n",
       "      <td>...</td>\n",
       "      <td>...</td>\n",
       "      <td>...</td>\n",
       "      <td>...</td>\n",
       "    </tr>\n",
       "    <tr>\n",
       "      <th>996</th>\n",
       "      <td>5.0</td>\n",
       "      <td>False</td>\n",
       "      <td>07 6, 2017</td>\n",
       "      <td>A2Q47Z4IJPFZRW</td>\n",
       "      <td>B017OBSCOS</td>\n",
       "      <td>Jim Conrad</td>\n",
       "      <td>Although Alexa doesn't always get the right wo...</td>\n",
       "      <td>Wonderful wordsmith game</td>\n",
       "      <td>1499299200</td>\n",
       "      <td></td>\n",
       "    </tr>\n",
       "    <tr>\n",
       "      <th>997</th>\n",
       "      <td>5.0</td>\n",
       "      <td>False</td>\n",
       "      <td>07 5, 2017</td>\n",
       "      <td>A2UUS1TBJFXV2L</td>\n",
       "      <td>B017OBSCOS</td>\n",
       "      <td>Nick DeTroia</td>\n",
       "      <td>Great game, helps with expanding vocabulary an...</td>\n",
       "      <td>Awesome game</td>\n",
       "      <td>1499212800</td>\n",
       "      <td></td>\n",
       "    </tr>\n",
       "    <tr>\n",
       "      <th>998</th>\n",
       "      <td>4.0</td>\n",
       "      <td>False</td>\n",
       "      <td>07 3, 2017</td>\n",
       "      <td>A3G90J2GEGDVFC</td>\n",
       "      <td>B017OBSCOS</td>\n",
       "      <td>Akshaya Janardhanan</td>\n",
       "      <td>Keeps everyone entertained. A few times it doe...</td>\n",
       "      <td>Fun app</td>\n",
       "      <td>1499040000</td>\n",
       "      <td></td>\n",
       "    </tr>\n",
       "    <tr>\n",
       "      <th>999</th>\n",
       "      <td>2.0</td>\n",
       "      <td>False</td>\n",
       "      <td>07 3, 2017</td>\n",
       "      <td>A2JJF4WXHFBRIT</td>\n",
       "      <td>B017OBSCOS</td>\n",
       "      <td>Condo King</td>\n",
       "      <td>Needs work. Fun when it does work.</td>\n",
       "      <td>Gets alot of the words I say wrong. I repeat o...</td>\n",
       "      <td>1499040000</td>\n",
       "      <td></td>\n",
       "    </tr>\n",
       "    <tr>\n",
       "      <th>1000</th>\n",
       "      <td>3.0</td>\n",
       "      <td>False</td>\n",
       "      <td>07 2, 2017</td>\n",
       "      <td>A3JID18JKTMEXX</td>\n",
       "      <td>B017OBSCOS</td>\n",
       "      <td>Jessica L. Lemke</td>\n",
       "      <td>G, y, d, and n/m words won't pick up. Good luc...</td>\n",
       "      <td>Poor diction</td>\n",
       "      <td>1498953600</td>\n",
       "      <td></td>\n",
       "    </tr>\n",
       "  </tbody>\n",
       "</table>\n",
       "<p>1001 rows × 10 columns</p>\n",
       "</div>"
      ],
      "text/plain": [
       "      overall  verified   reviewTime      reviewerID        asin  \\\n",
       "0         1.0     False  12 11, 2015  A27BTSGLXK2C5K  B017O9P72A   \n",
       "1         4.0     False   12 8, 2015  A27ZJ1NCBFP1HZ  B017O9P72A   \n",
       "2         1.0     False   12 7, 2015   ACCQIOZMFN4UK  B017O9P72A   \n",
       "3         2.0     False   12 5, 2015  A3KUPJ396OQF78  B017O9P72A   \n",
       "4         1.0     False   02 2, 2018  A1U1RE1ZI19E1H  B017O9P72A   \n",
       "...       ...       ...          ...             ...         ...   \n",
       "996       5.0     False   07 6, 2017  A2Q47Z4IJPFZRW  B017OBSCOS   \n",
       "997       5.0     False   07 5, 2017  A2UUS1TBJFXV2L  B017OBSCOS   \n",
       "998       4.0     False   07 3, 2017  A3G90J2GEGDVFC  B017OBSCOS   \n",
       "999       2.0     False   07 3, 2017  A2JJF4WXHFBRIT  B017OBSCOS   \n",
       "1000      3.0     False   07 2, 2017  A3JID18JKTMEXX  B017OBSCOS   \n",
       "\n",
       "             reviewerName                                         reviewText  \\\n",
       "0        Jacob M. Wessler  Alexa is not able to control my lights. If I a...   \n",
       "1                    Greg  Alexa works great for me so far, but I'm also ...   \n",
       "2                Da-Gr8-1  Weak!!\\n\\nAlexa doesn't even recognize the nam...   \n",
       "3           Larry Russlin  Can only control one of two bulbs from one of ...   \n",
       "4                 Rebekah  this worked great then randomly stopped. pleas...   \n",
       "...                   ...                                                ...   \n",
       "996            Jim Conrad  Although Alexa doesn't always get the right wo...   \n",
       "997          Nick DeTroia  Great game, helps with expanding vocabulary an...   \n",
       "998   Akshaya Janardhanan  Keeps everyone entertained. A few times it doe...   \n",
       "999            Condo King                 Needs work. Fun when it does work.   \n",
       "1000     Jessica L. Lemke  G, y, d, and n/m words won't pick up. Good luc...   \n",
       "\n",
       "                                                summary  unixReviewTime vote  \n",
       "0                             VERY Buggy, doesn't work.      1449792000       \n",
       "1                                        So Far So Good      1449532800    5  \n",
       "2                                           Time waster      1449446400   11  \n",
       "3                                                 Buggy      1449273600       \n",
       "4                                       stopped working      1517529600    2  \n",
       "...                                                 ...             ...  ...  \n",
       "996                            Wonderful wordsmith game      1499299200       \n",
       "997                                        Awesome game      1499212800       \n",
       "998                                             Fun app      1499040000       \n",
       "999   Gets alot of the words I say wrong. I repeat o...      1499040000       \n",
       "1000                                       Poor diction      1498953600       \n",
       "\n",
       "[1001 rows x 10 columns]"
      ]
     },
     "execution_count": 92,
     "metadata": {},
     "output_type": "execute_result"
    }
   ],
   "source": [
    "df"
   ]
  },
  {
   "cell_type": "code",
   "execution_count": 45,
   "metadata": {
    "scrolled": true
   },
   "outputs": [
    {
     "data": {
      "text/html": [
       "<div>\n",
       "<style scoped>\n",
       "    .dataframe tbody tr th:only-of-type {\n",
       "        vertical-align: middle;\n",
       "    }\n",
       "\n",
       "    .dataframe tbody tr th {\n",
       "        vertical-align: top;\n",
       "    }\n",
       "\n",
       "    .dataframe thead th {\n",
       "        text-align: right;\n",
       "    }\n",
       "</style>\n",
       "<table border=\"1\" class=\"dataframe\">\n",
       "  <thead>\n",
       "    <tr style=\"text-align: right;\">\n",
       "      <th></th>\n",
       "      <th>reviewText</th>\n",
       "      <th>summary</th>\n",
       "      <th>overall</th>\n",
       "    </tr>\n",
       "  </thead>\n",
       "  <tbody>\n",
       "    <tr>\n",
       "      <th>0</th>\n",
       "      <td>Alexa is not able to control my lights. If I a...</td>\n",
       "      <td>VERY Buggy, doesn't work.</td>\n",
       "      <td>1.0</td>\n",
       "    </tr>\n",
       "    <tr>\n",
       "      <th>1</th>\n",
       "      <td>Alexa works great for me so far, but I'm also ...</td>\n",
       "      <td>So Far So Good</td>\n",
       "      <td>4.0</td>\n",
       "    </tr>\n",
       "    <tr>\n",
       "      <th>2</th>\n",
       "      <td>Weak!!\\n\\nAlexa doesn't even recognize the nam...</td>\n",
       "      <td>Time waster</td>\n",
       "      <td>1.0</td>\n",
       "    </tr>\n",
       "    <tr>\n",
       "      <th>3</th>\n",
       "      <td>Can only control one of two bulbs from one of ...</td>\n",
       "      <td>Buggy</td>\n",
       "      <td>2.0</td>\n",
       "    </tr>\n",
       "    <tr>\n",
       "      <th>4</th>\n",
       "      <td>this worked great then randomly stopped. pleas...</td>\n",
       "      <td>stopped working</td>\n",
       "      <td>1.0</td>\n",
       "    </tr>\n",
       "    <tr>\n",
       "      <th>5</th>\n",
       "      <td>Great skill</td>\n",
       "      <td>Great</td>\n",
       "      <td>5.0</td>\n",
       "    </tr>\n",
       "    <tr>\n",
       "      <th>6</th>\n",
       "      <td>Pretty crappy. Won&amp;rsquo;t connect with Alexis</td>\n",
       "      <td>Returning to</td>\n",
       "      <td>1.0</td>\n",
       "    </tr>\n",
       "    <tr>\n",
       "      <th>7</th>\n",
       "      <td>Not happy. Can not connect to Alexa regardless.</td>\n",
       "      <td>Can not connect to ECHO</td>\n",
       "      <td>1.0</td>\n",
       "    </tr>\n",
       "    <tr>\n",
       "      <th>8</th>\n",
       "      <td>Can not connect a hue lights to Alexa. Linked ...</td>\n",
       "      <td>Connecting is a no go</td>\n",
       "      <td>1.0</td>\n",
       "    </tr>\n",
       "    <tr>\n",
       "      <th>9</th>\n",
       "      <td>The service works with google home, but doesn'...</td>\n",
       "      <td>Does not work</td>\n",
       "      <td>1.0</td>\n",
       "    </tr>\n",
       "  </tbody>\n",
       "</table>\n",
       "</div>"
      ],
      "text/plain": [
       "                                          reviewText  \\\n",
       "0  Alexa is not able to control my lights. If I a...   \n",
       "1  Alexa works great for me so far, but I'm also ...   \n",
       "2  Weak!!\\n\\nAlexa doesn't even recognize the nam...   \n",
       "3  Can only control one of two bulbs from one of ...   \n",
       "4  this worked great then randomly stopped. pleas...   \n",
       "5                                        Great skill   \n",
       "6     Pretty crappy. Won&rsquo;t connect with Alexis   \n",
       "7    Not happy. Can not connect to Alexa regardless.   \n",
       "8  Can not connect a hue lights to Alexa. Linked ...   \n",
       "9  The service works with google home, but doesn'...   \n",
       "\n",
       "                     summary  overall  \n",
       "0  VERY Buggy, doesn't work.      1.0  \n",
       "1             So Far So Good      4.0  \n",
       "2                Time waster      1.0  \n",
       "3                      Buggy      2.0  \n",
       "4            stopped working      1.0  \n",
       "5                      Great      5.0  \n",
       "6               Returning to      1.0  \n",
       "7    Can not connect to ECHO      1.0  \n",
       "8      Connecting is a no go      1.0  \n",
       "9              Does not work      1.0  "
      ]
     },
     "execution_count": 45,
     "metadata": {},
     "output_type": "execute_result"
    }
   ],
   "source": [
    "df[['reviewText','summary', 'overall']][:10]"
   ]
  },
  {
   "cell_type": "code",
   "execution_count": 56,
   "metadata": {},
   "outputs": [
    {
     "data": {
      "text/plain": [
       "0       VERY Buggy, doesn't work.. Alexa is not able t...\n",
       "1       So Far So Good. Alexa works great for me so fa...\n",
       "2       Time waster. Weak!!\\n\\nAlexa doesn't even reco...\n",
       "3       Buggy. Can only control one of two bulbs from ...\n",
       "4       stopped working. this worked great then random...\n",
       "                              ...                        \n",
       "996     Wonderful wordsmith game. Although Alexa doesn...\n",
       "997     Awesome game. Great game, helps with expanding...\n",
       "998     Fun app. Keeps everyone entertained. A few tim...\n",
       "999     Gets alot of the words I say wrong. I repeat o...\n",
       "1000    Poor diction. G, y, d, and n/m words won't pic...\n",
       "Length: 1001, dtype: object"
      ]
     },
     "execution_count": 56,
     "metadata": {},
     "output_type": "execute_result"
    }
   ],
   "source": [
    "df['summary'] + '. ' + df['reviewText']"
   ]
  },
  {
   "cell_type": "code",
   "execution_count": 63,
   "metadata": {},
   "outputs": [],
   "source": [
    "inputs = list(df['reviewText'] + '. ' + df['summary'])[:10]"
   ]
  },
  {
   "cell_type": "code",
   "execution_count": 64,
   "metadata": {},
   "outputs": [
    {
     "data": {
      "text/plain": [
       "'Alexa works great for me so far, but I\\'m also only controlling a single bulb at the moment. Turning on/off, changing colors and adjusting brightness are all easy and quick. That being said, I\\'m expecting complications as I add more bulbs (hope for the best prepare for the worst, right?)\\n\\nI\\'d speculate that some other users\\' frustrations might stem from Alexa not recognizing their bulb or room names. After simplifying my bulb name to \\'Lamp\\' and listing it under a Living Room group (within the LIFx app), I\\'ve been able to address it by either category pretty consistently.\\n\"Turn on/off living room lights.\"\\n\"Change lamp light to [color]\"\\n\"Dim living room lights to [X]%\"\\n\\nLike any new tech, you can expect growing pains and bugs early on. Be patient. This skill isn\\'t perfect by any means, but I\\'d say it\\'s off to a decent start. So Far So Good'"
      ]
     },
     "execution_count": 64,
     "metadata": {},
     "output_type": "execute_result"
    }
   ],
   "source": [
    "inputs[1]"
   ]
  },
  {
   "cell_type": "code",
   "execution_count": 65,
   "metadata": {},
   "outputs": [],
   "source": [
    "sentiments = classifier(inputs)"
   ]
  },
  {
   "cell_type": "code",
   "execution_count": 66,
   "metadata": {},
   "outputs": [],
   "source": [
    "# for sentence, sentiment in zip(inputs, sentiments):\n",
    "#     print(f\"{'+' if sentiment['label'] == 'POSITIVE' else '-'} {round(sentiment['score'], 4)}: {sentence} \")"
   ]
  },
  {
   "cell_type": "code",
   "execution_count": 67,
   "metadata": {},
   "outputs": [],
   "source": [
    "df_results = pd.DataFrame(sentiments)\n",
    "df_results['sentiment'] = np.where(df_results['label'] == 'POSITIVE', df_results['score'], -1.0 * df_results['score'])\n",
    "\n",
    "cut_class = np.arange(1,6) # mimics stars, but really should be np.arange(5)\n",
    "cut_class_text = [\"Terrible\", \"Negative\", \"Neutral\", \"Positive\", \"Excellent\"]\n",
    "cut_bins = np.linspace(\n",
    "    start = -1, \n",
    "    stop = 1,\n",
    "    num = 6\n",
    ")\n",
    "cut_intervals = pd.interval_range(\n",
    "    start = -1, \n",
    "    end = 1,\n",
    "    periods = 5\n",
    ")\n",
    "\n",
    "df_results['interval']   = pd.cut(df_results['sentiment'], bins=cut_intervals)\n",
    "df_results['class']      = pd.cut(df_results['sentiment'], bins=cut_bins, labels=cut_class)\n",
    "df_results['class_text'] = pd.cut(df_results['sentiment'], bins=cut_bins, labels=cut_class_text)"
   ]
  },
  {
   "cell_type": "code",
   "execution_count": 68,
   "metadata": {
    "scrolled": true
   },
   "outputs": [
    {
     "data": {
      "text/html": [
       "<div>\n",
       "<style scoped>\n",
       "    .dataframe tbody tr th:only-of-type {\n",
       "        vertical-align: middle;\n",
       "    }\n",
       "\n",
       "    .dataframe tbody tr th {\n",
       "        vertical-align: top;\n",
       "    }\n",
       "\n",
       "    .dataframe thead th {\n",
       "        text-align: right;\n",
       "    }\n",
       "</style>\n",
       "<table border=\"1\" class=\"dataframe\">\n",
       "  <thead>\n",
       "    <tr style=\"text-align: right;\">\n",
       "      <th></th>\n",
       "      <th>label</th>\n",
       "      <th>score</th>\n",
       "      <th>sentiment</th>\n",
       "      <th>interval</th>\n",
       "      <th>class</th>\n",
       "      <th>class_text</th>\n",
       "    </tr>\n",
       "  </thead>\n",
       "  <tbody>\n",
       "    <tr>\n",
       "      <th>0</th>\n",
       "      <td>NEGATIVE</td>\n",
       "      <td>0.999785</td>\n",
       "      <td>-0.999785</td>\n",
       "      <td>(-1.0, -0.6]</td>\n",
       "      <td>1</td>\n",
       "      <td>Terrible</td>\n",
       "    </tr>\n",
       "    <tr>\n",
       "      <th>1</th>\n",
       "      <td>POSITIVE</td>\n",
       "      <td>0.939940</td>\n",
       "      <td>0.939940</td>\n",
       "      <td>(0.6000000000000001, 1.0]</td>\n",
       "      <td>5</td>\n",
       "      <td>Excellent</td>\n",
       "    </tr>\n",
       "    <tr>\n",
       "      <th>2</th>\n",
       "      <td>NEGATIVE</td>\n",
       "      <td>0.999819</td>\n",
       "      <td>-0.999819</td>\n",
       "      <td>(-1.0, -0.6]</td>\n",
       "      <td>1</td>\n",
       "      <td>Terrible</td>\n",
       "    </tr>\n",
       "    <tr>\n",
       "      <th>3</th>\n",
       "      <td>NEGATIVE</td>\n",
       "      <td>0.999513</td>\n",
       "      <td>-0.999513</td>\n",
       "      <td>(-1.0, -0.6]</td>\n",
       "      <td>1</td>\n",
       "      <td>Terrible</td>\n",
       "    </tr>\n",
       "    <tr>\n",
       "      <th>4</th>\n",
       "      <td>NEGATIVE</td>\n",
       "      <td>0.998790</td>\n",
       "      <td>-0.998790</td>\n",
       "      <td>(-1.0, -0.6]</td>\n",
       "      <td>1</td>\n",
       "      <td>Terrible</td>\n",
       "    </tr>\n",
       "    <tr>\n",
       "      <th>5</th>\n",
       "      <td>POSITIVE</td>\n",
       "      <td>0.999876</td>\n",
       "      <td>0.999876</td>\n",
       "      <td>(0.6000000000000001, 1.0]</td>\n",
       "      <td>5</td>\n",
       "      <td>Excellent</td>\n",
       "    </tr>\n",
       "    <tr>\n",
       "      <th>6</th>\n",
       "      <td>NEGATIVE</td>\n",
       "      <td>0.999337</td>\n",
       "      <td>-0.999337</td>\n",
       "      <td>(-1.0, -0.6]</td>\n",
       "      <td>1</td>\n",
       "      <td>Terrible</td>\n",
       "    </tr>\n",
       "    <tr>\n",
       "      <th>7</th>\n",
       "      <td>NEGATIVE</td>\n",
       "      <td>0.999773</td>\n",
       "      <td>-0.999773</td>\n",
       "      <td>(-1.0, -0.6]</td>\n",
       "      <td>1</td>\n",
       "      <td>Terrible</td>\n",
       "    </tr>\n",
       "    <tr>\n",
       "      <th>8</th>\n",
       "      <td>NEGATIVE</td>\n",
       "      <td>0.999263</td>\n",
       "      <td>-0.999263</td>\n",
       "      <td>(-1.0, -0.6]</td>\n",
       "      <td>1</td>\n",
       "      <td>Terrible</td>\n",
       "    </tr>\n",
       "    <tr>\n",
       "      <th>9</th>\n",
       "      <td>NEGATIVE</td>\n",
       "      <td>0.999730</td>\n",
       "      <td>-0.999730</td>\n",
       "      <td>(-1.0, -0.6]</td>\n",
       "      <td>1</td>\n",
       "      <td>Terrible</td>\n",
       "    </tr>\n",
       "  </tbody>\n",
       "</table>\n",
       "</div>"
      ],
      "text/plain": [
       "      label     score  sentiment                   interval class class_text\n",
       "0  NEGATIVE  0.999785  -0.999785               (-1.0, -0.6]     1   Terrible\n",
       "1  POSITIVE  0.939940   0.939940  (0.6000000000000001, 1.0]     5  Excellent\n",
       "2  NEGATIVE  0.999819  -0.999819               (-1.0, -0.6]     1   Terrible\n",
       "3  NEGATIVE  0.999513  -0.999513               (-1.0, -0.6]     1   Terrible\n",
       "4  NEGATIVE  0.998790  -0.998790               (-1.0, -0.6]     1   Terrible\n",
       "5  POSITIVE  0.999876   0.999876  (0.6000000000000001, 1.0]     5  Excellent\n",
       "6  NEGATIVE  0.999337  -0.999337               (-1.0, -0.6]     1   Terrible\n",
       "7  NEGATIVE  0.999773  -0.999773               (-1.0, -0.6]     1   Terrible\n",
       "8  NEGATIVE  0.999263  -0.999263               (-1.0, -0.6]     1   Terrible\n",
       "9  NEGATIVE  0.999730  -0.999730               (-1.0, -0.6]     1   Terrible"
      ]
     },
     "execution_count": 68,
     "metadata": {},
     "output_type": "execute_result"
    }
   ],
   "source": [
    "df_results"
   ]
  },
  {
   "cell_type": "code",
   "execution_count": 25,
   "metadata": {
    "scrolled": true
   },
   "outputs": [
    {
     "data": {
      "text/plain": [
       "1    9\n",
       "2    0\n",
       "3    0\n",
       "4    0\n",
       "5    1\n",
       "Name: class, dtype: int64"
      ]
     },
     "execution_count": 25,
     "metadata": {},
     "output_type": "execute_result"
    }
   ],
   "source": [
    "df_results['class'].value_counts(sort=False)"
   ]
  },
  {
   "cell_type": "markdown",
   "metadata": {},
   "source": [
    "# Tokenizer + Model"
   ]
  },
  {
   "cell_type": "code",
   "execution_count": 151,
   "metadata": {},
   "outputs": [],
   "source": [
    "import torch\n",
    "from transformers import AutoModel, AutoTokenizer, BertTokenizer"
   ]
  },
  {
   "cell_type": "code",
   "execution_count": 152,
   "metadata": {},
   "outputs": [],
   "source": [
    "# Store the model we want to use\n",
    "MODEL_NAME = \"distilbert-base-uncased\"\n",
    "\n",
    "# We need to create the model and tokenizer\n",
    "model = AutoModel.from_pretrained(MODEL_NAME)\n",
    "tokenizer = AutoTokenizer.from_pretrained(MODEL_NAME)"
   ]
  },
  {
   "cell_type": "code",
   "execution_count": 158,
   "metadata": {},
   "outputs": [
    {
     "data": {
      "text/plain": [
       "<transformers.tokenization_distilbert.DistilBertTokenizer at 0x20fb1006dc0>"
      ]
     },
     "execution_count": 158,
     "metadata": {},
     "output_type": "execute_result"
    }
   ],
   "source": [
    "tokenizer"
   ]
  },
  {
   "cell_type": "code",
   "execution_count": null,
   "metadata": {},
   "outputs": [],
   "source": []
  },
  {
   "cell_type": "code",
   "execution_count": null,
   "metadata": {},
   "outputs": [],
   "source": []
  },
  {
   "cell_type": "code",
   "execution_count": null,
   "metadata": {},
   "outputs": [],
   "source": []
  }
 ],
 "metadata": {
  "kernelspec": {
   "display_name": "Python 3",
   "language": "python",
   "name": "python3"
  },
  "language_info": {
   "codemirror_mode": {
    "name": "ipython",
    "version": 3
   },
   "file_extension": ".py",
   "mimetype": "text/x-python",
   "name": "python",
   "nbconvert_exporter": "python",
   "pygments_lexer": "ipython3",
   "version": "3.8.3"
  }
 },
 "nbformat": 4,
 "nbformat_minor": 4
}
