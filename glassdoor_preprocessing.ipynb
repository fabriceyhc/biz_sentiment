{
 "cells": [
  {
   "cell_type": "markdown",
   "metadata": {},
   "source": [
    "# Analyzing Sentiment in Glassdoor Employer Reviews"
   ]
  },
  {
   "cell_type": "code",
   "execution_count": 1,
   "metadata": {},
   "outputs": [],
   "source": [
    "import os\n",
    "import time\n",
    "import pandas as pd\n",
    "import numpy as np\n",
    "from tqdm.notebook import tqdm\n",
    "\n",
    "import torch\n",
    "\n",
    "import matplotlib.pyplot as plt\n",
    "%matplotlib inline"
   ]
  },
  {
   "cell_type": "markdown",
   "metadata": {},
   "source": [
    "# Load Data"
   ]
  },
  {
   "cell_type": "markdown",
   "metadata": {},
   "source": [
    "### Parquet File as DataFrame"
   ]
  },
  {
   "cell_type": "code",
   "execution_count": 3,
   "metadata": {},
   "outputs": [],
   "source": [
    "data_path = \"data/glassdoor/rev-anon.parquet\""
   ]
  },
  {
   "cell_type": "code",
   "execution_count": 4,
   "metadata": {},
   "outputs": [
    {
     "name": "stdout",
     "output_type": "stream",
     "text": [
      "Wall time: 25.6 s\n"
     ]
    }
   ],
   "source": [
    "%time df = pd.read_parquet(data_path)"
   ]
  },
  {
   "cell_type": "code",
   "execution_count": 5,
   "metadata": {},
   "outputs": [
    {
     "data": {
      "text/html": [
       "<div>\n",
       "<style scoped>\n",
       "    .dataframe tbody tr th:only-of-type {\n",
       "        vertical-align: middle;\n",
       "    }\n",
       "\n",
       "    .dataframe tbody tr th {\n",
       "        vertical-align: top;\n",
       "    }\n",
       "\n",
       "    .dataframe thead th {\n",
       "        text-align: right;\n",
       "    }\n",
       "</style>\n",
       "<table border=\"1\" class=\"dataframe\">\n",
       "  <thead>\n",
       "    <tr style=\"text-align: right;\">\n",
       "      <th></th>\n",
       "      <th>index</th>\n",
       "      <th>pros</th>\n",
       "      <th>cons</th>\n",
       "      <th>feedback</th>\n",
       "    </tr>\n",
       "  </thead>\n",
       "  <tbody>\n",
       "    <tr>\n",
       "      <th>0</th>\n",
       "      <td>1</td>\n",
       "      <td>The people to work with</td>\n",
       "      <td>11-14 hour shifts. And always understaff.</td>\n",
       "      <td>Hire more hardworking people and schedule fair...</td>\n",
       "    </tr>\n",
       "    <tr>\n",
       "      <th>1</th>\n",
       "      <td>2</td>\n",
       "      <td>A company in rapid growth and expansion</td>\n",
       "      <td>Extensive changes in upper level management ov...</td>\n",
       "      <td>Ensure a solid foundation of training, allowan...</td>\n",
       "    </tr>\n",
       "    <tr>\n",
       "      <th>2</th>\n",
       "      <td>3</td>\n",
       "      <td>Get to know the industry, profit margins, etc....</td>\n",
       "      <td>Very, very unorganized on every level, stock i...</td>\n",
       "      <td>Take care of your employees, better.</td>\n",
       "    </tr>\n",
       "    <tr>\n",
       "      <th>3</th>\n",
       "      <td>4</td>\n",
       "      <td>Friendly people, good company values</td>\n",
       "      <td>Layoff of long term employees - losing years o...</td>\n",
       "      <td>None</td>\n",
       "    </tr>\n",
       "    <tr>\n",
       "      <th>4</th>\n",
       "      <td>5</td>\n",
       "      <td>nice organized project, great boss.</td>\n",
       "      <td>none that i could see. mostly worked remote.</td>\n",
       "      <td>None</td>\n",
       "    </tr>\n",
       "    <tr>\n",
       "      <th>...</th>\n",
       "      <td>...</td>\n",
       "      <td>...</td>\n",
       "      <td>...</td>\n",
       "      <td>...</td>\n",
       "    </tr>\n",
       "    <tr>\n",
       "      <th>6754231</th>\n",
       "      <td>6754232</td>\n",
       "      <td>If you live in Galveston,  you'll be close to ...</td>\n",
       "      <td>Horrible place to work. They do not care about...</td>\n",
       "      <td>None. They will never improve.</td>\n",
       "    </tr>\n",
       "    <tr>\n",
       "      <th>6754232</th>\n",
       "      <td>6754233</td>\n",
       "      <td>good working environment and good insurance pa...</td>\n",
       "      <td>not flexible working hour,  needs a better man...</td>\n",
       "      <td>None</td>\n",
       "    </tr>\n",
       "    <tr>\n",
       "      <th>6754233</th>\n",
       "      <td>6754234</td>\n",
       "      <td>Small pockets of honest, hardworking employees...</td>\n",
       "      <td>Leadership is a train wreck. A lot of clique-i...</td>\n",
       "      <td>Realize that without the employees in all loca...</td>\n",
       "    </tr>\n",
       "    <tr>\n",
       "      <th>6754234</th>\n",
       "      <td>6754235</td>\n",
       "      <td>Good hard work and some very good people</td>\n",
       "      <td>Long hours with little compensation</td>\n",
       "      <td>None</td>\n",
       "    </tr>\n",
       "    <tr>\n",
       "      <th>6754235</th>\n",
       "      <td>6754236</td>\n",
       "      <td>Gained valuable experience in the field with p...</td>\n",
       "      <td>If you don't like working outside or getting d...</td>\n",
       "      <td>None</td>\n",
       "    </tr>\n",
       "  </tbody>\n",
       "</table>\n",
       "<p>6754236 rows × 4 columns</p>\n",
       "</div>"
      ],
      "text/plain": [
       "           index                                               pros  \\\n",
       "0              1                            The people to work with   \n",
       "1              2            A company in rapid growth and expansion   \n",
       "2              3  Get to know the industry, profit margins, etc....   \n",
       "3              4               Friendly people, good company values   \n",
       "4              5                nice organized project, great boss.   \n",
       "...          ...                                                ...   \n",
       "6754231  6754232  If you live in Galveston,  you'll be close to ...   \n",
       "6754232  6754233  good working environment and good insurance pa...   \n",
       "6754233  6754234  Small pockets of honest, hardworking employees...   \n",
       "6754234  6754235           Good hard work and some very good people   \n",
       "6754235  6754236  Gained valuable experience in the field with p...   \n",
       "\n",
       "                                                      cons  \\\n",
       "0                11-14 hour shifts. And always understaff.   \n",
       "1        Extensive changes in upper level management ov...   \n",
       "2        Very, very unorganized on every level, stock i...   \n",
       "3        Layoff of long term employees - losing years o...   \n",
       "4             none that i could see. mostly worked remote.   \n",
       "...                                                    ...   \n",
       "6754231  Horrible place to work. They do not care about...   \n",
       "6754232  not flexible working hour,  needs a better man...   \n",
       "6754233  Leadership is a train wreck. A lot of clique-i...   \n",
       "6754234                Long hours with little compensation   \n",
       "6754235  If you don't like working outside or getting d...   \n",
       "\n",
       "                                                  feedback  \n",
       "0        Hire more hardworking people and schedule fair...  \n",
       "1        Ensure a solid foundation of training, allowan...  \n",
       "2                     Take care of your employees, better.  \n",
       "3                                                     None  \n",
       "4                                                     None  \n",
       "...                                                    ...  \n",
       "6754231                     None. They will never improve.  \n",
       "6754232                                               None  \n",
       "6754233  Realize that without the employees in all loca...  \n",
       "6754234                                               None  \n",
       "6754235                                               None  \n",
       "\n",
       "[6754236 rows x 4 columns]"
      ]
     },
     "execution_count": 5,
     "metadata": {},
     "output_type": "execute_result"
    }
   ],
   "source": [
    "df"
   ]
  },
  {
   "cell_type": "code",
   "execution_count": 7,
   "metadata": {},
   "outputs": [
    {
     "data": {
      "text/plain": [
       "'Gained valuable experience in the field with products and customers. Really enjoyed being able to spend time with and learn from the higher ups in the company.'"
      ]
     },
     "execution_count": 7,
     "metadata": {},
     "output_type": "execute_result"
    }
   ],
   "source": [
    "df.iloc[6754235]['pros']"
   ]
  },
  {
   "cell_type": "code",
   "execution_count": 22,
   "metadata": {},
   "outputs": [],
   "source": [
    "# replace None with blank space in all columns\n",
    "df.fillna(\"\", inplace=True)"
   ]
  },
  {
   "cell_type": "code",
   "execution_count": 23,
   "metadata": {
    "scrolled": true
   },
   "outputs": [],
   "source": [
    "# replace newlines with periods since they nearly always indicate a new idea\n",
    "df.replace(r'\\n\\n',  '. ', regex=True, inplace=True)\n",
    "df.replace(r'\\r\\n',  '. ', regex=True, inplace=True)\n",
    "df.replace('(\\r|\\n)',  '. ', regex=True, inplace=True)\n",
    "df.replace(' - ',  ' ', inplace=True)\n",
    "df.replace('...',  '. ', inplace=True)\n",
    "df.replace('..',  '. ', inplace=True)\n",
    "df.replace('..',  '.', inplace=True)"
   ]
  },
  {
   "cell_type": "code",
   "execution_count": 49,
   "metadata": {},
   "outputs": [
    {
     "data": {
      "text/html": [
       "<div>\n",
       "<style scoped>\n",
       "    .dataframe tbody tr th:only-of-type {\n",
       "        vertical-align: middle;\n",
       "    }\n",
       "\n",
       "    .dataframe tbody tr th {\n",
       "        vertical-align: top;\n",
       "    }\n",
       "\n",
       "    .dataframe thead th {\n",
       "        text-align: right;\n",
       "    }\n",
       "</style>\n",
       "<table border=\"1\" class=\"dataframe\">\n",
       "  <thead>\n",
       "    <tr style=\"text-align: right;\">\n",
       "      <th></th>\n",
       "      <th>pros</th>\n",
       "      <th>cons</th>\n",
       "      <th>feedback</th>\n",
       "      <th>review_num</th>\n",
       "    </tr>\n",
       "  </thead>\n",
       "  <tbody>\n",
       "    <tr>\n",
       "      <th>0</th>\n",
       "      <td>[The people to work with]</td>\n",
       "      <td>[11-14 hour shifts., And always understaff.]</td>\n",
       "      <td>[Hire more hardworking people and schedule fai...</td>\n",
       "      <td>0</td>\n",
       "    </tr>\n",
       "    <tr>\n",
       "      <th>1</th>\n",
       "      <td>[A company in rapid growth and expansion]</td>\n",
       "      <td>[Extensive changes in upper level management o...</td>\n",
       "      <td>[Ensure a solid foundation of training, allowa...</td>\n",
       "      <td>1</td>\n",
       "    </tr>\n",
       "    <tr>\n",
       "      <th>2</th>\n",
       "      <td>[Get to know the industry, profit margins, etc...</td>\n",
       "      <td>[Very, very unorganized on every level, stock ...</td>\n",
       "      <td>[Take care of your employees, better.]</td>\n",
       "      <td>2</td>\n",
       "    </tr>\n",
       "    <tr>\n",
       "      <th>3</th>\n",
       "      <td>[Friendly people, good company values]</td>\n",
       "      <td>[Layoff of long term employees - losing years ...</td>\n",
       "      <td>[]</td>\n",
       "      <td>3</td>\n",
       "    </tr>\n",
       "    <tr>\n",
       "      <th>4</th>\n",
       "      <td>[nice organized project, great boss.]</td>\n",
       "      <td>[none that i could see., mostly worked remote.]</td>\n",
       "      <td>[]</td>\n",
       "      <td>4</td>\n",
       "    </tr>\n",
       "    <tr>\n",
       "      <th>...</th>\n",
       "      <td>...</td>\n",
       "      <td>...</td>\n",
       "      <td>...</td>\n",
       "      <td>...</td>\n",
       "    </tr>\n",
       "    <tr>\n",
       "      <th>6754231</th>\n",
       "      <td>[If you live in Galveston,  you'll be close to...</td>\n",
       "      <td>[Horrible place to work., They do not care abo...</td>\n",
       "      <td>[None., They will never improve.]</td>\n",
       "      <td>6754231</td>\n",
       "    </tr>\n",
       "    <tr>\n",
       "      <th>6754232</th>\n",
       "      <td>[good working environment and good insurance p...</td>\n",
       "      <td>[not flexible working hour,  needs a better ma...</td>\n",
       "      <td>[]</td>\n",
       "      <td>6754232</td>\n",
       "    </tr>\n",
       "    <tr>\n",
       "      <th>6754233</th>\n",
       "      <td>[Small pockets of honest, hardworking employee...</td>\n",
       "      <td>[Leadership is a train wreck., A lot of clique...</td>\n",
       "      <td>[Realize that without the employees in all loc...</td>\n",
       "      <td>6754233</td>\n",
       "    </tr>\n",
       "    <tr>\n",
       "      <th>6754234</th>\n",
       "      <td>[Good hard work and some very good people]</td>\n",
       "      <td>[Long hours with little compensation]</td>\n",
       "      <td>[]</td>\n",
       "      <td>6754234</td>\n",
       "    </tr>\n",
       "    <tr>\n",
       "      <th>6754235</th>\n",
       "      <td>[Gained valuable experience in the field with ...</td>\n",
       "      <td>[If you don't like working outside or getting ...</td>\n",
       "      <td>[]</td>\n",
       "      <td>6754235</td>\n",
       "    </tr>\n",
       "  </tbody>\n",
       "</table>\n",
       "<p>6754236 rows × 4 columns</p>\n",
       "</div>"
      ],
      "text/plain": [
       "                                                      pros  \\\n",
       "0                                [The people to work with]   \n",
       "1                [A company in rapid growth and expansion]   \n",
       "2        [Get to know the industry, profit margins, etc...   \n",
       "3                   [Friendly people, good company values]   \n",
       "4                    [nice organized project, great boss.]   \n",
       "...                                                    ...   \n",
       "6754231  [If you live in Galveston,  you'll be close to...   \n",
       "6754232  [good working environment and good insurance p...   \n",
       "6754233  [Small pockets of honest, hardworking employee...   \n",
       "6754234         [Good hard work and some very good people]   \n",
       "6754235  [Gained valuable experience in the field with ...   \n",
       "\n",
       "                                                      cons  \\\n",
       "0             [11-14 hour shifts., And always understaff.]   \n",
       "1        [Extensive changes in upper level management o...   \n",
       "2        [Very, very unorganized on every level, stock ...   \n",
       "3        [Layoff of long term employees - losing years ...   \n",
       "4          [none that i could see., mostly worked remote.]   \n",
       "...                                                    ...   \n",
       "6754231  [Horrible place to work., They do not care abo...   \n",
       "6754232  [not flexible working hour,  needs a better ma...   \n",
       "6754233  [Leadership is a train wreck., A lot of clique...   \n",
       "6754234              [Long hours with little compensation]   \n",
       "6754235  [If you don't like working outside or getting ...   \n",
       "\n",
       "                                                  feedback  review_num  \n",
       "0        [Hire more hardworking people and schedule fai...           0  \n",
       "1        [Ensure a solid foundation of training, allowa...           1  \n",
       "2                   [Take care of your employees, better.]           2  \n",
       "3                                                       []           3  \n",
       "4                                                       []           4  \n",
       "...                                                    ...         ...  \n",
       "6754231                  [None., They will never improve.]     6754231  \n",
       "6754232                                                 []     6754232  \n",
       "6754233  [Realize that without the employees in all loc...     6754233  \n",
       "6754234                                                 []     6754234  \n",
       "6754235                                                 []     6754235  \n",
       "\n",
       "[6754236 rows x 4 columns]"
      ]
     },
     "execution_count": 49,
     "metadata": {},
     "output_type": "execute_result"
    }
   ],
   "source": [
    "df"
   ]
  },
  {
   "cell_type": "code",
   "execution_count": 50,
   "metadata": {},
   "outputs": [
    {
     "data": {
      "text/plain": [
       "pros          [Excellent coworkers, majority of managers are...\n",
       "cons          [Some managers play favorites., Far too much w...\n",
       "feedback      [Stop playing favorites., Also, take the time ...\n",
       "review_num                                                 1577\n",
       "Name: 1577, dtype: object"
      ]
     },
     "execution_count": 50,
     "metadata": {},
     "output_type": "execute_result"
    }
   ],
   "source": [
    "df.iloc[1577]"
   ]
  },
  {
   "cell_type": "markdown",
   "metadata": {},
   "source": [
    "# Sentence Tokenization"
   ]
  },
  {
   "cell_type": "code",
   "execution_count": 41,
   "metadata": {},
   "outputs": [],
   "source": [
    "import nltk\n",
    "# nltk.download('punkt')"
   ]
  },
  {
   "cell_type": "code",
   "execution_count": 42,
   "metadata": {},
   "outputs": [],
   "source": [
    "def tokenize_sentences(df, target_column, new_column=None, drop_target=False):\n",
    "    if new_column is None:\n",
    "        new_column = target_column\n",
    "    print(\"starting sentence tokenization on\", target_column)\n",
    "    start = time.time()\n",
    "    df[new_column] = df[target_column].apply(nltk.tokenize.sent_tokenize)\n",
    "    if drop_target:\n",
    "        df.drop(columns=[target_column], inplace=True)\n",
    "    df.replace(\"[]\", \"\", inplace=True)\n",
    "    print(\"sentence tokenization on\", target_column, (time.time() - start), \"s\")"
   ]
  },
  {
   "cell_type": "code",
   "execution_count": 43,
   "metadata": {},
   "outputs": [
    {
     "name": "stdout",
     "output_type": "stream",
     "text": [
      "starting sentence tokenization on pros\n",
      "sentence tokenization on pros 352.374892950058 s\n"
     ]
    }
   ],
   "source": [
    "tokenize_sentences(df, \"pros\", \"stoken_pros\", drop_target=True)"
   ]
  },
  {
   "cell_type": "code",
   "execution_count": 44,
   "metadata": {},
   "outputs": [
    {
     "name": "stdout",
     "output_type": "stream",
     "text": [
      "starting sentence tokenization on cons\n",
      "sentence tokenization on cons 424.8681631088257 s\n"
     ]
    }
   ],
   "source": [
    "tokenize_sentences(df, \"cons\", \"stoken_cons\", drop_target=True)"
   ]
  },
  {
   "cell_type": "code",
   "execution_count": 45,
   "metadata": {},
   "outputs": [
    {
     "name": "stdout",
     "output_type": "stream",
     "text": [
      "starting sentence tokenization on feedback\n",
      "sentence tokenization on feedback 225.60872602462769 s\n"
     ]
    }
   ],
   "source": [
    "tokenize_sentences(df, \"feedback\", \"stoken_feedback\", drop_target=True)"
   ]
  },
  {
   "cell_type": "code",
   "execution_count": 46,
   "metadata": {},
   "outputs": [],
   "source": [
    "columns={\n",
    "    \"stoken_pros\"     : \"pros\", \n",
    "    \"stoken_cons\"     : \"cons\",\n",
    "    \"stoken_feedback\" : \"feedback\"  \n",
    "}\n",
    "\n",
    "df.rename(columns=columns, inplace=True)"
   ]
  },
  {
   "cell_type": "code",
   "execution_count": 47,
   "metadata": {},
   "outputs": [
    {
     "data": {
      "text/html": [
       "<div>\n",
       "<style scoped>\n",
       "    .dataframe tbody tr th:only-of-type {\n",
       "        vertical-align: middle;\n",
       "    }\n",
       "\n",
       "    .dataframe tbody tr th {\n",
       "        vertical-align: top;\n",
       "    }\n",
       "\n",
       "    .dataframe thead th {\n",
       "        text-align: right;\n",
       "    }\n",
       "</style>\n",
       "<table border=\"1\" class=\"dataframe\">\n",
       "  <thead>\n",
       "    <tr style=\"text-align: right;\">\n",
       "      <th></th>\n",
       "      <th>pros</th>\n",
       "      <th>cons</th>\n",
       "      <th>feedback</th>\n",
       "    </tr>\n",
       "  </thead>\n",
       "  <tbody>\n",
       "    <tr>\n",
       "      <th>0</th>\n",
       "      <td>[The people to work with]</td>\n",
       "      <td>[11-14 hour shifts., And always understaff.]</td>\n",
       "      <td>[Hire more hardworking people and schedule fai...</td>\n",
       "    </tr>\n",
       "    <tr>\n",
       "      <th>1</th>\n",
       "      <td>[A company in rapid growth and expansion]</td>\n",
       "      <td>[Extensive changes in upper level management o...</td>\n",
       "      <td>[Ensure a solid foundation of training, allowa...</td>\n",
       "    </tr>\n",
       "    <tr>\n",
       "      <th>2</th>\n",
       "      <td>[Get to know the industry, profit margins, etc...</td>\n",
       "      <td>[Very, very unorganized on every level, stock ...</td>\n",
       "      <td>[Take care of your employees, better.]</td>\n",
       "    </tr>\n",
       "    <tr>\n",
       "      <th>3</th>\n",
       "      <td>[Friendly people, good company values]</td>\n",
       "      <td>[Layoff of long term employees - losing years ...</td>\n",
       "      <td>[]</td>\n",
       "    </tr>\n",
       "    <tr>\n",
       "      <th>4</th>\n",
       "      <td>[nice organized project, great boss.]</td>\n",
       "      <td>[none that i could see., mostly worked remote.]</td>\n",
       "      <td>[]</td>\n",
       "    </tr>\n",
       "    <tr>\n",
       "      <th>...</th>\n",
       "      <td>...</td>\n",
       "      <td>...</td>\n",
       "      <td>...</td>\n",
       "    </tr>\n",
       "    <tr>\n",
       "      <th>6754231</th>\n",
       "      <td>[If you live in Galveston,  you'll be close to...</td>\n",
       "      <td>[Horrible place to work., They do not care abo...</td>\n",
       "      <td>[None., They will never improve.]</td>\n",
       "    </tr>\n",
       "    <tr>\n",
       "      <th>6754232</th>\n",
       "      <td>[good working environment and good insurance p...</td>\n",
       "      <td>[not flexible working hour,  needs a better ma...</td>\n",
       "      <td>[]</td>\n",
       "    </tr>\n",
       "    <tr>\n",
       "      <th>6754233</th>\n",
       "      <td>[Small pockets of honest, hardworking employee...</td>\n",
       "      <td>[Leadership is a train wreck., A lot of clique...</td>\n",
       "      <td>[Realize that without the employees in all loc...</td>\n",
       "    </tr>\n",
       "    <tr>\n",
       "      <th>6754234</th>\n",
       "      <td>[Good hard work and some very good people]</td>\n",
       "      <td>[Long hours with little compensation]</td>\n",
       "      <td>[]</td>\n",
       "    </tr>\n",
       "    <tr>\n",
       "      <th>6754235</th>\n",
       "      <td>[Gained valuable experience in the field with ...</td>\n",
       "      <td>[If you don't like working outside or getting ...</td>\n",
       "      <td>[]</td>\n",
       "    </tr>\n",
       "  </tbody>\n",
       "</table>\n",
       "<p>6754236 rows × 3 columns</p>\n",
       "</div>"
      ],
      "text/plain": [
       "                                                      pros  \\\n",
       "0                                [The people to work with]   \n",
       "1                [A company in rapid growth and expansion]   \n",
       "2        [Get to know the industry, profit margins, etc...   \n",
       "3                   [Friendly people, good company values]   \n",
       "4                    [nice organized project, great boss.]   \n",
       "...                                                    ...   \n",
       "6754231  [If you live in Galveston,  you'll be close to...   \n",
       "6754232  [good working environment and good insurance p...   \n",
       "6754233  [Small pockets of honest, hardworking employee...   \n",
       "6754234         [Good hard work and some very good people]   \n",
       "6754235  [Gained valuable experience in the field with ...   \n",
       "\n",
       "                                                      cons  \\\n",
       "0             [11-14 hour shifts., And always understaff.]   \n",
       "1        [Extensive changes in upper level management o...   \n",
       "2        [Very, very unorganized on every level, stock ...   \n",
       "3        [Layoff of long term employees - losing years ...   \n",
       "4          [none that i could see., mostly worked remote.]   \n",
       "...                                                    ...   \n",
       "6754231  [Horrible place to work., They do not care abo...   \n",
       "6754232  [not flexible working hour,  needs a better ma...   \n",
       "6754233  [Leadership is a train wreck., A lot of clique...   \n",
       "6754234              [Long hours with little compensation]   \n",
       "6754235  [If you don't like working outside or getting ...   \n",
       "\n",
       "                                                  feedback  \n",
       "0        [Hire more hardworking people and schedule fai...  \n",
       "1        [Ensure a solid foundation of training, allowa...  \n",
       "2                   [Take care of your employees, better.]  \n",
       "3                                                       []  \n",
       "4                                                       []  \n",
       "...                                                    ...  \n",
       "6754231                  [None., They will never improve.]  \n",
       "6754232                                                 []  \n",
       "6754233  [Realize that without the employees in all loc...  \n",
       "6754234                                                 []  \n",
       "6754235                                                 []  \n",
       "\n",
       "[6754236 rows x 3 columns]"
      ]
     },
     "execution_count": 47,
     "metadata": {},
     "output_type": "execute_result"
    }
   ],
   "source": [
    "df"
   ]
  },
  {
   "cell_type": "code",
   "execution_count": 48,
   "metadata": {},
   "outputs": [],
   "source": [
    "df['review_num'] = df.index"
   ]
  },
  {
   "cell_type": "markdown",
   "metadata": {},
   "source": [
    "# Clause Tokenization\n",
    "No suitable solution for this yet. Come back to it later..."
   ]
  },
  {
   "cell_type": "code",
   "execution_count": 12,
   "metadata": {},
   "outputs": [],
   "source": [
    "# from sent_to_clauses import *"
   ]
  },
  {
   "cell_type": "code",
   "execution_count": null,
   "metadata": {},
   "outputs": [],
   "source": []
  },
  {
   "cell_type": "markdown",
   "metadata": {},
   "source": [
    "# Saving Tokenized Data to JSON"
   ]
  },
  {
   "cell_type": "code",
   "execution_count": 16,
   "metadata": {},
   "outputs": [],
   "source": [
    "save_path = \"data/glassdoor/glassdoor_stoken.json.gz\""
   ]
  },
  {
   "cell_type": "code",
   "execution_count": 17,
   "metadata": {},
   "outputs": [
    {
     "name": "stdout",
     "output_type": "stream",
     "text": [
      "json save time 271.5213041305542 s\n"
     ]
    }
   ],
   "source": [
    "start = time.time()\n",
    "df.to_json(save_path, orient=\"records\", lines=True)\n",
    "print(\"json save time\", (time.time() - start), \"s\")"
   ]
  },
  {
   "cell_type": "code",
   "execution_count": 3,
   "metadata": {},
   "outputs": [
    {
     "name": "stdout",
     "output_type": "stream",
     "text": [
      "json load time 85.31675958633423 s\n"
     ]
    }
   ],
   "source": [
    "start = time.time()\n",
    "df2 = pd.read_json(save_path, lines=True)\n",
    "print(\"json load time\", (time.time() - start), \"s\")"
   ]
  },
  {
   "cell_type": "code",
   "execution_count": 6,
   "metadata": {
    "collapsed": true
   },
   "outputs": [
    {
     "data": {
      "text/html": [
       "<div>\n",
       "<style scoped>\n",
       "    .dataframe tbody tr th:only-of-type {\n",
       "        vertical-align: middle;\n",
       "    }\n",
       "\n",
       "    .dataframe tbody tr th {\n",
       "        vertical-align: top;\n",
       "    }\n",
       "\n",
       "    .dataframe thead th {\n",
       "        text-align: right;\n",
       "    }\n",
       "</style>\n",
       "<table border=\"1\" class=\"dataframe\">\n",
       "  <thead>\n",
       "    <tr style=\"text-align: right;\">\n",
       "      <th></th>\n",
       "      <th>pros</th>\n",
       "      <th>cons</th>\n",
       "      <th>feedback</th>\n",
       "    </tr>\n",
       "  </thead>\n",
       "  <tbody>\n",
       "    <tr>\n",
       "      <th>0</th>\n",
       "      <td>[The people to work with]</td>\n",
       "      <td>[11-14 hour shifts., And always understaff.]</td>\n",
       "      <td>[Hire more hardworking people and schedule fai...</td>\n",
       "    </tr>\n",
       "    <tr>\n",
       "      <th>1</th>\n",
       "      <td>[A company in rapid growth and expansion]</td>\n",
       "      <td>[Extensive changes in upper level management o...</td>\n",
       "      <td>[Ensure a solid foundation of training, allowa...</td>\n",
       "    </tr>\n",
       "    <tr>\n",
       "      <th>2</th>\n",
       "      <td>[Get to know the industry, profit margins, etc...</td>\n",
       "      <td>[Very, very unorganized on every level, stock ...</td>\n",
       "      <td>[Take care of your employees, better.]</td>\n",
       "    </tr>\n",
       "    <tr>\n",
       "      <th>3</th>\n",
       "      <td>[Friendly people, good company values]</td>\n",
       "      <td>[Layoff of long term employees - losing years ...</td>\n",
       "      <td>[]</td>\n",
       "    </tr>\n",
       "    <tr>\n",
       "      <th>4</th>\n",
       "      <td>[nice organized project, great boss.]</td>\n",
       "      <td>[none that i could see., mostly worked remote.]</td>\n",
       "      <td>[]</td>\n",
       "    </tr>\n",
       "    <tr>\n",
       "      <th>...</th>\n",
       "      <td>...</td>\n",
       "      <td>...</td>\n",
       "      <td>...</td>\n",
       "    </tr>\n",
       "    <tr>\n",
       "      <th>6754231</th>\n",
       "      <td>[If you live in Galveston,  you'll be close to...</td>\n",
       "      <td>[Horrible place to work., They do not care abo...</td>\n",
       "      <td>[None., They will never improve.]</td>\n",
       "    </tr>\n",
       "    <tr>\n",
       "      <th>6754232</th>\n",
       "      <td>[good working environment and good insurance p...</td>\n",
       "      <td>[not flexible working hour,  needs a better ma...</td>\n",
       "      <td>[]</td>\n",
       "    </tr>\n",
       "    <tr>\n",
       "      <th>6754233</th>\n",
       "      <td>[Small pockets of honest, hardworking employee...</td>\n",
       "      <td>[Leadership is a train wreck., A lot of clique...</td>\n",
       "      <td>[Realize that without the employees in all loc...</td>\n",
       "    </tr>\n",
       "    <tr>\n",
       "      <th>6754234</th>\n",
       "      <td>[Good hard work and some very good people]</td>\n",
       "      <td>[Long hours with little compensation]</td>\n",
       "      <td>[]</td>\n",
       "    </tr>\n",
       "    <tr>\n",
       "      <th>6754235</th>\n",
       "      <td>[Gained valuable experience in the field with ...</td>\n",
       "      <td>[If you don't like working outside or getting ...</td>\n",
       "      <td>[]</td>\n",
       "    </tr>\n",
       "  </tbody>\n",
       "</table>\n",
       "<p>6754236 rows × 3 columns</p>\n",
       "</div>"
      ],
      "text/plain": [
       "                                                      pros  \\\n",
       "0                                [The people to work with]   \n",
       "1                [A company in rapid growth and expansion]   \n",
       "2        [Get to know the industry, profit margins, etc...   \n",
       "3                   [Friendly people, good company values]   \n",
       "4                    [nice organized project, great boss.]   \n",
       "...                                                    ...   \n",
       "6754231  [If you live in Galveston,  you'll be close to...   \n",
       "6754232  [good working environment and good insurance p...   \n",
       "6754233  [Small pockets of honest, hardworking employee...   \n",
       "6754234         [Good hard work and some very good people]   \n",
       "6754235  [Gained valuable experience in the field with ...   \n",
       "\n",
       "                                                      cons  \\\n",
       "0             [11-14 hour shifts., And always understaff.]   \n",
       "1        [Extensive changes in upper level management o...   \n",
       "2        [Very, very unorganized on every level, stock ...   \n",
       "3        [Layoff of long term employees - losing years ...   \n",
       "4          [none that i could see., mostly worked remote.]   \n",
       "...                                                    ...   \n",
       "6754231  [Horrible place to work., They do not care abo...   \n",
       "6754232  [not flexible working hour,  needs a better ma...   \n",
       "6754233  [Leadership is a train wreck., A lot of clique...   \n",
       "6754234              [Long hours with little compensation]   \n",
       "6754235  [If you don't like working outside or getting ...   \n",
       "\n",
       "                                                  feedback  \n",
       "0        [Hire more hardworking people and schedule fai...  \n",
       "1        [Ensure a solid foundation of training, allowa...  \n",
       "2                   [Take care of your employees, better.]  \n",
       "3                                                       []  \n",
       "4                                                       []  \n",
       "...                                                    ...  \n",
       "6754231                  [None., They will never improve.]  \n",
       "6754232                                                 []  \n",
       "6754233  [Realize that without the employees in all loc...  \n",
       "6754234                                                 []  \n",
       "6754235                                                 []  \n",
       "\n",
       "[6754236 rows x 3 columns]"
      ]
     },
     "execution_count": 6,
     "metadata": {},
     "output_type": "execute_result"
    }
   ],
   "source": [
    "df2"
   ]
  },
  {
   "cell_type": "markdown",
   "metadata": {},
   "source": [
    "## Split Data by Sentence"
   ]
  },
  {
   "cell_type": "code",
   "execution_count": 51,
   "metadata": {},
   "outputs": [],
   "source": [
    "df['review_num'] = df.index"
   ]
  },
  {
   "cell_type": "code",
   "execution_count": 52,
   "metadata": {},
   "outputs": [],
   "source": [
    "df_pros = df[['review_num', 'pros']].copy()\n",
    "df_pros['type'] = 1\n",
    "df_pros = df_pros.explode('pros')\n",
    "df_pros.rename(columns={\"pros\" : \"text\"}, inplace=True)"
   ]
  },
  {
   "cell_type": "code",
   "execution_count": 53,
   "metadata": {},
   "outputs": [],
   "source": [
    "df_cons = df[['review_num', 'cons']].copy()\n",
    "df_cons['type'] = 2\n",
    "df_cons = df_cons.explode('cons')\n",
    "df_cons.rename(columns={\"cons\" : \"text\"}, inplace=True)"
   ]
  },
  {
   "cell_type": "code",
   "execution_count": 54,
   "metadata": {},
   "outputs": [],
   "source": [
    "df_feedback = df[['review_num', 'feedback']].copy()\n",
    "df_feedback['type'] = 3\n",
    "df_feedback = df_feedback.explode('feedback')\n",
    "df_feedback.rename(columns={\"feedback\" : \"text\"}, inplace=True)"
   ]
  },
  {
   "cell_type": "code",
   "execution_count": 55,
   "metadata": {},
   "outputs": [],
   "source": [
    "new_df = pd.concat([df_pros, df_cons, df_feedback])"
   ]
  },
  {
   "cell_type": "code",
   "execution_count": 27,
   "metadata": {},
   "outputs": [
    {
     "data": {
      "text/plain": [
       "6754235"
      ]
     },
     "execution_count": 27,
     "metadata": {},
     "output_type": "execute_result"
    }
   ],
   "source": [
    "new_df.review_num.max()"
   ]
  },
  {
   "cell_type": "code",
   "execution_count": 141,
   "metadata": {},
   "outputs": [
    {
     "data": {
      "text/plain": [
       "43136693"
      ]
     },
     "execution_count": 141,
     "metadata": {},
     "output_type": "execute_result"
    }
   ],
   "source": [
    "len(new_df)"
   ]
  },
  {
   "cell_type": "code",
   "execution_count": 56,
   "metadata": {},
   "outputs": [],
   "source": [
    "new_df.dropna(axis=0, how='any', inplace=True)"
   ]
  },
  {
   "cell_type": "code",
   "execution_count": 144,
   "metadata": {},
   "outputs": [
    {
     "data": {
      "text/plain": [
       "40279470"
      ]
     },
     "execution_count": 144,
     "metadata": {},
     "output_type": "execute_result"
    }
   ],
   "source": [
    "len(new_df)"
   ]
  },
  {
   "cell_type": "code",
   "execution_count": 57,
   "metadata": {},
   "outputs": [],
   "source": [
    "new_df.sort_index(inplace=True)"
   ]
  },
  {
   "cell_type": "code",
   "execution_count": 58,
   "metadata": {},
   "outputs": [
    {
     "data": {
      "text/html": [
       "<div>\n",
       "<style scoped>\n",
       "    .dataframe tbody tr th:only-of-type {\n",
       "        vertical-align: middle;\n",
       "    }\n",
       "\n",
       "    .dataframe tbody tr th {\n",
       "        vertical-align: top;\n",
       "    }\n",
       "\n",
       "    .dataframe thead th {\n",
       "        text-align: right;\n",
       "    }\n",
       "</style>\n",
       "<table border=\"1\" class=\"dataframe\">\n",
       "  <thead>\n",
       "    <tr style=\"text-align: right;\">\n",
       "      <th></th>\n",
       "      <th>review_num</th>\n",
       "      <th>text</th>\n",
       "      <th>type</th>\n",
       "    </tr>\n",
       "  </thead>\n",
       "  <tbody>\n",
       "    <tr>\n",
       "      <th>0</th>\n",
       "      <td>0</td>\n",
       "      <td>The people to work with</td>\n",
       "      <td>1</td>\n",
       "    </tr>\n",
       "    <tr>\n",
       "      <th>0</th>\n",
       "      <td>0</td>\n",
       "      <td>Hire more hardworking people and schedule fair...</td>\n",
       "      <td>3</td>\n",
       "    </tr>\n",
       "    <tr>\n",
       "      <th>0</th>\n",
       "      <td>0</td>\n",
       "      <td>And always understaff.</td>\n",
       "      <td>2</td>\n",
       "    </tr>\n",
       "    <tr>\n",
       "      <th>0</th>\n",
       "      <td>0</td>\n",
       "      <td>11-14 hour shifts.</td>\n",
       "      <td>2</td>\n",
       "    </tr>\n",
       "    <tr>\n",
       "      <th>1</th>\n",
       "      <td>1</td>\n",
       "      <td>Ensure a solid foundation of training, allowan...</td>\n",
       "      <td>3</td>\n",
       "    </tr>\n",
       "    <tr>\n",
       "      <th>...</th>\n",
       "      <td>...</td>\n",
       "      <td>...</td>\n",
       "      <td>...</td>\n",
       "    </tr>\n",
       "    <tr>\n",
       "      <th>6754234</th>\n",
       "      <td>6754234</td>\n",
       "      <td>Long hours with little compensation</td>\n",
       "      <td>2</td>\n",
       "    </tr>\n",
       "    <tr>\n",
       "      <th>6754235</th>\n",
       "      <td>6754235</td>\n",
       "      <td>Really enjoyed being able to spend time with a...</td>\n",
       "      <td>1</td>\n",
       "    </tr>\n",
       "    <tr>\n",
       "      <th>6754235</th>\n",
       "      <td>6754235</td>\n",
       "      <td>Gained valuable experience in the field with p...</td>\n",
       "      <td>1</td>\n",
       "    </tr>\n",
       "    <tr>\n",
       "      <th>6754235</th>\n",
       "      <td>6754235</td>\n",
       "      <td>If you don't like working outside or getting d...</td>\n",
       "      <td>2</td>\n",
       "    </tr>\n",
       "    <tr>\n",
       "      <th>6754235</th>\n",
       "      <td>6754235</td>\n",
       "      <td>Some days consisted of long hours so you must ...</td>\n",
       "      <td>2</td>\n",
       "    </tr>\n",
       "  </tbody>\n",
       "</table>\n",
       "<p>40569801 rows × 3 columns</p>\n",
       "</div>"
      ],
      "text/plain": [
       "         review_num                                               text  type\n",
       "0                 0                            The people to work with     1\n",
       "0                 0  Hire more hardworking people and schedule fair...     3\n",
       "0                 0                             And always understaff.     2\n",
       "0                 0                                 11-14 hour shifts.     2\n",
       "1                 1  Ensure a solid foundation of training, allowan...     3\n",
       "...             ...                                                ...   ...\n",
       "6754234     6754234                Long hours with little compensation     2\n",
       "6754235     6754235  Really enjoyed being able to spend time with a...     1\n",
       "6754235     6754235  Gained valuable experience in the field with p...     1\n",
       "6754235     6754235  If you don't like working outside or getting d...     2\n",
       "6754235     6754235  Some days consisted of long hours so you must ...     2\n",
       "\n",
       "[40569801 rows x 3 columns]"
      ]
     },
     "execution_count": 58,
     "metadata": {},
     "output_type": "execute_result"
    }
   ],
   "source": [
    "new_df"
   ]
  },
  {
   "cell_type": "markdown",
   "metadata": {},
   "source": [
    "### Saving Split Sentence Data"
   ]
  },
  {
   "cell_type": "code",
   "execution_count": 59,
   "metadata": {},
   "outputs": [],
   "source": [
    "save_path = \"data/glassdoor/glassdoor_split_stoken.parquet\""
   ]
  },
  {
   "cell_type": "code",
   "execution_count": 60,
   "metadata": {},
   "outputs": [],
   "source": [
    "new_df.to_parquet(save_path)"
   ]
  },
  {
   "cell_type": "code",
   "execution_count": 32,
   "metadata": {
    "scrolled": true
   },
   "outputs": [
    {
     "name": "stdout",
     "output_type": "stream",
     "text": [
      "json save time 358.071496963501 s\n"
     ]
    }
   ],
   "source": [
    "start = time.time()\n",
    "new_df.to_json(save_path, orient=\"records\", lines=True)\n",
    "print(\"json save time\", (time.time() - start), \"s\")"
   ]
  },
  {
   "cell_type": "code",
   "execution_count": 5,
   "metadata": {},
   "outputs": [
    {
     "name": "stdout",
     "output_type": "stream",
     "text": [
      "json save time 1130.7960994243622 s\n"
     ]
    }
   ],
   "source": [
    "start = time.time()\n",
    "df = pd.read_json(save_path, lines=True)\n",
    "print(\"json save time\", (time.time() - start), \"s\")"
   ]
  },
  {
   "cell_type": "code",
   "execution_count": 61,
   "metadata": {},
   "outputs": [
    {
     "data": {
      "text/html": [
       "<div>\n",
       "<style scoped>\n",
       "    .dataframe tbody tr th:only-of-type {\n",
       "        vertical-align: middle;\n",
       "    }\n",
       "\n",
       "    .dataframe tbody tr th {\n",
       "        vertical-align: top;\n",
       "    }\n",
       "\n",
       "    .dataframe thead th {\n",
       "        text-align: right;\n",
       "    }\n",
       "</style>\n",
       "<table border=\"1\" class=\"dataframe\">\n",
       "  <thead>\n",
       "    <tr style=\"text-align: right;\">\n",
       "      <th></th>\n",
       "      <th>review_num</th>\n",
       "      <th>text</th>\n",
       "      <th>type</th>\n",
       "    </tr>\n",
       "  </thead>\n",
       "  <tbody>\n",
       "    <tr>\n",
       "      <th>0</th>\n",
       "      <td>0</td>\n",
       "      <td>The people to work with</td>\n",
       "      <td>1</td>\n",
       "    </tr>\n",
       "    <tr>\n",
       "      <th>0</th>\n",
       "      <td>0</td>\n",
       "      <td>Hire more hardworking people and schedule fair...</td>\n",
       "      <td>3</td>\n",
       "    </tr>\n",
       "    <tr>\n",
       "      <th>0</th>\n",
       "      <td>0</td>\n",
       "      <td>And always understaff.</td>\n",
       "      <td>2</td>\n",
       "    </tr>\n",
       "    <tr>\n",
       "      <th>0</th>\n",
       "      <td>0</td>\n",
       "      <td>11-14 hour shifts.</td>\n",
       "      <td>2</td>\n",
       "    </tr>\n",
       "    <tr>\n",
       "      <th>1</th>\n",
       "      <td>1</td>\n",
       "      <td>Ensure a solid foundation of training, allowan...</td>\n",
       "      <td>3</td>\n",
       "    </tr>\n",
       "    <tr>\n",
       "      <th>...</th>\n",
       "      <td>...</td>\n",
       "      <td>...</td>\n",
       "      <td>...</td>\n",
       "    </tr>\n",
       "    <tr>\n",
       "      <th>6754234</th>\n",
       "      <td>6754234</td>\n",
       "      <td>Long hours with little compensation</td>\n",
       "      <td>2</td>\n",
       "    </tr>\n",
       "    <tr>\n",
       "      <th>6754235</th>\n",
       "      <td>6754235</td>\n",
       "      <td>Really enjoyed being able to spend time with a...</td>\n",
       "      <td>1</td>\n",
       "    </tr>\n",
       "    <tr>\n",
       "      <th>6754235</th>\n",
       "      <td>6754235</td>\n",
       "      <td>Gained valuable experience in the field with p...</td>\n",
       "      <td>1</td>\n",
       "    </tr>\n",
       "    <tr>\n",
       "      <th>6754235</th>\n",
       "      <td>6754235</td>\n",
       "      <td>If you don't like working outside or getting d...</td>\n",
       "      <td>2</td>\n",
       "    </tr>\n",
       "    <tr>\n",
       "      <th>6754235</th>\n",
       "      <td>6754235</td>\n",
       "      <td>Some days consisted of long hours so you must ...</td>\n",
       "      <td>2</td>\n",
       "    </tr>\n",
       "  </tbody>\n",
       "</table>\n",
       "<p>40569801 rows × 3 columns</p>\n",
       "</div>"
      ],
      "text/plain": [
       "         review_num                                               text  type\n",
       "0                 0                            The people to work with     1\n",
       "0                 0  Hire more hardworking people and schedule fair...     3\n",
       "0                 0                             And always understaff.     2\n",
       "0                 0                                 11-14 hour shifts.     2\n",
       "1                 1  Ensure a solid foundation of training, allowan...     3\n",
       "...             ...                                                ...   ...\n",
       "6754234     6754234                Long hours with little compensation     2\n",
       "6754235     6754235  Really enjoyed being able to spend time with a...     1\n",
       "6754235     6754235  Gained valuable experience in the field with p...     1\n",
       "6754235     6754235  If you don't like working outside or getting d...     2\n",
       "6754235     6754235  Some days consisted of long hours so you must ...     2\n",
       "\n",
       "[40569801 rows x 3 columns]"
      ]
     },
     "execution_count": 61,
     "metadata": {},
     "output_type": "execute_result"
    }
   ],
   "source": [
    "df"
   ]
  },
  {
   "cell_type": "markdown",
   "metadata": {},
   "source": [
    "# Topic Modeling"
   ]
  },
  {
   "cell_type": "code",
   "execution_count": 5,
   "metadata": {},
   "outputs": [],
   "source": [
    "import joblib\n",
    "import itertools\n",
    "from sklearn.feature_extraction.text import TfidfVectorizer, CountVectorizer\n",
    "from sklearn.decomposition import NMF, LatentDirichletAllocation"
   ]
  },
  {
   "cell_type": "code",
   "execution_count": 6,
   "metadata": {},
   "outputs": [],
   "source": [
    "def print_top_words(model, feature_names, n_top_words):\n",
    "    for topic_idx, topic in enumerate(model.components_):\n",
    "        message = \"Topic %d: \" % topic_idx\n",
    "        message += \" \".join([feature_names[i] for i in topic.argsort()[:-n_top_words - 1:-1]])\n",
    "        print(message)"
   ]
  },
  {
   "cell_type": "code",
   "execution_count": 7,
   "metadata": {},
   "outputs": [],
   "source": [
    "n_samples = 1000000\n",
    "n_features = 1000\n",
    "n_components = 8\n",
    "n_top_words = 10\n",
    "\n",
    "max_iter = 1000"
   ]
  },
  {
   "cell_type": "code",
   "execution_count": 35,
   "metadata": {},
   "outputs": [],
   "source": [
    "df_flat = list(itertools.chain(*df2.head(n_samples).values)) # @1m = 5,971,134\n",
    "# df_flat = list(itertools.chain(*df2.values)) # 40,279,470\n",
    "df_flat = list(itertools.chain(*df_flat))"
   ]
  },
  {
   "cell_type": "code",
   "execution_count": 36,
   "metadata": {
    "scrolled": true
   },
   "outputs": [
    {
     "data": {
      "text/plain": [
       "40279470"
      ]
     },
     "execution_count": 36,
     "metadata": {},
     "output_type": "execute_result"
    }
   ],
   "source": [
    "len(df_flat)"
   ]
  },
  {
   "cell_type": "code",
   "execution_count": 10,
   "metadata": {},
   "outputs": [],
   "source": [
    "from sklearn.feature_extraction import text"
   ]
  },
  {
   "cell_type": "code",
   "execution_count": 48,
   "metadata": {},
   "outputs": [],
   "source": [
    "blacklist_words = [\n",
    "    \"excellent\",\"good\",\"great\",\"like\",\n",
    "    \"nice\",\"better\",\"pretty\",\"decent\",\n",
    "    \"bad\",\"poor\",\"don\",\"stop\",\n",
    "    \"really\",\"lot\",\"make\",\"doing\"  \n",
    "]"
   ]
  },
  {
   "cell_type": "code",
   "execution_count": 49,
   "metadata": {},
   "outputs": [],
   "source": [
    "my_stopwords = text.ENGLISH_STOP_WORDS.union(blacklist_words)"
   ]
  },
  {
   "cell_type": "markdown",
   "metadata": {},
   "source": [
    "## Exploring Topic Model Options"
   ]
  },
  {
   "cell_type": "markdown",
   "metadata": {},
   "source": [
    "### TFIDF"
   ]
  },
  {
   "cell_type": "code",
   "execution_count": 50,
   "metadata": {},
   "outputs": [
    {
     "name": "stdout",
     "output_type": "stream",
     "text": [
      "Extracting tf-idf features for NMF...\n",
      "TfidfVectorizer done in 44.445s.\n"
     ]
    }
   ],
   "source": [
    "# Use tf-idf features for NMF.\n",
    "print(\"Extracting tf-idf features for NMF...\")\n",
    "tfidf_vectorizer = TfidfVectorizer(max_df=0.95, \n",
    "                                   min_df=2,\n",
    "                                   max_features=n_features,\n",
    "                                   stop_words=my_stopwords)\n",
    "start = time.time()\n",
    "tfidf = tfidf_vectorizer.fit_transform(df_flat['text'])\n",
    "print(\"TfidfVectorizer done in %0.3fs.\" % (time.time() - start))"
   ]
  },
  {
   "cell_type": "markdown",
   "metadata": {},
   "source": [
    "### NMF"
   ]
  },
  {
   "cell_type": "code",
   "execution_count": 51,
   "metadata": {},
   "outputs": [
    {
     "data": {
      "text/plain": [
       "['assets/glassdoor/tfidf_vectorizer.jl']"
      ]
     },
     "execution_count": 51,
     "metadata": {},
     "output_type": "execute_result"
    }
   ],
   "source": [
    "# save tfidf vectorizer\n",
    "joblib.dump(tfidf_vectorizer, \"assets/glassdoor/tfidf_vectorizer.jl\")"
   ]
  },
  {
   "cell_type": "code",
   "execution_count": 52,
   "metadata": {},
   "outputs": [],
   "source": [
    "# load tfidf vectorizer\n",
    "tfidf_vectorizer = joblib.load(\"assets/glassdoor/tfidf_vectorizer.jl\")"
   ]
  },
  {
   "cell_type": "markdown",
   "metadata": {},
   "source": [
    "#### NMF | Frobenius norm"
   ]
  },
  {
   "cell_type": "code",
   "execution_count": 53,
   "metadata": {},
   "outputs": [
    {
     "name": "stdout",
     "output_type": "stream",
     "text": [
      "Fitting the NMF model (Frobenius norm) with tf-idf features, n_samples=10000000 and n_features=1000...\n",
      "violation: 1.0\n",
      "violation: 0.3502773757920608\n",
      "violation: 0.07812393774422169\n",
      "violation: 0.031164465673373016\n",
      "violation: 0.01963733627035737\n",
      "violation: 0.015156254298488757\n",
      "violation: 0.013240268167404824\n",
      "violation: 0.012458300830801515\n",
      "violation: 0.012123333251036848\n",
      "violation: 0.011982835200335416\n",
      "violation: 0.01192031952792993\n",
      "violation: 0.011890205589669975\n",
      "violation: 0.011872781212513575\n",
      "violation: 0.011861265995368447\n",
      "violation: 0.011852510276732547\n",
      "violation: 0.011845180222715466\n",
      "violation: 0.01183814980887401\n",
      "violation: 0.01183120226736689\n",
      "violation: 0.011824258445802194\n",
      "violation: 0.01181721653188438\n",
      "violation: 0.011810042230348266\n",
      "violation: 0.011802655096931496\n",
      "violation: 0.011794991123559835\n",
      "violation: 0.011786993757748446\n",
      "violation: 0.01177881517259099\n",
      "violation: 0.011770337161762635\n",
      "violation: 0.011761431268944427\n",
      "violation: 0.01175228268991173\n",
      "violation: 0.011742952892719734\n",
      "violation: 0.011733259678434693\n",
      "violation: 0.011723140110408321\n",
      "violation: 0.011712784200655706\n",
      "violation: 0.01170234241592742\n",
      "violation: 0.011691437057652916\n",
      "violation: 0.011680297127957111\n",
      "violation: 0.011668983375560715\n",
      "violation: 0.011657260975366547\n",
      "violation: 0.011645260780216575\n",
      "violation: 0.011632963801555846\n",
      "violation: 0.011620462814947524\n",
      "violation: 0.011607572234983718\n",
      "violation: 0.011594336858209703\n",
      "violation: 0.011580797539940674\n",
      "violation: 0.011566993883040706\n",
      "violation: 0.011552904160606002\n",
      "violation: 0.011538478165764803\n",
      "violation: 0.011523743561409281\n",
      "violation: 0.01150873677358605\n",
      "violation: 0.011493478034307314\n",
      "violation: 0.011477941389815787\n",
      "violation: 0.011462123203525609\n",
      "violation: 0.0114460053916682\n",
      "violation: 0.011429577866283552\n",
      "violation: 0.011412929057267037\n",
      "violation: 0.011395962392614022\n",
      "violation: 0.011378823170776875\n",
      "violation: 0.011361265497401647\n",
      "violation: 0.011343390985864055\n",
      "violation: 0.011325259522928068\n",
      "violation: 0.011306865779026093\n",
      "violation: 0.01128817996817092\n",
      "violation: 0.011269273870680739\n",
      "violation: 0.011250068303719801\n",
      "violation: 0.01123059743145488\n",
      "violation: 0.011210863574174678\n",
      "violation: 0.011190848481089479\n",
      "violation: 0.011170614307173775\n",
      "violation: 0.011150091798105156\n",
      "violation: 0.011129404616920751\n",
      "violation: 0.011108436160333067\n",
      "violation: 0.011087208484366815\n",
      "violation: 0.011065760747278167\n",
      "violation: 0.011044036372836716\n",
      "violation: 0.011022116334276305\n",
      "violation: 0.010999944713687341\n",
      "violation: 0.010977423147635118\n",
      "violation: 0.010954666428832808\n",
      "violation: 0.010931721364805955\n",
      "violation: 0.010908529191826666\n",
      "violation: 0.010885072063623859\n",
      "violation: 0.010861418668292785\n",
      "violation: 0.01083754487137529\n",
      "violation: 0.010813430353270016\n",
      "violation: 0.010789072196330919\n",
      "violation: 0.010764534075024087\n",
      "violation: 0.010739828520411531\n",
      "violation: 0.010714871229604383\n",
      "violation: 0.010689704313307832\n",
      "violation: 0.010664306492643513\n",
      "violation: 0.010638715303983453\n",
      "violation: 0.010612862057312857\n",
      "violation: 0.010586811181671221\n",
      "violation: 0.010560578908971063\n",
      "violation: 0.010534139873886746\n",
      "violation: 0.010507503427666601\n",
      "violation: 0.010480709948453048\n",
      "violation: 0.010453692189961084\n",
      "violation: 0.010426458060338192\n",
      "violation: 0.010399027444431051\n",
      "violation: 0.010371422239022883\n",
      "violation: 0.010343636939203798\n",
      "violation: 0.010315723200080743\n",
      "violation: 0.010287605332499599\n",
      "violation: 0.01025934681020222\n",
      "violation: 0.010230954662836435\n",
      "violation: 0.010202330319254646\n",
      "violation: 0.010173507649185396\n",
      "violation: 0.010144534444794243\n",
      "violation: 0.010115418572013328\n",
      "violation: 0.01008620165158329\n",
      "violation: 0.010056792033557563\n",
      "violation: 0.010027208605846345\n",
      "violation: 0.009997489194436347\n",
      "violation: 0.009967612057755693\n",
      "violation: 0.009937646330776482\n",
      "violation: 0.00990752914419338\n",
      "violation: 0.009877270802977582\n",
      "violation: 0.009846851977390847\n",
      "violation: 0.009816317636312839\n",
      "violation: 0.009785646472215791\n",
      "violation: 0.009754851924023719\n",
      "violation: 0.009723933116424041\n",
      "violation: 0.009692927534279352\n",
      "violation: 0.009661766413342546\n",
      "violation: 0.00963049912197069\n",
      "violation: 0.009599146346807814\n",
      "violation: 0.009567705061274329\n",
      "violation: 0.009536137413873911\n",
      "violation: 0.009504444016549153\n",
      "violation: 0.009472650966266226\n",
      "violation: 0.009440782233918163\n",
      "violation: 0.009408796239442211\n",
      "violation: 0.009376713599471249\n",
      "violation: 0.009344529893090408\n",
      "violation: 0.009312264726265609\n",
      "violation: 0.00927991865269675\n",
      "violation: 0.009247495543757372\n",
      "violation: 0.009215005141287497\n",
      "violation: 0.009182450309384338\n",
      "violation: 0.009149818780681511\n",
      "violation: 0.009117106769939699\n",
      "violation: 0.009084328136483152\n",
      "violation: 0.009051489416816376\n",
      "violation: 0.009018585358833955\n",
      "violation: 0.008985608131605574\n",
      "violation: 0.008952609782273578\n",
      "violation: 0.008919563498195698\n",
      "violation: 0.008886451083098325\n",
      "violation: 0.008853293309321329\n",
      "violation: 0.008820089733941522\n",
      "violation: 0.008786837247734297\n",
      "violation: 0.008753545179841192\n",
      "violation: 0.008720216777740696\n",
      "violation: 0.008686885194355618\n",
      "violation: 0.008653524096496593\n",
      "violation: 0.008620101544118136\n",
      "violation: 0.008586633813634092\n",
      "violation: 0.008553144581189883\n",
      "violation: 0.008519640706202678\n",
      "violation: 0.008486109814437764\n",
      "violation: 0.008452551499380914\n",
      "violation: 0.008418969803170593\n",
      "violation: 0.00838537383886114\n",
      "violation: 0.008351800485408439\n",
      "violation: 0.008318197734763454\n",
      "violation: 0.008284578695816308\n",
      "violation: 0.0082509359378143\n",
      "violation: 0.008217300288743661\n",
      "violation: 0.008183656222526323\n",
      "violation: 0.008150008340651339\n",
      "violation: 0.008116394595682837\n",
      "violation: 0.00808278573954836\n",
      "violation: 0.00804916583874094\n",
      "violation: 0.008015554114819537\n",
      "violation: 0.00798194760117275\n",
      "violation: 0.007948349315487732\n",
      "violation: 0.007914763685970714\n",
      "violation: 0.00788120274379264\n",
      "violation: 0.007847656825562285\n",
      "violation: 0.007814132606222417\n",
      "violation: 0.007780627320257538\n",
      "violation: 0.0077471549719231245\n",
      "violation: 0.007713711132789308\n",
      "violation: 0.007680293849971748\n",
      "violation: 0.007646892572707495\n",
      "violation: 0.007613520953776592\n",
      "violation: 0.0075801908546738956\n",
      "violation: 0.007546894198888249\n",
      "violation: 0.007513628693396574\n",
      "violation: 0.0074804142556563905\n",
      "violation: 0.007447236920099853\n",
      "violation: 0.007414089399204054\n",
      "violation: 0.007380974382469353\n",
      "violation: 0.007347908599485582\n",
      "violation: 0.007314889846237865\n",
      "violation: 0.007281918520391046\n",
      "violation: 0.007248989250436778\n",
      "violation: 0.007216139479978646\n",
      "violation: 0.007183321892829445\n",
      "violation: 0.007150549903544379\n",
      "violation: 0.007117834146905535\n",
      "violation: 0.007085173677884708\n",
      "violation: 0.007052573444568034\n",
      "violation: 0.007020030635030452\n",
      "violation: 0.006987542860517379\n",
      "violation: 0.006955116372913489\n",
      "violation: 0.006922759738933985\n",
      "violation: 0.006890466963763138\n",
      "violation: 0.006858224298614429\n",
      "violation: 0.006826051147599389\n",
      "violation: 0.006793952858006911\n",
      "violation: 0.006761922761126646\n",
      "violation: 0.006729977754002295\n",
      "violation: 0.006698089524891524\n",
      "violation: 0.0066662619800434\n",
      "violation: 0.006634513495265342\n",
      "violation: 0.0066028279248782394\n",
      "violation: 0.006571213033620139\n",
      "violation: 0.006539669811281455\n",
      "violation: 0.006508207602570652\n",
      "violation: 0.006476828872865162\n",
      "violation: 0.006445522500661929\n",
      "violation: 0.006414293593908772\n",
      "violation: 0.006383143526498822\n",
      "violation: 0.006352067804192781\n",
      "violation: 0.00632107124199531\n",
      "violation: 0.00629016022882333\n",
      "violation: 0.0062593341615019725\n",
      "violation: 0.0062285921081648475\n",
      "violation: 0.006197927317829694\n",
      "violation: 0.006167347078792442\n",
      "violation: 0.0061368576243663545\n",
      "violation: 0.006106455013946619\n",
      "violation: 0.006076133209543182\n",
      "violation: 0.006045903890612801\n",
      "violation: 0.006015770209863131\n",
      "violation: 0.005985712343310032\n",
      "violation: 0.005955747914308803\n",
      "violation: 0.005925871784895456\n",
      "violation: 0.005896084516149429\n",
      "violation: 0.005866386597277784\n",
      "violation: 0.00583677841122222\n",
      "violation: 0.00580726258534085\n",
      "violation: 0.005777842252383571\n",
      "violation: 0.005748511953597087\n",
      "violation: 0.005719279187452857\n",
      "violation: 0.005690146045335584\n",
      "violation: 0.005661110986635846\n",
      "violation: 0.005632168440127974\n",
      "violation: 0.0056033143979722895\n",
      "violation: 0.00557455994741054\n",
      "violation: 0.005545899049956336\n",
      "violation: 0.005517336810943485\n",
      "violation: 0.005488863944452948\n",
      "violation: 0.0054604899443958105\n"
     ]
    },
    {
     "name": "stdout",
     "output_type": "stream",
     "text": [
      "violation: 0.005432216202101382\n",
      "violation: 0.005404039789400507\n",
      "violation: 0.005375963210129291\n",
      "violation: 0.0053479846954644595\n",
      "violation: 0.005320104347122009\n",
      "violation: 0.005292319036859201\n",
      "violation: 0.005264633648984951\n",
      "violation: 0.005237049024563782\n",
      "violation: 0.00520956814491719\n",
      "violation: 0.005182190274082075\n",
      "violation: 0.0051549105645534235\n",
      "violation: 0.005127727455592917\n",
      "violation: 0.005100642444435155\n",
      "violation: 0.0050736585275240175\n",
      "violation: 0.005046777246531225\n",
      "violation: 0.005020003584107115\n",
      "violation: 0.004993324996185632\n",
      "violation: 0.004966761813980959\n",
      "violation: 0.0049402890422812346\n",
      "violation: 0.004913915762616216\n",
      "violation: 0.004887645479482979\n",
      "violation: 0.004861504810608385\n",
      "violation: 0.004835447629379116\n",
      "violation: 0.004809484038001981\n",
      "violation: 0.0047836237447486905\n",
      "violation: 0.00475786978245525\n",
      "violation: 0.004732216220108236\n",
      "violation: 0.004706662356235459\n",
      "violation: 0.0046812132366460864\n",
      "violation: 0.004655867954543649\n",
      "violation: 0.0046306272794792765\n",
      "violation: 0.004605492758010326\n",
      "violation: 0.004580460605359583\n",
      "violation: 0.004555527819692128\n",
      "violation: 0.00453069707276306\n",
      "violation: 0.004505965355527611\n",
      "violation: 0.004481346035740511\n",
      "violation: 0.004456832403527935\n",
      "violation: 0.004432408861674327\n",
      "violation: 0.004408093843994572\n",
      "violation: 0.004383876337703276\n",
      "violation: 0.004359763416443687\n",
      "violation: 0.0043357538080116545\n",
      "violation: 0.00431184400823163\n",
      "violation: 0.004288041042563417\n",
      "violation: 0.004264339552834329\n",
      "violation: 0.004240735394959533\n",
      "violation: 0.004217245384441471\n",
      "violation: 0.004193854651804203\n",
      "violation: 0.004170564795602822\n",
      "violation: 0.004147377308270865\n",
      "violation: 0.004124286383527941\n",
      "violation: 0.004101298004543846\n",
      "violation: 0.004078407325824068\n",
      "violation: 0.004055617052720688\n",
      "violation: 0.004032928538195716\n",
      "violation: 0.004010345944166852\n",
      "violation: 0.003987871112892165\n",
      "violation: 0.003965489481573565\n",
      "violation: 0.003943211131924328\n",
      "violation: 0.003921030633319927\n",
      "violation: 0.003898949762599076\n",
      "violation: 0.0038769747420598424\n",
      "violation: 0.003855101884625633\n",
      "violation: 0.00383332093087223\n",
      "violation: 0.003811640562434077\n",
      "violation: 0.0037900615982151098\n",
      "violation: 0.003768580165516656\n",
      "violation: 0.0037471972749081157\n",
      "violation: 0.003725916794523914\n",
      "violation: 0.0037047341273647263\n",
      "violation: 0.0036836497750422827\n",
      "violation: 0.0036626619289457938\n",
      "violation: 0.0036417746910277484\n",
      "violation: 0.0036209879044023854\n",
      "violation: 0.003600296020226082\n",
      "violation: 0.003579701990186731\n",
      "violation: 0.0035592052849271324\n",
      "violation: 0.0035388054169676894\n",
      "violation: 0.003518502075074638\n",
      "violation: 0.0034982959498955865\n",
      "violation: 0.0034781885504703665\n",
      "violation: 0.0034581749465955524\n",
      "violation: 0.0034382574421548654\n",
      "violation: 0.0034184363972023734\n",
      "violation: 0.0033987153618994974\n",
      "violation: 0.003379085164380275\n",
      "violation: 0.0033595494147003915\n",
      "violation: 0.003340111038922578\n",
      "violation: 0.003320770596870592\n",
      "violation: 0.0033015256987110535\n",
      "violation: 0.0032823733254641017\n",
      "violation: 0.0032633110955255654\n",
      "violation: 0.0032443467491446065\n",
      "violation: 0.0032254748252183623\n",
      "violation: 0.0032066966172141784\n",
      "violation: 0.003188010906281254\n",
      "violation: 0.0031694192869290276\n",
      "violation: 0.0031509152734536592\n",
      "violation: 0.0031325065076005087\n",
      "violation: 0.003114189563492284\n",
      "violation: 0.003095961399928134\n",
      "violation: 0.0030778265924380267\n",
      "violation: 0.003059780848435127\n",
      "violation: 0.0030418287251599567\n",
      "violation: 0.0030239708957946203\n",
      "violation: 0.003006199376486207\n",
      "violation: 0.0029885154569417732\n",
      "violation: 0.002970921622675406\n",
      "violation: 0.002953416345497499\n",
      "violation: 0.002936001063827858\n",
      "violation: 0.0029186741711011146\n",
      "violation: 0.0029014380195605148\n",
      "violation: 0.0028842878731077533\n",
      "violation: 0.002867232298289084\n",
      "violation: 0.002850262781597679\n",
      "violation: 0.0028333781979161836\n",
      "violation: 0.0028165787510657215\n",
      "violation: 0.002799865984289996\n",
      "violation: 0.002783240231717159\n",
      "violation: 0.0027666997178918845\n",
      "violation: 0.0027502457620835145\n",
      "violation: 0.00273387803994342\n",
      "violation: 0.0027175954356418344\n",
      "violation: 0.002701397602373227\n",
      "violation: 0.0026852846052244322\n",
      "violation: 0.0026692554674580043\n",
      "violation: 0.0026533116261254672\n",
      "violation: 0.0026374509490241687\n",
      "violation: 0.0026216738688327173\n",
      "violation: 0.0026059821715345493\n",
      "violation: 0.0025903726091660423\n",
      "violation: 0.0025748449948478263\n",
      "violation: 0.002559398793973893\n",
      "violation: 0.0025440366047069095\n",
      "violation: 0.002528758683153818\n",
      "violation: 0.0025135595051389765\n",
      "violation: 0.0024984408423086957\n",
      "violation: 0.002483401466591634\n",
      "violation: 0.0024684426682701007\n",
      "violation: 0.0024535659813799474\n",
      "violation: 0.0024387670488183904\n",
      "violation: 0.002424048957542676\n",
      "violation: 0.002409409794279862\n",
      "violation: 0.002394848778073076\n",
      "violation: 0.00238036628998372\n",
      "violation: 0.0023659656752841015\n",
      "violation: 0.002351643289938273\n",
      "violation: 0.0023373972799059254\n",
      "violation: 0.0023232268865558355\n",
      "violation: 0.0023091340187233206\n",
      "violation: 0.0022951173665342606\n",
      "violation: 0.002281176753803694\n",
      "violation: 0.002267312792577083\n",
      "violation: 0.0022535246257382444\n",
      "violation: 0.002239812158458964\n",
      "violation: 0.002226176462911149\n",
      "violation: 0.002212614428542407\n",
      "violation: 0.002199126434474021\n",
      "violation: 0.0021857128826740964\n",
      "violation: 0.0021723730663783364\n",
      "violation: 0.00215910732555695\n",
      "violation: 0.0021459148638892844\n",
      "violation: 0.0021327958519857734\n",
      "violation: 0.002119749123260571\n",
      "violation: 0.00210677419204683\n",
      "violation: 0.002093871718803253\n",
      "violation: 0.0020810409079895405\n",
      "violation: 0.0020682819770141744\n",
      "violation: 0.002055594787147229\n",
      "violation: 0.002042977405629484\n",
      "violation: 0.002030431082434205\n",
      "violation: 0.0020179559056428768\n",
      "violation: 0.0020055495309285625\n",
      "violation: 0.001993217291438804\n",
      "violation: 0.0019809505324543345\n",
      "violation: 0.0019687524211944034\n",
      "violation: 0.001956622715343062\n",
      "violation: 0.001944562102323606\n",
      "violation: 0.001932570200541148\n",
      "violation: 0.0019206450009328954\n",
      "violation: 0.0019087873167296663\n",
      "violation: 0.0018969974232105466\n",
      "violation: 0.0018852744335569442\n",
      "violation: 0.0018736175610976796\n",
      "violation: 0.001862026769697447\n",
      "violation: 0.0018505017869854426\n",
      "violation: 0.001839042332366367\n",
      "violation: 0.0018276481992850582\n",
      "violation: 0.0018163191628310367\n",
      "violation: 0.0018050555314773906\n",
      "violation: 0.0017938558969755475\n",
      "violation: 0.00178272034357873\n",
      "violation: 0.0017716492073481115\n",
      "violation: 0.001760641376301998\n",
      "violation: 0.0017496973693234335\n",
      "violation: 0.0017388163074326607\n",
      "violation: 0.0017279968763828193\n",
      "violation: 0.001717239833700536\n",
      "violation: 0.0017065452828955792\n",
      "violation: 0.0016959123190064468\n",
      "violation: 0.00168534082461339\n",
      "violation: 0.0016748309823691292\n",
      "violation: 0.0016643816315843633\n",
      "violation: 0.0016539928775446914\n",
      "violation: 0.0016436644018226587\n",
      "violation: 0.0016333959247202038\n",
      "violation: 0.0016231876755182686\n",
      "violation: 0.001613038579962351\n",
      "violation: 0.0016029490746294942\n",
      "violation: 0.0015929187920547018\n",
      "violation: 0.0015829463552133774\n",
      "violation: 0.0015730321656221029\n",
      "violation: 0.001563176136626707\n",
      "violation: 0.0015533780378238415\n",
      "violation: 0.0015436379247198123\n",
      "violation: 0.0015339602226731835\n",
      "violation: 0.0015243357366013423\n",
      "violation: 0.0015147723216169422\n",
      "violation: 0.0015052591266305367\n",
      "violation: 0.0014958013342087715\n",
      "violation: 0.0014863988167478275\n",
      "violation: 0.0014770516964329869\n",
      "violation: 0.0014677598414285262\n",
      "violation: 0.0014585231739606861\n",
      "violation: 0.0014493410731679108\n",
      "violation: 0.0014402145343228542\n",
      "violation: 0.0014311410847435762\n",
      "violation: 0.0014221219516057442\n",
      "violation: 0.0014131559317695254\n",
      "violation: 0.0014042423613734945\n",
      "violation: 0.0013953817916771772\n",
      "violation: 0.0013865741686506401\n",
      "violation: 0.001377818822322368\n",
      "violation: 0.0013691173211427402\n",
      "violation: 0.0013604665649790727\n",
      "violation: 0.0013518668738801197\n",
      "violation: 0.001343318623395752\n",
      "violation: 0.001334821402459214\n",
      "violation: 0.0013263751847885678\n",
      "violation: 0.001317979352543326\n",
      "violation: 0.0013096337397860212\n",
      "violation: 0.001301338070141478\n",
      "violation: 0.0012930924519292898\n",
      "violation: 0.0012848964644673808\n",
      "violation: 0.0012767495382291709\n",
      "violation: 0.0012686514374040854\n",
      "violation: 0.0012606019956676227\n",
      "violation: 0.0012526013349494665\n",
      "violation: 0.001244649018327667\n",
      "violation: 0.0012367444542758378\n",
      "violation: 0.00122888950650139\n",
      "violation: 0.0012210801908502525\n"
     ]
    },
    {
     "name": "stdout",
     "output_type": "stream",
     "text": [
      "violation: 0.0012133182324710235\n",
      "violation: 0.0012056028730693831\n",
      "violation: 0.0011979343031326797\n",
      "violation: 0.00119031211997177\n",
      "violation: 0.0011827361003021687\n",
      "violation: 0.0011752064032416957\n",
      "violation: 0.0011677230124681548\n",
      "violation: 0.0011602838702574954\n",
      "violation: 0.0011528901157953542\n",
      "violation: 0.0011455415718955332\n",
      "violation: 0.001138237334427942\n",
      "violation: 0.0011309790049943715\n",
      "violation: 0.0011237646120964698\n",
      "violation: 0.0011165934679454122\n",
      "violation: 0.0011094661487260598\n",
      "violation: 0.0011023819503724313\n",
      "violation: 0.0010953420025221082\n",
      "violation: 0.0010883443461094076\n",
      "violation: 0.0010813893826875673\n",
      "violation: 0.0010744772805259802\n",
      "violation: 0.0010676071840226983\n",
      "violation: 0.001060779110506365\n",
      "violation: 0.0010539929653100245\n",
      "violation: 0.0010472483652456776\n",
      "violation: 0.0010405452445362716\n",
      "violation: 0.0010338833588071892\n",
      "violation: 0.001027262649483782\n",
      "violation: 0.001020682353303127\n",
      "violation: 0.0010141424130340575\n",
      "violation: 0.0010076427054681878\n",
      "violation: 0.0010011832162451569\n",
      "violation: 0.0009947634226222465\n",
      "violation: 0.000988383216680084\n",
      "violation: 0.0009820424094747937\n",
      "violation: 0.0009757407836149759\n",
      "violation: 0.000969478053983382\n",
      "violation: 0.0009632550611303099\n",
      "violation: 0.0009570698773563098\n",
      "violation: 0.0009509227064881413\n",
      "violation: 0.0009448136673104236\n",
      "violation: 0.0009387424394393604\n",
      "violation: 0.0009327091122086474\n",
      "violation: 0.0009267129310709313\n",
      "violation: 0.0009207542230594535\n",
      "violation: 0.0009148320860893931\n",
      "violation: 0.0009089468401154476\n",
      "violation: 0.000903098308588026\n",
      "violation: 0.000897286015005168\n",
      "violation: 0.0008915098285746369\n",
      "violation: 0.0008857695446952216\n",
      "violation: 0.0008800650116417468\n",
      "violation: 0.0008743961404647092\n",
      "violation: 0.0008687626172473727\n",
      "violation: 0.0008631641392476948\n",
      "violation: 0.0008576008926136498\n",
      "violation: 0.000852072315804686\n",
      "violation: 0.0008465780648852746\n",
      "violation: 0.0008411180769014794\n",
      "violation: 0.0008356922581323168\n",
      "violation: 0.0008303003507967859\n",
      "violation: 0.0008249423441067121\n",
      "violation: 0.0008196178257378303\n",
      "violation: 0.0008143277001392542\n",
      "violation: 0.0008090704263854805\n",
      "violation: 0.0008038456661901549\n",
      "violation: 0.0007986536757006681\n",
      "violation: 0.0007934942787607039\n",
      "violation: 0.000788367119198237\n",
      "violation: 0.0007832720080011264\n",
      "violation: 0.000778208795743874\n",
      "violation: 0.0007731773810412237\n",
      "violation: 0.0007681778278258314\n",
      "violation: 0.0007632096250304956\n",
      "violation: 0.0007582725501452434\n",
      "violation: 0.0007533665069923061\n",
      "violation: 0.0007484915399666826\n",
      "violation: 0.0007436471817878666\n",
      "violation: 0.0007388333852784394\n",
      "violation: 0.0007340499509798574\n",
      "violation: 0.0007292977240887347\n",
      "violation: 0.0007245746541972364\n",
      "violation: 0.000719881175040669\n",
      "violation: 0.0007152173457565009\n",
      "violation: 0.0007105834514930461\n",
      "violation: 0.0007059784492896237\n",
      "violation: 0.0007014024574702289\n",
      "violation: 0.0006968554850353561\n",
      "violation: 0.0006923372523267254\n",
      "violation: 0.0006878476046798703\n",
      "violation: 0.0006833863742311308\n",
      "violation: 0.0006789534402221157\n",
      "violation: 0.0006745486481972188\n",
      "violation: 0.0006701717799513247\n",
      "violation: 0.0006658226016042958\n",
      "violation: 0.0006615010529348515\n",
      "violation: 0.0006572069625184755\n",
      "violation: 0.0006529404301867895\n",
      "violation: 0.0006487011840342484\n",
      "violation: 0.00064448867588662\n",
      "violation: 0.0006403026476993185\n",
      "violation: 0.0006361432312611746\n",
      "violation: 0.0006320102235026231\n",
      "violation: 0.0006279035534086786\n",
      "violation: 0.0006238232504754571\n",
      "violation: 0.0006197686994310468\n",
      "violation: 0.0006157409710356909\n",
      "violation: 0.0006117380701807886\n",
      "violation: 0.0006077605563272705\n",
      "violation: 0.0006038083475191158\n",
      "violation: 0.0005998813324529843\n",
      "violation: 0.0005959794068311848\n",
      "violation: 0.000592102375897504\n",
      "violation: 0.0005882501139489937\n",
      "violation: 0.0005844223700549757\n",
      "violation: 0.0005806191027468349\n",
      "violation: 0.0005768402537375142\n",
      "violation: 0.0005730854953437831\n",
      "violation: 0.0005693547538697069\n",
      "violation: 0.0005656478241207733\n",
      "violation: 0.0005619645880479717\n",
      "violation: 0.0005583049512131415\n",
      "violation: 0.0005546687676174676\n",
      "violation: 0.0005510559156114402\n",
      "violation: 0.0005474661991770653\n",
      "violation: 0.0005438997439482276\n",
      "violation: 0.0005403557933632381\n",
      "violation: 0.0005368345652074459\n",
      "violation: 0.0005333359451172135\n",
      "violation: 0.0005298597080052093\n",
      "violation: 0.000526405800013368\n",
      "violation: 0.0005229742230397335\n",
      "violation: 0.0005195645355585278\n",
      "violation: 0.000516176782931731\n",
      "violation: 0.0005128106976263595\n",
      "violation: 0.0005094662380172296\n",
      "violation: 0.000506143278359432\n",
      "violation: 0.0005028416982083533\n",
      "violation: 0.0004995613308849675\n",
      "violation: 0.0004963020472295292\n",
      "violation: 0.000493063797135916\n",
      "violation: 0.0004898463758021954\n",
      "violation: 0.0004866496228417402\n",
      "violation: 0.0004834734961742984\n",
      "violation: 0.0004803178840044643\n",
      "violation: 0.0004771824901854921\n",
      "violation: 0.00047406721239799145\n",
      "violation: 0.00047097206196445863\n",
      "violation: 0.00046789686095844774\n",
      "violation: 0.0004648415144114816\n",
      "violation: 0.00046180583883526544\n",
      "violation: 0.0004587897268503449\n",
      "violation: 0.0004557930622419263\n",
      "violation: 0.0004528157660520733\n",
      "violation: 0.00044985775871866256\n",
      "violation: 0.0004469187789880393\n",
      "violation: 0.0004439987569353545\n",
      "violation: 0.0004410975907369313\n",
      "violation: 0.00043821515777387203\n",
      "violation: 0.0004353513549618185\n",
      "violation: 0.0004325060427107667\n",
      "violation: 0.0004296791724097091\n",
      "violation: 0.00042687057714131514\n",
      "violation: 0.0004240801435863461\n",
      "violation: 0.000421308257181772\n",
      "violation: 0.0004185540761347661\n",
      "violation: 0.0004158175903023404\n",
      "violation: 0.0004130987202157011\n",
      "violation: 0.0004103974484427761\n",
      "violation: 0.00040771381220424535\n",
      "violation: 0.0004050473275032897\n",
      "violation: 0.0004023982059074604\n",
      "violation: 0.00039976622419214897\n",
      "violation: 0.00039715122145114165\n",
      "violation: 0.00039455317272892477\n",
      "violation: 0.0003919719453199167\n",
      "violation: 0.0003894074615864184\n",
      "violation: 0.00038685970450042586\n",
      "violation: 0.0003843284798675656\n",
      "violation: 0.000381813650722462\n",
      "violation: 0.00037931512284981693\n",
      "violation: 0.00037683275146243385\n",
      "violation: 0.00037436650039671506\n",
      "violation: 0.0003719162767849421\n",
      "violation: 0.00036948211350146693\n",
      "violation: 0.0003670638701003953\n",
      "violation: 0.00036466103355648383\n",
      "violation: 0.00036227379355887625\n",
      "violation: 0.00035990206992163575\n",
      "violation: 0.0003575457486019439\n",
      "violation: 0.00035520475256871646\n",
      "violation: 0.0003528789844057171\n",
      "violation: 0.00035056833089745765\n",
      "violation: 0.00034827268728354084\n",
      "violation: 0.00034599197442893096\n",
      "violation: 0.0003437261387630626\n",
      "violation: 0.00034147501827774536\n",
      "violation: 0.0003392385292144939\n",
      "violation: 0.000337016600243454\n",
      "violation: 0.0003348091333932986\n",
      "violation: 0.00033261607364776984\n",
      "violation: 0.0003304372488479154\n",
      "violation: 0.00032827261442498404\n",
      "violation: 0.0003261220828767751\n",
      "violation: 0.0003239855870255392\n",
      "violation: 0.00032186308696787954\n",
      "violation: 0.0003197542869551971\n",
      "violation: 0.0003176592388980742\n",
      "violation: 0.0003155778459854102\n",
      "violation: 0.0003135100382034901\n",
      "violation: 0.0003114556792009594\n",
      "violation: 0.0003094147051939312\n",
      "violation: 0.0003073870422684368\n",
      "violation: 0.0003053726178843709\n",
      "violation: 0.00030337134419693596\n",
      "violation: 0.00030138310253865645\n",
      "violation: 0.00029940796601022723\n",
      "violation: 0.00029744573583955245\n",
      "violation: 0.0002954961497905049\n",
      "violation: 0.0002935592833581101\n",
      "violation: 0.00029163509722330986\n",
      "violation: 0.00028972344517812996\n",
      "violation: 0.0002878244149262331\n",
      "violation: 0.00028593772275534624\n",
      "violation: 0.00028406326830091716\n",
      "violation: 0.0002822011011863917\n",
      "violation: 0.0002803510815540697\n",
      "violation: 0.0002785131139313227\n",
      "violation: 0.00027668715497415126\n",
      "violation: 0.0002748731157244067\n",
      "violation: 0.00027307093665573955\n",
      "violation: 0.00027128053238325585\n",
      "violation: 0.0002695018361652666\n",
      "violation: 0.0002677347467626437\n",
      "violation: 0.000265979217850739\n",
      "violation: 0.00026423517702919163\n",
      "violation: 0.00026250258908042297\n",
      "violation: 0.0002607812967264435\n",
      "violation: 0.0002590712392742125\n",
      "violation: 0.0002573723638590379\n",
      "violation: 0.0002556846011258177\n",
      "violation: 0.00025400788190023805\n",
      "violation: 0.0002523421402519103\n",
      "violation: 0.0002506873036800597\n",
      "violation: 0.00024904328156061755\n",
      "violation: 0.0002474100201339399\n",
      "violation: 0.00024578743852304245\n",
      "violation: 0.0002441755020064239\n",
      "violation: 0.00024257411055093973\n"
     ]
    },
    {
     "name": "stdout",
     "output_type": "stream",
     "text": [
      "violation: 0.00024098318856963038\n",
      "violation: 0.00023940268326635026\n",
      "violation: 0.00023783253292406054\n",
      "violation: 0.00023627268876579664\n",
      "violation: 0.00023472306855935881\n",
      "violation: 0.00023318358591506102\n",
      "violation: 0.00023165417848250962\n",
      "violation: 0.00023013477701863078\n",
      "violation: 0.00022862532588670888\n",
      "violation: 0.0002271258396274884\n",
      "violation: 0.000225636213106177\n",
      "violation: 0.0002241562365069109\n",
      "violation: 0.0002226859588243513\n",
      "violation: 0.00022122531940527512\n",
      "violation: 0.00021977425239208\n",
      "violation: 0.00021833270936363707\n",
      "violation: 0.00021690060265572075\n",
      "violation: 0.00021547789030921887\n",
      "violation: 0.00021406450481883428\n",
      "violation: 0.0002126603858967762\n",
      "violation: 0.00021126548881395153\n",
      "violation: 0.0002098797204195678\n",
      "violation: 0.0002085030354840829\n",
      "violation: 0.00020713538698654099\n",
      "violation: 0.0002057767113162539\n",
      "violation: 0.0002044269477401409\n",
      "violation: 0.0002030860322952235\n",
      "violation: 0.00020175391497656215\n",
      "violation: 0.00020043054961623992\n",
      "violation: 0.00019911585556205372\n",
      "violation: 0.00019780977776214033\n",
      "violation: 0.00019651227109683162\n",
      "violation: 0.00019522328042155957\n",
      "violation: 0.00019394277885302966\n",
      "violation: 0.00019267067856168984\n",
      "violation: 0.00019140691629219585\n",
      "violation: 0.0001901514660867655\n",
      "violation: 0.0001889042387154815\n",
      "violation: 0.0001876651795679425\n",
      "violation: 0.00018643426018513705\n",
      "violation: 0.00018521141847677272\n",
      "violation: 0.00018399665989396048\n",
      "violation: 0.00018278983142302327\n",
      "violation: 0.00018159109190007784\n",
      "violation: 0.00018040018835880096\n",
      "violation: 0.00017921698797208072\n",
      "violation: 0.00017804156673420144\n",
      "violation: 0.00017687383866719054\n",
      "violation: 0.0001757137778622824\n",
      "violation: 0.0001745613316661135\n",
      "violation: 0.0001734164554526459\n",
      "violation: 0.00017227911292706338\n",
      "violation: 0.00017114923977808337\n",
      "violation: 0.00017002677950807548\n",
      "violation: 0.00016891168887577088\n",
      "violation: 0.00016780392346745263\n",
      "violation: 0.00016670344051909836\n",
      "violation: 0.00016561018151795215\n",
      "violation: 0.00016452410792898445\n",
      "violation: 0.0001634451716782771\n",
      "violation: 0.0001623733260878623\n",
      "violation: 0.00016130852184556148\n",
      "violation: 0.00016025071693424411\n",
      "violation: 0.00015919986753134142\n",
      "violation: 0.00015815592004300475\n",
      "violation: 0.00015711883004963627\n",
      "violation: 0.00015608855860108387\n",
      "violation: 0.00015506506160670936\n",
      "violation: 0.00015404828726378595\n",
      "violation: 0.00015303819759296362\n",
      "violation: 0.0001520347496077301\n",
      "violation: 0.00015103790361239153\n",
      "violation: 0.0001500476031640783\n",
      "violation: 0.00014906381109647734\n",
      "violation: 0.0001480864908441406\n",
      "violation: 0.00014711559671477865\n",
      "violation: 0.00014615108559478903\n",
      "violation: 0.0001451929160267959\n",
      "violation: 0.00014424104300248425\n",
      "violation: 0.00014329542430226118\n",
      "violation: 0.00014235603093257034\n",
      "violation: 0.0001414227950618749\n",
      "violation: 0.00014049570959830996\n",
      "violation: 0.00013957472570596042\n",
      "violation: 0.00013865979241737669\n",
      "violation: 0.00013775087473284702\n",
      "violation: 0.00013684793485695815\n",
      "violation: 0.00013595094417307804\n",
      "violation: 0.00013505984737350585\n",
      "violation: 0.0001341746087547245\n",
      "violation: 0.00013329518839054727\n",
      "violation: 0.0001324215463892312\n",
      "violation: 0.00013155365478094728\n",
      "violation: 0.00013069146952084855\n",
      "violation: 0.00012983495325437082\n",
      "violation: 0.00012898407065409578\n",
      "violation: 0.00012813878786181382\n",
      "violation: 0.00012729906378899003\n",
      "violation: 0.00012646486035924325\n",
      "violation: 0.00012563614619023422\n",
      "violation: 0.00012481288349266962\n",
      "violation: 0.00012399503186332332\n",
      "violation: 0.00012318256016330073\n",
      "violation: 0.00012237543046270954\n",
      "violation: 0.00012157369665440342\n",
      "violation: 0.00012077718174875153\n",
      "violation: 0.00011998587625685093\n",
      "violation: 0.00011919977470312017\n",
      "violation: 0.00011841884342018007\n",
      "violation: 0.00011764305082158597\n",
      "violation: 0.0001168723658751714\n",
      "violation: 0.00011610675161406042\n",
      "violation: 0.00011534617009026365\n",
      "violation: 0.00011459059384905248\n",
      "violation: 0.00011383998654074353\n",
      "violation: 0.00011309431692246879\n",
      "violation: 0.00011235355366808765\n",
      "violation: 0.00011161766323569865\n",
      "violation: 0.00011088661077728774\n",
      "violation: 0.00011016036888377535\n",
      "violation: 0.00010943890111367541\n",
      "violation: 0.00010872218113550275\n",
      "violation: 0.00010801017525196865\n",
      "violation: 0.00010730285464153351\n",
      "violation: 0.00010660019189289165\n",
      "violation: 0.0001059021513708023\n",
      "violation: 0.00010520869753273939\n",
      "violation: 0.00010451980735346427\n",
      "violation: 0.00010383544879573916\n",
      "violation: 0.00010315559367642597\n",
      "violation: 0.00010248021010382458\n",
      "violation: 0.00010180926815407497\n",
      "violation: 0.00010114274003164859\n",
      "violation: 0.00010048059584318551\n",
      "violation: 9.98228084218584e-05\n",
      "Converged at iteration 892\n",
      "done in 830.665s.\n"
     ]
    }
   ],
   "source": [
    "print(\"Fitting the NMF model (Frobenius norm) with tf-idf features, \"\n",
    "      \"n_samples=%d and n_features=%d...\"\n",
    "      % (n_samples, n_features))\n",
    "\n",
    "nmf_fro = NMF(n_components=n_components, \n",
    "              max_iter=max_iter,\n",
    "              random_state=1,\n",
    "              alpha=.1, \n",
    "              l1_ratio=.5,\n",
    "              verbose=True)\n",
    "\n",
    "start = time.time()\n",
    "nmf_fro.fit(tfidf)\n",
    "print(\"done in %0.3fs.\" % (time.time() - start))"
   ]
  },
  {
   "cell_type": "code",
   "execution_count": 54,
   "metadata": {
    "scrolled": true
   },
   "outputs": [
    {
     "name": "stdout",
     "output_type": "stream",
     "text": [
      "\n",
      "Topics in NMF model (Frobenius norm):\n",
      "Topic 0: work place environment life balance hard fun team home schedule\n",
      "Topic 1: company culture growing growth small working years opportunities grow large\n",
      "Topic 2: pay low competitive average little rate raises attention hours high\n",
      "Topic 3: people working friendly hire smart care culture worked fun know\n",
      "Topic 4: management upper team staff senior communication new training needs lack\n",
      "Topic 5: employees care treat listen respect managers new customers value training\n",
      "Topic 6: benefits health salary environment 401k package compensation insurance competitive employee\n",
      "Topic 7: time job hours long working flexible training schedule day just\n"
     ]
    }
   ],
   "source": [
    "print(\"\\nTopics in NMF model (Frobenius norm):\")\n",
    "tfidf_feature_names = tfidf_vectorizer.get_feature_names()\n",
    "print_top_words(nmf_fro, tfidf_feature_names, n_top_words)"
   ]
  },
  {
   "cell_type": "code",
   "execution_count": 55,
   "metadata": {},
   "outputs": [
    {
     "data": {
      "text/plain": [
       "['assets/glassdoor/nmf_fro.jl']"
      ]
     },
     "execution_count": 55,
     "metadata": {},
     "output_type": "execute_result"
    }
   ],
   "source": [
    "# save nmf_fro\n",
    "joblib.dump(nmf_fro, \"assets/glassdoor/nmf_fro.jl\")"
   ]
  },
  {
   "cell_type": "code",
   "execution_count": 56,
   "metadata": {},
   "outputs": [],
   "source": [
    "# load nmf_fro\n",
    "nmf_fro = joblib.load(\"assets/glassdoor/nmf_fro.jl\")"
   ]
  },
  {
   "cell_type": "markdown",
   "metadata": {},
   "source": [
    "#### NMF | Kullback-Leibler divergence"
   ]
  },
  {
   "cell_type": "code",
   "execution_count": 57,
   "metadata": {},
   "outputs": [
    {
     "name": "stdout",
     "output_type": "stream",
     "text": [
      "Fitting the NMF model (Kullback-Leibler divergence) with tf-idf features, n_samples=10000000 and n_features=1000...\n",
      "Epoch 10 reached after 50.475 seconds, error: 8487.658387\n",
      "Epoch 20 reached after 98.581 seconds, error: 8468.247825\n",
      "Epoch 30 reached after 147.608 seconds, error: 8463.630706\n",
      "Epoch 40 reached after 196.858 seconds, error: 8461.399286\n",
      "Epoch 50 reached after 245.669 seconds, error: 8460.301346\n",
      "Epoch 60 reached after 294.281 seconds, error: 8459.583487\n",
      "done in 321.661s.\n"
     ]
    }
   ],
   "source": [
    "print(\"Fitting the NMF model (Kullback-Leibler divergence) with tf-idf features, \"\n",
    "      \"n_samples=%d and n_features=%d...\"\n",
    "      % (n_samples, n_features))\n",
    "\n",
    "nmf_KL = NMF(n_components=n_components, \n",
    "             beta_loss='kullback-leibler', \n",
    "             solver='mu',\n",
    "             max_iter=max_iter,\n",
    "             random_state=1,\n",
    "             alpha=.1, \n",
    "             l1_ratio=.5,\n",
    "             verbose=True)\n",
    "\n",
    "start = time.time()\n",
    "nmf_KL.fit(tfidf)\n",
    "print(\"done in %0.3fs.\" % (time.time() - start))"
   ]
  },
  {
   "cell_type": "code",
   "execution_count": 58,
   "metadata": {},
   "outputs": [
    {
     "name": "stdout",
     "output_type": "stream",
     "text": [
      "\n",
      "Topics in NMF model (generalized Kullback-Leibler divergence):\n",
      "Topic 0: work environment place hard life culture office balance fun learn\n",
      "Topic 1: company new growth opportunities business say sales career opportunity years\n",
      "Topic 2: pay low high salary little competitive raises paid overtime turnover\n",
      "Topic 3: people friendly workers hire coworkers location smart jobs meet helpful\n",
      "Topic 4: management staff team leadership communication upper support lack level needs\n",
      "Topic 5: employees just care need managers customers know want help way\n",
      "Topic 6: benefits employee free family health compensation food insurance amazing vacation\n",
      "Topic 7: time job hours working long flexible day think cons training\n"
     ]
    }
   ],
   "source": [
    "print(\"\\nTopics in NMF model (generalized Kullback-Leibler divergence):\")\n",
    "tfidf_feature_names = tfidf_vectorizer.get_feature_names()\n",
    "print_top_words(nmf_KL, tfidf_feature_names, n_top_words)"
   ]
  },
  {
   "cell_type": "code",
   "execution_count": 59,
   "metadata": {},
   "outputs": [
    {
     "data": {
      "text/plain": [
       "['assets/glassdoor/nmf_KL.jl']"
      ]
     },
     "execution_count": 59,
     "metadata": {},
     "output_type": "execute_result"
    }
   ],
   "source": [
    "# save nmf_KL\n",
    "joblib.dump(nmf_KL, \"assets/glassdoor/nmf_KL.jl\")"
   ]
  },
  {
   "cell_type": "code",
   "execution_count": 60,
   "metadata": {},
   "outputs": [],
   "source": [
    "# load nmf_KL\n",
    "nmf_KL = joblib.load(\"assets/glassdoor/nmf_KL.jl\")"
   ]
  },
  {
   "cell_type": "markdown",
   "metadata": {},
   "source": [
    "### CountVectorizer"
   ]
  },
  {
   "cell_type": "code",
   "execution_count": 61,
   "metadata": {},
   "outputs": [
    {
     "name": "stdout",
     "output_type": "stream",
     "text": [
      "Extracting tf features for LDA...\n",
      "CountVectorizer done in 44.095s.\n"
     ]
    }
   ],
   "source": [
    "# Use tf (raw term count) features for LDA.\n",
    "print(\"Extracting tf features for LDA...\")\n",
    "tf_vectorizer = CountVectorizer(max_df=0.95, \n",
    "                                min_df=2,\n",
    "                                max_features=n_features,\n",
    "                                stop_words=my_stopwords)\n",
    "start = time.time()\n",
    "tf = tf_vectorizer.fit_transform(df_flat['text'])\n",
    "print(\"CountVectorizer done in %0.3fs.\" % (time.time() - start))"
   ]
  },
  {
   "cell_type": "code",
   "execution_count": 62,
   "metadata": {},
   "outputs": [
    {
     "data": {
      "text/plain": [
       "['assets/glassdoor/tf_vectorizer.jl']"
      ]
     },
     "execution_count": 62,
     "metadata": {},
     "output_type": "execute_result"
    }
   ],
   "source": [
    "# save tf vectorizer\n",
    "joblib.dump(tf_vectorizer, \"assets/glassdoor/tf_vectorizer.jl\")"
   ]
  },
  {
   "cell_type": "code",
   "execution_count": 63,
   "metadata": {},
   "outputs": [],
   "source": [
    "# load tf vectorizer\n",
    "tf_vectorizer = joblib.load(\"assets/glassdoor/tf_vectorizer.jl\")"
   ]
  },
  {
   "cell_type": "markdown",
   "metadata": {},
   "source": [
    "### LDA"
   ]
  },
  {
   "cell_type": "code",
   "execution_count": 64,
   "metadata": {
    "scrolled": false
   },
   "outputs": [
    {
     "name": "stdout",
     "output_type": "stream",
     "text": [
      "Fitting LDA models with tf features, n_samples=10000000 and n_features=1000...\n",
      "iteration: 1 of max_iter: 5\n",
      "iteration: 2 of max_iter: 5\n",
      "iteration: 3 of max_iter: 5\n",
      "iteration: 4 of max_iter: 5\n",
      "iteration: 5 of max_iter: 5\n",
      "done in 1726.940s.\n"
     ]
    }
   ],
   "source": [
    "# Fit the LDA model\n",
    "print(\"Fitting LDA models with tf features, \"\n",
    "      \"n_samples=%d and n_features=%d...\"\n",
    "      % (n_samples, n_features))\n",
    "\n",
    "lda = LatentDirichletAllocation(n_components=n_components, \n",
    "                                max_iter=5,\n",
    "                                learning_method='online',\n",
    "                                learning_offset=50.,\n",
    "                                random_state=1,\n",
    "                                verbose=1)\n",
    "\n",
    "start = time.time()\n",
    "lda.fit(tf)\n",
    "print(\"done in %0.3fs.\" % (time.time() - start))"
   ]
  },
  {
   "cell_type": "code",
   "execution_count": 65,
   "metadata": {},
   "outputs": [
    {
     "name": "stdout",
     "output_type": "stream",
     "text": [
      "\n",
      "Topics in LDA model:\n",
      "Topic 0: environment managers work employee feel management going easy clients making\n",
      "Topic 1: employees management company training care leadership experience manager money lack\n",
      "Topic 2: pay hours staff new working high flexible workers customers opportunities\n",
      "Topic 3: work people just hard want fun think working career schedule\n",
      "Topic 4: company culture long business office people years sales opportunity friendly\n",
      "Topic 5: work benefits team place life need best help people things\n",
      "Topic 6: time know day little worked pay year change days does\n",
      "Topic 7: job low learn family needs customer time corporate atmosphere product\n"
     ]
    }
   ],
   "source": [
    "print(\"\\nTopics in LDA model:\")\n",
    "tf_feature_names = tf_vectorizer.get_feature_names()\n",
    "print_top_words(lda, tf_feature_names, n_top_words)"
   ]
  },
  {
   "cell_type": "code",
   "execution_count": 66,
   "metadata": {},
   "outputs": [
    {
     "data": {
      "text/plain": [
       "['assets/glassdoor/lda.jl']"
      ]
     },
     "execution_count": 66,
     "metadata": {},
     "output_type": "execute_result"
    }
   ],
   "source": [
    "# save nmf_KL\n",
    "joblib.dump(nmf_KL, \"assets/glassdoor/lda.jl\")"
   ]
  },
  {
   "cell_type": "code",
   "execution_count": 67,
   "metadata": {},
   "outputs": [],
   "source": [
    "# load nmf_KL\n",
    "lda = joblib.load(\"assets/glassdoor/lda.jl\")"
   ]
  },
  {
   "cell_type": "markdown",
   "metadata": {},
   "source": [
    "## Assigning Topics"
   ]
  },
  {
   "cell_type": "markdown",
   "metadata": {},
   "source": [
    "### nmf_fro"
   ]
  },
  {
   "cell_type": "code",
   "execution_count": 56,
   "metadata": {},
   "outputs": [],
   "source": [
    "# Topics in NMF model (Frobenius norm):\n",
    "# Work/Life Balance : work life balance environment place hours hard flexible home fun\n",
    "# Culture           : great benefits place environment culture team job workers experience coworkers\n",
    "# Experience        : good benefits job experience salary environment training pretty health workers\n",
    "# Management        : management upper team poor staff senior new communication bad training\n",
    "# Growth Potential  : company culture growing growth working small years like grow opportunities\n",
    "# Coworkers         : people nice working don friendly really like lot hire smart\n",
    "# Hours             : pay low hours benefits decent time better competitive long flexible\n",
    "# Respectfulness    : employees time care don like job listen treat better make\n",
    "\n",
    "nmf_fro_topic_labels = [\n",
    "    \"Work/Life Balance\",\n",
    "    \"Culture\",          \n",
    "    \"Experience\",       \n",
    "    \"Management\",             \n",
    "    \"Growth Potential\", \n",
    "    \"Coworkers\",        \n",
    "    \"Hours\",       \n",
    "    \"Respect\",                   \n",
    "]"
   ]
  },
  {
   "cell_type": "code",
   "execution_count": 98,
   "metadata": {},
   "outputs": [],
   "source": [
    "idx = slice(20,30)"
   ]
  },
  {
   "cell_type": "code",
   "execution_count": 99,
   "metadata": {},
   "outputs": [
    {
     "name": "stdout",
     "output_type": "stream",
     "text": [
      "violation: 1.0\n",
      "violation: 0.031913431078919204\n",
      "violation: 0.00022574799913165333\n",
      "violation: 2.050974742194805e-06\n",
      "Converged at iteration 5\n"
     ]
    }
   ],
   "source": [
    "nmf_fro_topic_scores = nmf_fro.transform(tf[idx])\n",
    "nmf_fro_topic_assignments = np.argmax(nmf_fro_topic_scores, axis=1)"
   ]
  },
  {
   "cell_type": "code",
   "execution_count": 100,
   "metadata": {},
   "outputs": [
    {
     "data": {
      "text/html": [
       "<div>\n",
       "<style scoped>\n",
       "    .dataframe tbody tr th:only-of-type {\n",
       "        vertical-align: middle;\n",
       "    }\n",
       "\n",
       "    .dataframe tbody tr th {\n",
       "        vertical-align: top;\n",
       "    }\n",
       "\n",
       "    .dataframe thead th {\n",
       "        text-align: right;\n",
       "    }\n",
       "</style>\n",
       "<table border=\"1\" class=\"dataframe\">\n",
       "  <thead>\n",
       "    <tr style=\"text-align: right;\">\n",
       "      <th></th>\n",
       "      <th>text</th>\n",
       "      <th>label</th>\n",
       "    </tr>\n",
       "  </thead>\n",
       "  <tbody>\n",
       "    <tr>\n",
       "      <th>0</th>\n",
       "      <td>Coworkers</td>\n",
       "      <td>I do not think I can find cons to working here.</td>\n",
       "    </tr>\n",
       "    <tr>\n",
       "      <th>1</th>\n",
       "      <td>Work/Life Balance</td>\n",
       "      <td>just work, work and you will be on the way up the ladder soon</td>\n",
       "    </tr>\n",
       "    <tr>\n",
       "      <th>2</th>\n",
       "      <td>Management</td>\n",
       "      <td>how does one join management?</td>\n",
       "    </tr>\n",
       "    <tr>\n",
       "      <th>3</th>\n",
       "      <td>Coworkers</td>\n",
       "      <td>I think that is a question a lot of people may have</td>\n",
       "    </tr>\n",
       "    <tr>\n",
       "      <th>4</th>\n",
       "      <td>Culture</td>\n",
       "      <td>Great customers, co-workers, and money.</td>\n",
       "    </tr>\n",
       "    <tr>\n",
       "      <th>5</th>\n",
       "      <td>Management</td>\n",
       "      <td>The restaurant is organized and clean.</td>\n",
       "    </tr>\n",
       "    <tr>\n",
       "      <th>6</th>\n",
       "      <td>Management</td>\n",
       "      <td>The management was not consistent with their rules and play favorites.</td>\n",
       "    </tr>\n",
       "    <tr>\n",
       "      <th>7</th>\n",
       "      <td>Culture</td>\n",
       "      <td>The new uniforms are not great.</td>\n",
       "    </tr>\n",
       "    <tr>\n",
       "      <th>8</th>\n",
       "      <td>Hours</td>\n",
       "      <td>Nothing .. besides a pay check</td>\n",
       "    </tr>\n",
       "    <tr>\n",
       "      <th>9</th>\n",
       "      <td>Management</td>\n",
       "      <td>Unprofessional .</td>\n",
       "    </tr>\n",
       "  </tbody>\n",
       "</table>\n",
       "</div>"
      ],
      "text/plain": [
       "                text  \\\n",
       "0          Coworkers   \n",
       "1  Work/Life Balance   \n",
       "2         Management   \n",
       "3          Coworkers   \n",
       "4            Culture   \n",
       "5         Management   \n",
       "6         Management   \n",
       "7            Culture   \n",
       "8              Hours   \n",
       "9         Management   \n",
       "\n",
       "                                                                    label  \n",
       "0                         I do not think I can find cons to working here.  \n",
       "1           just work, work and you will be on the way up the ladder soon  \n",
       "2                                           how does one join management?  \n",
       "3                     I think that is a question a lot of people may have  \n",
       "4                                 Great customers, co-workers, and money.  \n",
       "5                                  The restaurant is organized and clean.  \n",
       "6  The management was not consistent with their rules and play favorites.  \n",
       "7                                         The new uniforms are not great.  \n",
       "8                                          Nothing .. besides a pay check  \n",
       "9                                                        Unprofessional .  "
      ]
     },
     "execution_count": 100,
     "metadata": {},
     "output_type": "execute_result"
    }
   ],
   "source": [
    "nmf_fro_data = zip(list(map(lambda x: nmf_fro_topic_labels[x], nmf_fro_topic_assignments)), df_flat[idx])\n",
    "df_nmf_fro   = pd.DataFrame(nmf_fro_data, columns=[\"text\", \"label\"])\n",
    "df_nmf_fro"
   ]
  },
  {
   "cell_type": "markdown",
   "metadata": {},
   "source": [
    "### nmf_KL"
   ]
  },
  {
   "cell_type": "code",
   "execution_count": 101,
   "metadata": {},
   "outputs": [],
   "source": [
    "# Topics in NMF model (generalized Kullback-Leibler divergence):\n",
    "# Work/Life Balance : work environment place good hard life office flexible balance fun\n",
    "# Culture           : great team staff leadership experience workers coworkers amazing support atmosphere\n",
    "# Compensation      : good benefits job training employee bad salary free industry start\n",
    "# Management        : management think new business way communication lack change upper need\n",
    "# Growth Potential  : company culture growth cons opportunities years growing opportunity small grow\n",
    "# Coworkers         : people working really nice lot doing know just worked best\n",
    "# Hours             : pay time hours better long day don low high little\n",
    "# Customers         : employees care like managers customers stop listen treat don continue\n",
    "\n",
    "nmf_KL_topic_labels = [\n",
    "    \"Work/Life Balance\",       \n",
    "    \"Culture\",         \n",
    "    \"Compensation\",             \n",
    "    \"Management\",\n",
    "    \"Growth Potential\", \n",
    "    \"Coworkers\",          \n",
    "    \"Hours\",     \n",
    "    \"Customers\"    \n",
    "]"
   ]
  },
  {
   "cell_type": "code",
   "execution_count": 102,
   "metadata": {},
   "outputs": [],
   "source": [
    "idx = slice(20,30)"
   ]
  },
  {
   "cell_type": "code",
   "execution_count": 103,
   "metadata": {},
   "outputs": [
    {
     "name": "stdout",
     "output_type": "stream",
     "text": [
      "Epoch 10 reached after 0.000 seconds, error: 14.571557\n",
      "Epoch 20 reached after 0.000 seconds, error: 14.570800\n"
     ]
    }
   ],
   "source": [
    "nmf_KL_topic_scores = nmf_KL.transform(tf[idx])\n",
    "nmf_KL_topic_assignments = np.argmax(nmf_KL_topic_scores, axis=1)"
   ]
  },
  {
   "cell_type": "code",
   "execution_count": 104,
   "metadata": {},
   "outputs": [
    {
     "data": {
      "text/html": [
       "<div>\n",
       "<style scoped>\n",
       "    .dataframe tbody tr th:only-of-type {\n",
       "        vertical-align: middle;\n",
       "    }\n",
       "\n",
       "    .dataframe tbody tr th {\n",
       "        vertical-align: top;\n",
       "    }\n",
       "\n",
       "    .dataframe thead th {\n",
       "        text-align: right;\n",
       "    }\n",
       "</style>\n",
       "<table border=\"1\" class=\"dataframe\">\n",
       "  <thead>\n",
       "    <tr style=\"text-align: right;\">\n",
       "      <th></th>\n",
       "      <th>text</th>\n",
       "      <th>label</th>\n",
       "    </tr>\n",
       "  </thead>\n",
       "  <tbody>\n",
       "    <tr>\n",
       "      <th>0</th>\n",
       "      <td>Growth Potential</td>\n",
       "      <td>I do not think I can find cons to working here.</td>\n",
       "    </tr>\n",
       "    <tr>\n",
       "      <th>1</th>\n",
       "      <td>Management</td>\n",
       "      <td>just work, work and you will be on the way up the ladder soon</td>\n",
       "    </tr>\n",
       "    <tr>\n",
       "      <th>2</th>\n",
       "      <td>Management</td>\n",
       "      <td>how does one join management?</td>\n",
       "    </tr>\n",
       "    <tr>\n",
       "      <th>3</th>\n",
       "      <td>Coworkers</td>\n",
       "      <td>I think that is a question a lot of people may have</td>\n",
       "    </tr>\n",
       "    <tr>\n",
       "      <th>4</th>\n",
       "      <td>Culture</td>\n",
       "      <td>Great customers, co-workers, and money.</td>\n",
       "    </tr>\n",
       "    <tr>\n",
       "      <th>5</th>\n",
       "      <td>Work/Life Balance</td>\n",
       "      <td>The restaurant is organized and clean.</td>\n",
       "    </tr>\n",
       "    <tr>\n",
       "      <th>6</th>\n",
       "      <td>Management</td>\n",
       "      <td>The management was not consistent with their rules and play favorites.</td>\n",
       "    </tr>\n",
       "    <tr>\n",
       "      <th>7</th>\n",
       "      <td>Culture</td>\n",
       "      <td>The new uniforms are not great.</td>\n",
       "    </tr>\n",
       "    <tr>\n",
       "      <th>8</th>\n",
       "      <td>Hours</td>\n",
       "      <td>Nothing .. besides a pay check</td>\n",
       "    </tr>\n",
       "    <tr>\n",
       "      <th>9</th>\n",
       "      <td>Management</td>\n",
       "      <td>Unprofessional .</td>\n",
       "    </tr>\n",
       "  </tbody>\n",
       "</table>\n",
       "</div>"
      ],
      "text/plain": [
       "                text  \\\n",
       "0   Growth Potential   \n",
       "1         Management   \n",
       "2         Management   \n",
       "3          Coworkers   \n",
       "4            Culture   \n",
       "5  Work/Life Balance   \n",
       "6         Management   \n",
       "7            Culture   \n",
       "8              Hours   \n",
       "9         Management   \n",
       "\n",
       "                                                                    label  \n",
       "0                         I do not think I can find cons to working here.  \n",
       "1           just work, work and you will be on the way up the ladder soon  \n",
       "2                                           how does one join management?  \n",
       "3                     I think that is a question a lot of people may have  \n",
       "4                                 Great customers, co-workers, and money.  \n",
       "5                                  The restaurant is organized and clean.  \n",
       "6  The management was not consistent with their rules and play favorites.  \n",
       "7                                         The new uniforms are not great.  \n",
       "8                                          Nothing .. besides a pay check  \n",
       "9                                                        Unprofessional .  "
      ]
     },
     "execution_count": 104,
     "metadata": {},
     "output_type": "execute_result"
    }
   ],
   "source": [
    "nmf_KL_data = zip(list(map(lambda x: nmf_KL_topic_labels[x], nmf_KL_topic_assignments)), df_flat[idx])\n",
    "df_nmf_KL   = pd.DataFrame(nmf_KL_data, columns=[\"text\", \"label\"])\n",
    "df_nmf_KL"
   ]
  },
  {
   "cell_type": "markdown",
   "metadata": {},
   "source": [
    "### lda"
   ]
  },
  {
   "cell_type": "code",
   "execution_count": 88,
   "metadata": {},
   "outputs": [],
   "source": [
    "# Topics in LDA model:\n",
    "# Management        : like employees lot better managers make care need high management\n",
    "# Experience        : company job don experience employee people just business best know\n",
    "# Hours             : pay working time hours day long years sales low customers\n",
    "# Culture           : work good management environment hard people culture flexible fun friendly\n",
    "# Growth Potential  : employees company new place training opportunities growth things learn think\n",
    "# Compensation      : great benefits work team people good nice pay workers going\n",
    "# Coworkers         : staff office really want little support free management come amazing\n",
    "# Work/Life Balance : work life doing leadership balance opportunity manager help times change\n",
    "\n",
    "lda_topic_labels = [\n",
    "    \"Management\",       \n",
    "    \"Experience\",         \n",
    "    \"Hours\",             \n",
    "    \"Culture\",\n",
    "    \"Growth Potential\", \n",
    "    \"Compensation\",          \n",
    "    \"Coworkers\",     \n",
    "    \"Work/Life Balance\",       \n",
    "]"
   ]
  },
  {
   "cell_type": "code",
   "execution_count": 105,
   "metadata": {},
   "outputs": [],
   "source": [
    "idx = slice(20,30)"
   ]
  },
  {
   "cell_type": "code",
   "execution_count": 106,
   "metadata": {},
   "outputs": [
    {
     "name": "stdout",
     "output_type": "stream",
     "text": [
      "Epoch 10 reached after 0.005 seconds, error: 14.571557\n",
      "Epoch 20 reached after 0.008 seconds, error: 14.570800\n"
     ]
    }
   ],
   "source": [
    "lda_topic_scores = lda.transform(tf[idx])\n",
    "lda_topic_assignments = np.argmax(lda_topic_scores, axis=1)"
   ]
  },
  {
   "cell_type": "code",
   "execution_count": 107,
   "metadata": {},
   "outputs": [
    {
     "data": {
      "text/html": [
       "<div>\n",
       "<style scoped>\n",
       "    .dataframe tbody tr th:only-of-type {\n",
       "        vertical-align: middle;\n",
       "    }\n",
       "\n",
       "    .dataframe tbody tr th {\n",
       "        vertical-align: top;\n",
       "    }\n",
       "\n",
       "    .dataframe thead th {\n",
       "        text-align: right;\n",
       "    }\n",
       "</style>\n",
       "<table border=\"1\" class=\"dataframe\">\n",
       "  <thead>\n",
       "    <tr style=\"text-align: right;\">\n",
       "      <th></th>\n",
       "      <th>text</th>\n",
       "      <th>label</th>\n",
       "    </tr>\n",
       "  </thead>\n",
       "  <tbody>\n",
       "    <tr>\n",
       "      <th>0</th>\n",
       "      <td>Growth Potential</td>\n",
       "      <td>I do not think I can find cons to working here.</td>\n",
       "    </tr>\n",
       "    <tr>\n",
       "      <th>1</th>\n",
       "      <td>Culture</td>\n",
       "      <td>just work, work and you will be on the way up the ladder soon</td>\n",
       "    </tr>\n",
       "    <tr>\n",
       "      <th>2</th>\n",
       "      <td>Culture</td>\n",
       "      <td>how does one join management?</td>\n",
       "    </tr>\n",
       "    <tr>\n",
       "      <th>3</th>\n",
       "      <td>Compensation</td>\n",
       "      <td>I think that is a question a lot of people may have</td>\n",
       "    </tr>\n",
       "    <tr>\n",
       "      <th>4</th>\n",
       "      <td>Experience</td>\n",
       "      <td>Great customers, co-workers, and money.</td>\n",
       "    </tr>\n",
       "    <tr>\n",
       "      <th>5</th>\n",
       "      <td>Management</td>\n",
       "      <td>The restaurant is organized and clean.</td>\n",
       "    </tr>\n",
       "    <tr>\n",
       "      <th>6</th>\n",
       "      <td>Culture</td>\n",
       "      <td>The management was not consistent with their rules and play favorites.</td>\n",
       "    </tr>\n",
       "    <tr>\n",
       "      <th>7</th>\n",
       "      <td>Experience</td>\n",
       "      <td>The new uniforms are not great.</td>\n",
       "    </tr>\n",
       "    <tr>\n",
       "      <th>8</th>\n",
       "      <td>Coworkers</td>\n",
       "      <td>Nothing .. besides a pay check</td>\n",
       "    </tr>\n",
       "    <tr>\n",
       "      <th>9</th>\n",
       "      <td>Culture</td>\n",
       "      <td>Unprofessional .</td>\n",
       "    </tr>\n",
       "  </tbody>\n",
       "</table>\n",
       "</div>"
      ],
      "text/plain": [
       "               text  \\\n",
       "0  Growth Potential   \n",
       "1           Culture   \n",
       "2           Culture   \n",
       "3      Compensation   \n",
       "4        Experience   \n",
       "5        Management   \n",
       "6           Culture   \n",
       "7        Experience   \n",
       "8         Coworkers   \n",
       "9           Culture   \n",
       "\n",
       "                                                                    label  \n",
       "0                         I do not think I can find cons to working here.  \n",
       "1           just work, work and you will be on the way up the ladder soon  \n",
       "2                                           how does one join management?  \n",
       "3                     I think that is a question a lot of people may have  \n",
       "4                                 Great customers, co-workers, and money.  \n",
       "5                                  The restaurant is organized and clean.  \n",
       "6  The management was not consistent with their rules and play favorites.  \n",
       "7                                         The new uniforms are not great.  \n",
       "8                                          Nothing .. besides a pay check  \n",
       "9                                                        Unprofessional .  "
      ]
     },
     "execution_count": 107,
     "metadata": {},
     "output_type": "execute_result"
    }
   ],
   "source": [
    "lda_data = zip(list(map(lambda x: lda_topic_labels[x], lda_topic_assignments)), df_flat[idx])\n",
    "lda_KL   = pd.DataFrame(lda_data, columns=[\"text\", \"label\"])\n",
    "lda_KL"
   ]
  },
  {
   "cell_type": "markdown",
   "metadata": {},
   "source": [
    "Judging from manually reviewing the first 30 assignments from each topic model, NMF trained with a Frobenius norm seems to be the best so I'll continue with that for now."
   ]
  },
  {
   "cell_type": "code",
   "execution_count": 25,
   "metadata": {},
   "outputs": [],
   "source": [
    "load_path = \"data/glassdoor/glassdoor_split_stoken.json\""
   ]
  },
  {
   "cell_type": "code",
   "execution_count": 26,
   "metadata": {},
   "outputs": [
    {
     "name": "stdout",
     "output_type": "stream",
     "text": [
      "json load time 0.01511526107788086 s\n"
     ]
    }
   ],
   "source": [
    "start = time.time()\n",
    "data_loader = pd.read_json(load_path, lines=True, chunksize=100)\n",
    "print(\"json load time\", (time.time() - start), \"s\")"
   ]
  },
  {
   "cell_type": "code",
   "execution_count": 23,
   "metadata": {},
   "outputs": [],
   "source": [
    "def drop_short_sents(df, column, num_char):\n",
    "    df.drop(df[df[column].map(len) < num_char].index, inplace=True)"
   ]
  },
  {
   "cell_type": "code",
   "execution_count": 16,
   "metadata": {},
   "outputs": [],
   "source": [
    "def assign_topic(df, column, vectorizer, topic_model):\n",
    "    vectorized = vectorizer.transform(df[column])\n",
    "    topic_scores = topic_model.transform(vectorized)\n",
    "    df['topic'] = np.argmax(topic_scores, axis=1)"
   ]
  },
  {
   "cell_type": "code",
   "execution_count": 17,
   "metadata": {},
   "outputs": [],
   "source": [
    "def append_df_to_JSON(file, df):\n",
    "    json_df = df.to_json(\n",
    "        # path_or_buf=file_path,\n",
    "        orient='records',\n",
    "        lines=True\n",
    "    )\n",
    "    with open(file, 'a', encoding='utf8') as f:\n",
    "        f.write(json_df)\n",
    "        f.write(\"\\n\")"
   ]
  },
  {
   "cell_type": "code",
   "execution_count": 28,
   "metadata": {},
   "outputs": [],
   "source": [
    "save_path = \"data/glassdoor/glassdoor_split_stoken_topics.json\""
   ]
  },
  {
   "cell_type": "code",
   "execution_count": null,
   "metadata": {},
   "outputs": [],
   "source": [
    "i=0\n",
    "for next_df in data_loader:\n",
    "    drop_short_sents(next_df, 'text', 3)\n",
    "    assign_topic(next_df, 'text', tfidf_vectorizer, nmf_fro)\n",
    "    append_df_to_JSON(file_path, next_df)\n",
    "    i+=1\n",
    "    if i==3:\n",
    "        break"
   ]
  },
  {
   "cell_type": "code",
   "execution_count": 39,
   "metadata": {},
   "outputs": [],
   "source": [
    "new_df = pd.read_json(save_path, lines=True, chunksize=100)\n",
    "next_df = next(iter(new_df))"
   ]
  },
  {
   "cell_type": "code",
   "execution_count": 40,
   "metadata": {
    "scrolled": false
   },
   "outputs": [
    {
     "data": {
      "text/html": [
       "<div>\n",
       "<style scoped>\n",
       "    .dataframe tbody tr th:only-of-type {\n",
       "        vertical-align: middle;\n",
       "    }\n",
       "\n",
       "    .dataframe tbody tr th {\n",
       "        vertical-align: top;\n",
       "    }\n",
       "\n",
       "    .dataframe thead th {\n",
       "        text-align: right;\n",
       "    }\n",
       "</style>\n",
       "<table border=\"1\" class=\"dataframe\">\n",
       "  <thead>\n",
       "    <tr style=\"text-align: right;\">\n",
       "      <th></th>\n",
       "      <th>review_num</th>\n",
       "      <th>type</th>\n",
       "      <th>topic</th>\n",
       "      <th>text</th>\n",
       "    </tr>\n",
       "  </thead>\n",
       "  <tbody>\n",
       "    <tr>\n",
       "      <th>0</th>\n",
       "      <td>0</td>\n",
       "      <td>1</td>\n",
       "      <td>5</td>\n",
       "      <td>The people to work with</td>\n",
       "    </tr>\n",
       "    <tr>\n",
       "      <th>1</th>\n",
       "      <td>0</td>\n",
       "      <td>3</td>\n",
       "      <td>5</td>\n",
       "      <td>Hire more hardworking people and schedule fair...</td>\n",
       "    </tr>\n",
       "    <tr>\n",
       "      <th>2</th>\n",
       "      <td>0</td>\n",
       "      <td>2</td>\n",
       "      <td>0</td>\n",
       "      <td>And always understaff.</td>\n",
       "    </tr>\n",
       "    <tr>\n",
       "      <th>3</th>\n",
       "      <td>0</td>\n",
       "      <td>2</td>\n",
       "      <td>6</td>\n",
       "      <td>11-14 hour shifts.</td>\n",
       "    </tr>\n",
       "    <tr>\n",
       "      <th>4</th>\n",
       "      <td>1</td>\n",
       "      <td>2</td>\n",
       "      <td>3</td>\n",
       "      <td>Extensive changes in upper level management ov...</td>\n",
       "    </tr>\n",
       "    <tr>\n",
       "      <th>...</th>\n",
       "      <td>...</td>\n",
       "      <td>...</td>\n",
       "      <td>...</td>\n",
       "      <td>...</td>\n",
       "    </tr>\n",
       "    <tr>\n",
       "      <th>95</th>\n",
       "      <td>20</td>\n",
       "      <td>1</td>\n",
       "      <td>2</td>\n",
       "      <td>Some good people work there.</td>\n",
       "    </tr>\n",
       "    <tr>\n",
       "      <th>96</th>\n",
       "      <td>20</td>\n",
       "      <td>3</td>\n",
       "      <td>3</td>\n",
       "      <td>Top layer may have great ideas and the lower g...</td>\n",
       "    </tr>\n",
       "    <tr>\n",
       "      <th>97</th>\n",
       "      <td>21</td>\n",
       "      <td>2</td>\n",
       "      <td>6</td>\n",
       "      <td>No vacation,  or sick time pay.. No paid vacat...</td>\n",
       "    </tr>\n",
       "    <tr>\n",
       "      <th>98</th>\n",
       "      <td>21</td>\n",
       "      <td>1</td>\n",
       "      <td>6</td>\n",
       "      <td>Union position.</td>\n",
       "    </tr>\n",
       "    <tr>\n",
       "      <th>99</th>\n",
       "      <td>21</td>\n",
       "      <td>3</td>\n",
       "      <td>7</td>\n",
       "      <td>Make it easier for part-timers to hire into fu...</td>\n",
       "    </tr>\n",
       "  </tbody>\n",
       "</table>\n",
       "<p>100 rows × 4 columns</p>\n",
       "</div>"
      ],
      "text/plain": [
       "    review_num  type  topic                                               text\n",
       "0            0     1      5                            The people to work with\n",
       "1            0     3      5  Hire more hardworking people and schedule fair...\n",
       "2            0     2      0                             And always understaff.\n",
       "3            0     2      6                                 11-14 hour shifts.\n",
       "4            1     2      3  Extensive changes in upper level management ov...\n",
       "..         ...   ...    ...                                                ...\n",
       "95          20     1      2                       Some good people work there.\n",
       "96          20     3      3  Top layer may have great ideas and the lower g...\n",
       "97          21     2      6  No vacation,  or sick time pay.. No paid vacat...\n",
       "98          21     1      6                                    Union position.\n",
       "99          21     3      7  Make it easier for part-timers to hire into fu...\n",
       "\n",
       "[100 rows x 4 columns]"
      ]
     },
     "execution_count": 40,
     "metadata": {},
     "output_type": "execute_result"
    }
   ],
   "source": [
    "next_df"
   ]
  },
  {
   "cell_type": "markdown",
   "metadata": {},
   "source": [
    "# Sentiment Pipeline"
   ]
  },
  {
   "cell_type": "code",
   "execution_count": 11,
   "metadata": {},
   "outputs": [],
   "source": [
    "from transformers import pipeline, AutoTokenizer, AutoModelForSequenceClassification"
   ]
  },
  {
   "cell_type": "code",
   "execution_count": 12,
   "metadata": {},
   "outputs": [],
   "source": [
    "MODEL_NAME = \"distilbert-base-uncased-finetuned-sst-2-english\"\n",
    "\n",
    "# Previously tried ######################\n",
    "# \"roberta-base\"                                                   | not sentiment analysis\n",
    "# \"roberta-large-mnli\"                                             | not sentiment analysis\n",
    "# \"distilbert-base-uncased-finetuned-sst-2-english\"                | works!!! NEGATIVE, POSITIVE\n",
    "# \"sshleifer/tiny-distilbert-base-uncased-finetuned-sst-2-english\" | fail\n",
    "# \"textattack/roberta-base-SST-2\"                                  | works!!! LABEL_0, LABEL_1\n",
    "# \"distilbert-base-uncased\"                                        | fail\n",
    "# \"distilbert-base-cased\"                                          | fail"
   ]
  },
  {
   "cell_type": "code",
   "execution_count": 13,
   "metadata": {},
   "outputs": [],
   "source": [
    "tokenizer = AutoTokenizer.from_pretrained(MODEL_NAME)\n",
    "model = AutoModelForSequenceClassification.from_pretrained(MODEL_NAME)"
   ]
  },
  {
   "cell_type": "code",
   "execution_count": 14,
   "metadata": {},
   "outputs": [],
   "source": [
    "classifier = pipeline(\n",
    "    task='sentiment-analysis',\n",
    "    model=model, \n",
    "    tokenizer=tokenizer,\n",
    "    device=-1,\n",
    "    framework='pt',\n",
    "    return_all_scores=False\n",
    ")"
   ]
  },
  {
   "cell_type": "code",
   "execution_count": 15,
   "metadata": {},
   "outputs": [],
   "source": [
    "# classifier.model"
   ]
  },
  {
   "cell_type": "code",
   "execution_count": 16,
   "metadata": {},
   "outputs": [],
   "source": [
    "# classifier('what is the time?')"
   ]
  },
  {
   "cell_type": "code",
   "execution_count": null,
   "metadata": {},
   "outputs": [
    {
     "data": {
      "application/vnd.jupyter.widget-view+json": {
       "model_id": "b6773e337e8e47dea6d978e9e7e0b161",
       "version_major": 2,
       "version_minor": 0
      },
      "text/plain": [
       "HBox(children=(FloatProgress(value=0.0, max=29.0), HTML(value='')))"
      ]
     },
     "metadata": {},
     "output_type": "display_data"
    },
    {
     "name": "stdout",
     "output_type": "stream",
     "text": [
      "running sentiment-analysis on All_Beauty\n"
     ]
    },
    {
     "data": {
      "application/vnd.jupyter.widget-view+json": {
       "model_id": "05d1cc928e48485d8379b0c6b9bb91f4",
       "version_major": 2,
       "version_minor": 0
      },
      "text/plain": [
       "HBox(children=(FloatProgress(value=1.0, bar_style='info', max=1.0), HTML(value='')))"
      ]
     },
     "metadata": {},
     "output_type": "display_data"
    },
    {
     "name": "stdout",
     "output_type": "stream",
     "text": [
      "\n",
      "1484\n",
      "running sentiment-analysis on AMAZON_FASHION\n"
     ]
    },
    {
     "data": {
      "application/vnd.jupyter.widget-view+json": {
       "model_id": "639d92ab4b594d7e963795445710e77a",
       "version_major": 2,
       "version_minor": 0
      },
      "text/plain": [
       "HBox(children=(FloatProgress(value=1.0, bar_style='info', max=1.0), HTML(value='')))"
      ]
     },
     "metadata": {},
     "output_type": "display_data"
    }
   ],
   "source": [
    "save_path = \"data/amazon/by_category/preprocessed\"\n",
    "\n",
    "column_order = ['category_id', \n",
    "                'overall', \n",
    "                'star_sentiment', \n",
    "                'reviewText', \n",
    "                'summary', \n",
    "                'num_words', \n",
    "                'polarity']\n",
    "\n",
    "category_id = 0\n",
    "\n",
    "error_counter = 0\n",
    "\n",
    "for file_name, json_loader in tqdm(train_loaders.items()):\n",
    "    print('running sentiment-analysis on', file_name)\n",
    "    file_path = os.path.join(save_path, file_name + '_results2.json')\n",
    "    for df in tqdm(json_loader):\n",
    "        \n",
    "        # Preprocess #####################\n",
    "\n",
    "        # create an approximate label from the star ratings for future training\n",
    "        df['star_sentiment'] = df['overall'].apply(to_sentiment)\n",
    "\n",
    "        # add the number of words in the reviewText\n",
    "        df['num_words'] = df['reviewText'].str.split().str.len()\n",
    "\n",
    "        # avoid possible data leakage where the thing to predict exists in the data\n",
    "        df['summary'] = df['summary'].replace(['One Star', \n",
    "                                               'Two Stars', \n",
    "                                               'Three Stars', \n",
    "                                               'Four Stars', \n",
    "                                               'Five Stars'], '')\n",
    "        \n",
    "        # add category_id\n",
    "        df['category_id'] = category_id\n",
    "        \n",
    "        # drop irrelevant columns\n",
    "        df = df.drop(columns=[\n",
    "            'verified',\n",
    "            'reviewTime',\n",
    "            'reviewerID',\n",
    "            'asin',\n",
    "            'reviewerName',\n",
    "            'unixReviewTime',\n",
    "            'vote',\n",
    "            'style',\n",
    "            'image'\n",
    "        ], errors='ignore')\n",
    "\n",
    "        # Sentiment Analysis ##################### \n",
    "        try:\n",
    "            sentiments = classifier(list(df['reviewText']))\n",
    "        except:\n",
    "            error_counter+=1\n",
    "            continue\n",
    "            \n",
    "        df_results = pd.DataFrame(sentiments)\n",
    "        \n",
    "        df['polarity'] = np.where(df_results['label'] == 'POSITIVE', \n",
    "                                  df_results['score'], \n",
    "                                  df_results['score'] * -1)\n",
    "        \n",
    "        df = df[column_order]\n",
    "        \n",
    "        # Save results #####################\n",
    "        append_df_to_JSON(file_path, df)\n",
    "    \n",
    "    print(error_counter)\n",
    "    category_id += 1"
   ]
  },
  {
   "cell_type": "markdown",
   "metadata": {},
   "source": [
    "# Reviewing Results"
   ]
  },
  {
   "cell_type": "code",
   "execution_count": 67,
   "metadata": {},
   "outputs": [
    {
     "data": {
      "application/vnd.jupyter.widget-view+json": {
       "model_id": "1f5e77edcad44800a5350cda8c7561d6",
       "version_major": 2,
       "version_minor": 0
      },
      "text/plain": [
       "HBox(children=(FloatProgress(value=0.0, max=2.0), HTML(value='')))"
      ]
     },
     "metadata": {},
     "output_type": "display_data"
    },
    {
     "name": "stdout",
     "output_type": "stream",
     "text": [
      "\n"
     ]
    },
    {
     "data": {
      "text/plain": [
       "{'All_Beauty_results2': <pandas.io.json._json.JsonReader at 0x1f8f328ec10>,\n",
       " 'AMAZON_FASHION_results2': <pandas.io.json._json.JsonReader at 0x1f8f328e400>}"
      ]
     },
     "execution_count": 67,
     "metadata": {},
     "output_type": "execute_result"
    }
   ],
   "source": [
    "results_dir = \"data/amazon/by_category/preprocessed\"\n",
    "results_loaders = load_data(results_dir, batch_size=25, keyword=\"results2\")\n",
    "results_loaders"
   ]
  },
  {
   "cell_type": "code",
   "execution_count": 68,
   "metadata": {},
   "outputs": [],
   "source": [
    "# intervals for binning the polarity\n",
    "cut_class = np.arange(3)\n",
    "cut_class_text = [\"Negative\", \"Neutral\", \"Positive\"]\n",
    "cut_bins = np.linspace(\n",
    "    start = -1, \n",
    "    stop = 1,\n",
    "    num = 4\n",
    ")"
   ]
  },
  {
   "cell_type": "code",
   "execution_count": 69,
   "metadata": {
    "scrolled": true
   },
   "outputs": [
    {
     "data": {
      "application/vnd.jupyter.widget-view+json": {
       "model_id": "ad9de9645f16480ba547d90034375cb5",
       "version_major": 2,
       "version_minor": 0
      },
      "text/plain": [
       "HBox(children=(FloatProgress(value=0.0, max=2.0), HTML(value='')))"
      ]
     },
     "metadata": {},
     "output_type": "display_data"
    },
    {
     "name": "stdout",
     "output_type": "stream",
     "text": [
      "loading results for All_Beauty_results2\n"
     ]
    },
    {
     "data": {
      "application/vnd.jupyter.widget-view+json": {
       "model_id": "b141c74035814788a70098f3029405cd",
       "version_major": 2,
       "version_minor": 0
      },
      "text/plain": [
       "HBox(children=(FloatProgress(value=1.0, bar_style='info', max=1.0), HTML(value='')))"
      ]
     },
     "metadata": {},
     "output_type": "display_data"
    },
    {
     "name": "stdout",
     "output_type": "stream",
     "text": [
      "\n",
      "loading results for AMAZON_FASHION_results2\n"
     ]
    },
    {
     "data": {
      "application/vnd.jupyter.widget-view+json": {
       "model_id": "cbf5efe6c46d4426aa19c2c0f60fa23f",
       "version_major": 2,
       "version_minor": 0
      },
      "text/plain": [
       "HBox(children=(FloatProgress(value=1.0, bar_style='info', max=1.0), HTML(value='')))"
      ]
     },
     "metadata": {},
     "output_type": "display_data"
    },
    {
     "name": "stdout",
     "output_type": "stream",
     "text": [
      "\n",
      "\n"
     ]
    },
    {
     "data": {
      "text/html": [
       "<div>\n",
       "<style scoped>\n",
       "    .dataframe tbody tr th:only-of-type {\n",
       "        vertical-align: middle;\n",
       "    }\n",
       "\n",
       "    .dataframe tbody tr th {\n",
       "        vertical-align: top;\n",
       "    }\n",
       "\n",
       "    .dataframe thead th {\n",
       "        text-align: right;\n",
       "    }\n",
       "</style>\n",
       "<table border=\"1\" class=\"dataframe\">\n",
       "  <thead>\n",
       "    <tr style=\"text-align: right;\">\n",
       "      <th></th>\n",
       "      <th>All_Beauty_results2</th>\n",
       "      <th>AMAZON_FASHION_results2</th>\n",
       "    </tr>\n",
       "  </thead>\n",
       "  <tbody>\n",
       "    <tr>\n",
       "      <th>accuracy</th>\n",
       "      <td>0.798088</td>\n",
       "      <td>0.79531</td>\n",
       "    </tr>\n",
       "    <tr>\n",
       "      <th>class_counts</th>\n",
       "      <td>[102892.0, 0.0, 231778.0]</td>\n",
       "      <td>[49524.0, 0.0, 127026.0]</td>\n",
       "    </tr>\n",
       "  </tbody>\n",
       "</table>\n",
       "</div>"
      ],
      "text/plain": [
       "                    All_Beauty_results2   AMAZON_FASHION_results2\n",
       "accuracy                       0.798088                   0.79531\n",
       "class_counts  [102892.0, 0.0, 231778.0]  [49524.0, 0.0, 127026.0]"
      ]
     },
     "execution_count": 69,
     "metadata": {},
     "output_type": "execute_result"
    }
   ],
   "source": [
    "results = {}\n",
    "for file_name, json_loader in tqdm(results_loaders.items()):\n",
    "    \n",
    "    print('loading results for', file_name)\n",
    "    \n",
    "    class_counts = np.zeros(3)\n",
    "    \n",
    "    total_correct = 0\n",
    "    total_rows = 0\n",
    "    \n",
    "    for df in tqdm(json_loader):\n",
    "        \n",
    "        # add new columns\n",
    "        df['class']      = pd.cut(df['polarity'], bins=cut_bins, labels=cut_class)\n",
    "        # df['class_text'] = pd.cut(df['polarity'], bins=cut_bins, labels=cut_class_text)\n",
    "        \n",
    "        # for accuracy\n",
    "        total_correct += np.sum(df['star_sentiment'] == df['class'])\n",
    "        total_rows += len(df)\n",
    "        \n",
    "        # for class counts\n",
    "        class_counts += list(df['class'].value_counts(sort=False))\n",
    "    \n",
    "    # category accuracy\n",
    "    acc = total_correct / total_rows\n",
    "    \n",
    "    # save results \n",
    "    results[file_name] = {\n",
    "        'accuracy': acc,\n",
    "        'class_counts' : class_counts\n",
    "    }\n",
    "    \n",
    "df_results = pd.DataFrame.from_dict(results)\n",
    "df_results"
   ]
  },
  {
   "cell_type": "code",
   "execution_count": 85,
   "metadata": {},
   "outputs": [
    {
     "data": {
      "image/png": "[encoded data removed]",
      "text/plain": [
       "<Figure size 432x288 with 1 Axes>"
      ]
     },
     "metadata": {
      "needs_background": "light"
     },
     "output_type": "display_data"
    },
    {
     "data": {
      "image/png": "[encoded data removed]",
      "text/plain": [
       "<Figure size 432x288 with 1 Axes>"
      ]
     },
     "metadata": {
      "needs_background": "light"
     },
     "output_type": "display_data"
    }
   ],
   "source": [
    "for result in df_results:\n",
    "    y = df_results.T['class_counts'][0]\n",
    "    plt.bar(cut_class_text, y)\n",
    "    plt.title(result)\n",
    "    plt.show()"
   ]
  },
  {
   "cell_type": "code",
   "execution_count": 86,
   "metadata": {},
   "outputs": [
    {
     "data": {
      "text/html": [
       "<div>\n",
       "<style scoped>\n",
       "    .dataframe tbody tr th:only-of-type {\n",
       "        vertical-align: middle;\n",
       "    }\n",
       "\n",
       "    .dataframe tbody tr th {\n",
       "        vertical-align: top;\n",
       "    }\n",
       "\n",
       "    .dataframe thead th {\n",
       "        text-align: right;\n",
       "    }\n",
       "</style>\n",
       "<table border=\"1\" class=\"dataframe\">\n",
       "  <thead>\n",
       "    <tr style=\"text-align: right;\">\n",
       "      <th></th>\n",
       "      <th>category_id</th>\n",
       "      <th>overall</th>\n",
       "      <th>star_sentiment</th>\n",
       "      <th>reviewText</th>\n",
       "      <th>summary</th>\n",
       "      <th>num_words</th>\n",
       "      <th>polarity</th>\n",
       "      <th>class</th>\n",
       "      <th>class_text</th>\n",
       "    </tr>\n",
       "  </thead>\n",
       "  <tbody>\n",
       "    <tr>\n",
       "      <th>176525</th>\n",
       "      <td>1</td>\n",
       "      <td>1</td>\n",
       "      <td>0</td>\n",
       "      <td>Small</td>\n",
       "      <td></td>\n",
       "      <td>1</td>\n",
       "      <td>-0.996106</td>\n",
       "      <td>0</td>\n",
       "      <td>Negative</td>\n",
       "    </tr>\n",
       "    <tr>\n",
       "      <th>176526</th>\n",
       "      <td>1</td>\n",
       "      <td>3</td>\n",
       "      <td>1</td>\n",
       "      <td>It's an elastic waistband with vertical strips...</td>\n",
       "      <td>It's just ok. There is no \"tie top\" or split.</td>\n",
       "      <td>22</td>\n",
       "      <td>-0.852520</td>\n",
       "      <td>0</td>\n",
       "      <td>Negative</td>\n",
       "    </tr>\n",
       "    <tr>\n",
       "      <th>176527</th>\n",
       "      <td>1</td>\n",
       "      <td>5</td>\n",
       "      <td>2</td>\n",
       "      <td>I purchased size large.  I am 5'10\" with a 32\"...</td>\n",
       "      <td>The length was perfect, just down to my ankles</td>\n",
       "      <td>75</td>\n",
       "      <td>0.999314</td>\n",
       "      <td>2</td>\n",
       "      <td>Positive</td>\n",
       "    </tr>\n",
       "    <tr>\n",
       "      <th>176528</th>\n",
       "      <td>1</td>\n",
       "      <td>5</td>\n",
       "      <td>2</td>\n",
       "      <td>Love that it is long and flowy. You can wear i...</td>\n",
       "      <td>Love that it is long and flowy</td>\n",
       "      <td>21</td>\n",
       "      <td>0.999852</td>\n",
       "      <td>2</td>\n",
       "      <td>Positive</td>\n",
       "    </tr>\n",
       "    <tr>\n",
       "      <th>176529</th>\n",
       "      <td>1</td>\n",
       "      <td>1</td>\n",
       "      <td>0</td>\n",
       "      <td>Hate it!! It is not as big and full.  Like the...</td>\n",
       "      <td></td>\n",
       "      <td>16</td>\n",
       "      <td>-0.999822</td>\n",
       "      <td>0</td>\n",
       "      <td>Negative</td>\n",
       "    </tr>\n",
       "    <tr>\n",
       "      <th>176530</th>\n",
       "      <td>1</td>\n",
       "      <td>1</td>\n",
       "      <td>0</td>\n",
       "      <td>It's a beautiful skirt but is way small. I got...</td>\n",
       "      <td>skirt not worth the money</td>\n",
       "      <td>46</td>\n",
       "      <td>-0.998091</td>\n",
       "      <td>0</td>\n",
       "      <td>Negative</td>\n",
       "    </tr>\n",
       "    <tr>\n",
       "      <th>176531</th>\n",
       "      <td>1</td>\n",
       "      <td>5</td>\n",
       "      <td>2</td>\n",
       "      <td>Looks like it cost more than I spent.  It mana...</td>\n",
       "      <td>Absolutely beautiful and stunning little eveni...</td>\n",
       "      <td>52</td>\n",
       "      <td>-0.994881</td>\n",
       "      <td>0</td>\n",
       "      <td>Negative</td>\n",
       "    </tr>\n",
       "    <tr>\n",
       "      <th>176532</th>\n",
       "      <td>1</td>\n",
       "      <td>5</td>\n",
       "      <td>2</td>\n",
       "      <td>Perfect size - Beautiful purse that I used for...</td>\n",
       "      <td>Great value</td>\n",
       "      <td>21</td>\n",
       "      <td>0.999833</td>\n",
       "      <td>2</td>\n",
       "      <td>Positive</td>\n",
       "    </tr>\n",
       "    <tr>\n",
       "      <th>176533</th>\n",
       "      <td>1</td>\n",
       "      <td>5</td>\n",
       "      <td>2</td>\n",
       "      <td>The bag is stunning. Two separate straps for c...</td>\n",
       "      <td>The Glamourous Peacock</td>\n",
       "      <td>37</td>\n",
       "      <td>0.999731</td>\n",
       "      <td>2</td>\n",
       "      <td>Positive</td>\n",
       "    </tr>\n",
       "    <tr>\n",
       "      <th>176534</th>\n",
       "      <td>1</td>\n",
       "      <td>5</td>\n",
       "      <td>2</td>\n",
       "      <td>OMG!  I love this purse!  I was a little worri...</td>\n",
       "      <td>Perfect!</td>\n",
       "      <td>45</td>\n",
       "      <td>0.999717</td>\n",
       "      <td>2</td>\n",
       "      <td>Positive</td>\n",
       "    </tr>\n",
       "    <tr>\n",
       "      <th>176535</th>\n",
       "      <td>1</td>\n",
       "      <td>4</td>\n",
       "      <td>2</td>\n",
       "      <td>The bag is lovely. You can carry glasses and k...</td>\n",
       "      <td>lovely, practical evening bag</td>\n",
       "      <td>46</td>\n",
       "      <td>0.969380</td>\n",
       "      <td>2</td>\n",
       "      <td>Positive</td>\n",
       "    </tr>\n",
       "    <tr>\n",
       "      <th>176536</th>\n",
       "      <td>1</td>\n",
       "      <td>5</td>\n",
       "      <td>2</td>\n",
       "      <td>Very shiny and sparkly. Beautiful and classy l...</td>\n",
       "      <td>Beautiful and classy looking in person</td>\n",
       "      <td>14</td>\n",
       "      <td>0.999885</td>\n",
       "      <td>2</td>\n",
       "      <td>Positive</td>\n",
       "    </tr>\n",
       "    <tr>\n",
       "      <th>176537</th>\n",
       "      <td>1</td>\n",
       "      <td>5</td>\n",
       "      <td>2</td>\n",
       "      <td>well its beautiful bag but it's small for my p...</td>\n",
       "      <td>Beautiful but small</td>\n",
       "      <td>29</td>\n",
       "      <td>0.521213</td>\n",
       "      <td>2</td>\n",
       "      <td>Positive</td>\n",
       "    </tr>\n",
       "    <tr>\n",
       "      <th>176538</th>\n",
       "      <td>1</td>\n",
       "      <td>5</td>\n",
       "      <td>2</td>\n",
       "      <td>I love it!!! This is even more elegant than it...</td>\n",
       "      <td>Beautiful and Sparkly!</td>\n",
       "      <td>29</td>\n",
       "      <td>0.999882</td>\n",
       "      <td>2</td>\n",
       "      <td>Positive</td>\n",
       "    </tr>\n",
       "    <tr>\n",
       "      <th>176539</th>\n",
       "      <td>1</td>\n",
       "      <td>5</td>\n",
       "      <td>2</td>\n",
       "      <td>Nice bag, a tad on the bright side, good for b...</td>\n",
       "      <td>Nice bag, a tad on the bright side</td>\n",
       "      <td>19</td>\n",
       "      <td>0.999363</td>\n",
       "      <td>2</td>\n",
       "      <td>Positive</td>\n",
       "    </tr>\n",
       "    <tr>\n",
       "      <th>176540</th>\n",
       "      <td>1</td>\n",
       "      <td>2</td>\n",
       "      <td>0</td>\n",
       "      <td>I order 2 silver but like what you see in the ...</td>\n",
       "      <td>I order 2 silver but like what you see in the ...</td>\n",
       "      <td>21</td>\n",
       "      <td>0.994822</td>\n",
       "      <td>2</td>\n",
       "      <td>Positive</td>\n",
       "    </tr>\n",
       "    <tr>\n",
       "      <th>176541</th>\n",
       "      <td>1</td>\n",
       "      <td>4</td>\n",
       "      <td>2</td>\n",
       "      <td>This is a pretty little clutch, and extremely ...</td>\n",
       "      <td>Pretty but not perfect</td>\n",
       "      <td>204</td>\n",
       "      <td>0.694117</td>\n",
       "      <td>2</td>\n",
       "      <td>Positive</td>\n",
       "    </tr>\n",
       "    <tr>\n",
       "      <th>176542</th>\n",
       "      <td>1</td>\n",
       "      <td>4</td>\n",
       "      <td>2</td>\n",
       "      <td>Very beautiful purse but not very big.  My iPh...</td>\n",
       "      <td>Very beautiful purse but not very big</td>\n",
       "      <td>22</td>\n",
       "      <td>-0.998961</td>\n",
       "      <td>0</td>\n",
       "      <td>Negative</td>\n",
       "    </tr>\n",
       "    <tr>\n",
       "      <th>176543</th>\n",
       "      <td>1</td>\n",
       "      <td>5</td>\n",
       "      <td>2</td>\n",
       "      <td>I just received this today and I love it! I am...</td>\n",
       "      <td>Very cute fancy little purse.</td>\n",
       "      <td>107</td>\n",
       "      <td>0.989915</td>\n",
       "      <td>2</td>\n",
       "      <td>Positive</td>\n",
       "    </tr>\n",
       "    <tr>\n",
       "      <th>176544</th>\n",
       "      <td>1</td>\n",
       "      <td>3</td>\n",
       "      <td>1</td>\n",
       "      <td>Beautiful color.  Orange panels are longer tha...</td>\n",
       "      <td>Oddly cut</td>\n",
       "      <td>9</td>\n",
       "      <td>0.999552</td>\n",
       "      <td>2</td>\n",
       "      <td>Positive</td>\n",
       "    </tr>\n",
       "    <tr>\n",
       "      <th>176545</th>\n",
       "      <td>1</td>\n",
       "      <td>1</td>\n",
       "      <td>0</td>\n",
       "      <td>Not what it looks like.  Poor quality, especia...</td>\n",
       "      <td>Returning it</td>\n",
       "      <td>10</td>\n",
       "      <td>-0.999815</td>\n",
       "      <td>0</td>\n",
       "      <td>Negative</td>\n",
       "    </tr>\n",
       "    <tr>\n",
       "      <th>176546</th>\n",
       "      <td>1</td>\n",
       "      <td>3</td>\n",
       "      <td>1</td>\n",
       "      <td>The dress is sooo cute, but it didn't come wit...</td>\n",
       "      <td>No belt, a little to small</td>\n",
       "      <td>93</td>\n",
       "      <td>-0.993836</td>\n",
       "      <td>0</td>\n",
       "      <td>Negative</td>\n",
       "    </tr>\n",
       "    <tr>\n",
       "      <th>176547</th>\n",
       "      <td>1</td>\n",
       "      <td>5</td>\n",
       "      <td>2</td>\n",
       "      <td>Love it runs a lil small</td>\n",
       "      <td></td>\n",
       "      <td>6</td>\n",
       "      <td>0.999810</td>\n",
       "      <td>2</td>\n",
       "      <td>Positive</td>\n",
       "    </tr>\n",
       "    <tr>\n",
       "      <th>176548</th>\n",
       "      <td>1</td>\n",
       "      <td>4</td>\n",
       "      <td>2</td>\n",
       "      <td>Cute summer dress.</td>\n",
       "      <td></td>\n",
       "      <td>3</td>\n",
       "      <td>0.999881</td>\n",
       "      <td>2</td>\n",
       "      <td>Positive</td>\n",
       "    </tr>\n",
       "    <tr>\n",
       "      <th>176549</th>\n",
       "      <td>1</td>\n",
       "      <td>5</td>\n",
       "      <td>2</td>\n",
       "      <td>Perefct for my daughter</td>\n",
       "      <td></td>\n",
       "      <td>4</td>\n",
       "      <td>-0.937922</td>\n",
       "      <td>0</td>\n",
       "      <td>Negative</td>\n",
       "    </tr>\n",
       "  </tbody>\n",
       "</table>\n",
       "</div>"
      ],
      "text/plain": [
       "        category_id  overall  star_sentiment  \\\n",
       "176525            1        1               0   \n",
       "176526            1        3               1   \n",
       "176527            1        5               2   \n",
       "176528            1        5               2   \n",
       "176529            1        1               0   \n",
       "176530            1        1               0   \n",
       "176531            1        5               2   \n",
       "176532            1        5               2   \n",
       "176533            1        5               2   \n",
       "176534            1        5               2   \n",
       "176535            1        4               2   \n",
       "176536            1        5               2   \n",
       "176537            1        5               2   \n",
       "176538            1        5               2   \n",
       "176539            1        5               2   \n",
       "176540            1        2               0   \n",
       "176541            1        4               2   \n",
       "176542            1        4               2   \n",
       "176543            1        5               2   \n",
       "176544            1        3               1   \n",
       "176545            1        1               0   \n",
       "176546            1        3               1   \n",
       "176547            1        5               2   \n",
       "176548            1        4               2   \n",
       "176549            1        5               2   \n",
       "\n",
       "                                               reviewText  \\\n",
       "176525                                              Small   \n",
       "176526  It's an elastic waistband with vertical strips...   \n",
       "176527  I purchased size large.  I am 5'10\" with a 32\"...   \n",
       "176528  Love that it is long and flowy. You can wear i...   \n",
       "176529  Hate it!! It is not as big and full.  Like the...   \n",
       "176530  It's a beautiful skirt but is way small. I got...   \n",
       "176531  Looks like it cost more than I spent.  It mana...   \n",
       "176532  Perfect size - Beautiful purse that I used for...   \n",
       "176533  The bag is stunning. Two separate straps for c...   \n",
       "176534  OMG!  I love this purse!  I was a little worri...   \n",
       "176535  The bag is lovely. You can carry glasses and k...   \n",
       "176536  Very shiny and sparkly. Beautiful and classy l...   \n",
       "176537  well its beautiful bag but it's small for my p...   \n",
       "176538  I love it!!! This is even more elegant than it...   \n",
       "176539  Nice bag, a tad on the bright side, good for b...   \n",
       "176540  I order 2 silver but like what you see in the ...   \n",
       "176541  This is a pretty little clutch, and extremely ...   \n",
       "176542  Very beautiful purse but not very big.  My iPh...   \n",
       "176543  I just received this today and I love it! I am...   \n",
       "176544  Beautiful color.  Orange panels are longer tha...   \n",
       "176545  Not what it looks like.  Poor quality, especia...   \n",
       "176546  The dress is sooo cute, but it didn't come wit...   \n",
       "176547                           Love it runs a lil small   \n",
       "176548                                 Cute summer dress.   \n",
       "176549                            Perefct for my daughter   \n",
       "\n",
       "                                                  summary  num_words  \\\n",
       "176525                                                             1   \n",
       "176526      It's just ok. There is no \"tie top\" or split.         22   \n",
       "176527     The length was perfect, just down to my ankles         75   \n",
       "176528                     Love that it is long and flowy         21   \n",
       "176529                                                            16   \n",
       "176530                          skirt not worth the money         46   \n",
       "176531  Absolutely beautiful and stunning little eveni...         52   \n",
       "176532                                        Great value         21   \n",
       "176533                             The Glamourous Peacock         37   \n",
       "176534                                           Perfect!         45   \n",
       "176535                      lovely, practical evening bag         46   \n",
       "176536             Beautiful and classy looking in person         14   \n",
       "176537                                Beautiful but small         29   \n",
       "176538                             Beautiful and Sparkly!         29   \n",
       "176539                 Nice bag, a tad on the bright side         19   \n",
       "176540  I order 2 silver but like what you see in the ...         21   \n",
       "176541                             Pretty but not perfect        204   \n",
       "176542              Very beautiful purse but not very big         22   \n",
       "176543                      Very cute fancy little purse.        107   \n",
       "176544                                          Oddly cut          9   \n",
       "176545                                       Returning it         10   \n",
       "176546                         No belt, a little to small         93   \n",
       "176547                                                             6   \n",
       "176548                                                             3   \n",
       "176549                                                             4   \n",
       "\n",
       "        polarity class class_text  \n",
       "176525 -0.996106     0   Negative  \n",
       "176526 -0.852520     0   Negative  \n",
       "176527  0.999314     2   Positive  \n",
       "176528  0.999852     2   Positive  \n",
       "176529 -0.999822     0   Negative  \n",
       "176530 -0.998091     0   Negative  \n",
       "176531 -0.994881     0   Negative  \n",
       "176532  0.999833     2   Positive  \n",
       "176533  0.999731     2   Positive  \n",
       "176534  0.999717     2   Positive  \n",
       "176535  0.969380     2   Positive  \n",
       "176536  0.999885     2   Positive  \n",
       "176537  0.521213     2   Positive  \n",
       "176538  0.999882     2   Positive  \n",
       "176539  0.999363     2   Positive  \n",
       "176540  0.994822     2   Positive  \n",
       "176541  0.694117     2   Positive  \n",
       "176542 -0.998961     0   Negative  \n",
       "176543  0.989915     2   Positive  \n",
       "176544  0.999552     2   Positive  \n",
       "176545 -0.999815     0   Negative  \n",
       "176546 -0.993836     0   Negative  \n",
       "176547  0.999810     2   Positive  \n",
       "176548  0.999881     2   Positive  \n",
       "176549 -0.937922     0   Negative  "
      ]
     },
     "execution_count": 86,
     "metadata": {},
     "output_type": "execute_result"
    }
   ],
   "source": [
    "df"
   ]
  },
  {
   "cell_type": "code",
   "execution_count": null,
   "metadata": {},
   "outputs": [],
   "source": []
  },
  {
   "cell_type": "code",
   "execution_count": null,
   "metadata": {},
   "outputs": [],
   "source": []
  },
  {
   "cell_type": "code",
   "execution_count": null,
   "metadata": {},
   "outputs": [],
   "source": []
  },
  {
   "cell_type": "code",
   "execution_count": null,
   "metadata": {},
   "outputs": [],
   "source": []
  },
  {
   "cell_type": "code",
   "execution_count": null,
   "metadata": {},
   "outputs": [],
   "source": []
  },
  {
   "cell_type": "code",
   "execution_count": null,
   "metadata": {},
   "outputs": [],
   "source": []
  },
  {
   "cell_type": "code",
   "execution_count": null,
   "metadata": {},
   "outputs": [],
   "source": []
  },
  {
   "cell_type": "code",
   "execution_count": null,
   "metadata": {},
   "outputs": [],
   "source": []
  },
  {
   "cell_type": "code",
   "execution_count": null,
   "metadata": {},
   "outputs": [],
   "source": []
  },
  {
   "cell_type": "markdown",
   "metadata": {},
   "source": [
    "## Train-Test Split"
   ]
  },
  {
   "cell_type": "code",
   "execution_count": 6,
   "metadata": {},
   "outputs": [],
   "source": [
    "from sklearn.model_selection import train_test_split"
   ]
  },
  {
   "cell_type": "code",
   "execution_count": 7,
   "metadata": {},
   "outputs": [],
   "source": [
    "train, test = train_test_split(df[\"reviewText\"], test_size=0.2, random_state=42, shuffle=True)"
   ]
  },
  {
   "cell_type": "markdown",
   "metadata": {},
   "source": [
    "## Save reviews to text format"
   ]
  },
  {
   "cell_type": "code",
   "execution_count": 8,
   "metadata": {},
   "outputs": [],
   "source": [
    "save_dir = \"data/amazon\"\n",
    "\n",
    "train_file = \"Prime_Pantry.reviewText.train.txt\"\n",
    "test_file = \"Prime_Pantry.reviewText.test.txt\"\n",
    "\n",
    "train_path = os.path.join(save_dir, train_file)\n",
    "test_path = os.path.join(save_dir, test_file)\n",
    "\n",
    "train.to_csv(train_path, header=None, index=None, sep=' ')\n",
    "test.to_csv(test_path, header=None, index=None, sep=' ')"
   ]
  },
  {
   "cell_type": "markdown",
   "metadata": {},
   "source": [
    "# Pipeline"
   ]
  },
  {
   "cell_type": "code",
   "execution_count": 9,
   "metadata": {},
   "outputs": [],
   "source": [
    "from transformers import pipeline"
   ]
  },
  {
   "cell_type": "code",
   "execution_count": 10,
   "metadata": {},
   "outputs": [],
   "source": [
    "classifier = pipeline('sentiment-analysis')"
   ]
  },
  {
   "cell_type": "code",
   "execution_count": 92,
   "metadata": {},
   "outputs": [
    {
     "data": {
      "text/html": [
       "<div>\n",
       "<style scoped>\n",
       "    .dataframe tbody tr th:only-of-type {\n",
       "        vertical-align: middle;\n",
       "    }\n",
       "\n",
       "    .dataframe tbody tr th {\n",
       "        vertical-align: top;\n",
       "    }\n",
       "\n",
       "    .dataframe thead th {\n",
       "        text-align: right;\n",
       "    }\n",
       "</style>\n",
       "<table border=\"1\" class=\"dataframe\">\n",
       "  <thead>\n",
       "    <tr style=\"text-align: right;\">\n",
       "      <th></th>\n",
       "      <th>overall</th>\n",
       "      <th>verified</th>\n",
       "      <th>reviewTime</th>\n",
       "      <th>reviewerID</th>\n",
       "      <th>asin</th>\n",
       "      <th>reviewerName</th>\n",
       "      <th>reviewText</th>\n",
       "      <th>summary</th>\n",
       "      <th>unixReviewTime</th>\n",
       "      <th>vote</th>\n",
       "    </tr>\n",
       "  </thead>\n",
       "  <tbody>\n",
       "    <tr>\n",
       "      <th>0</th>\n",
       "      <td>1.0</td>\n",
       "      <td>False</td>\n",
       "      <td>12 11, 2015</td>\n",
       "      <td>A27BTSGLXK2C5K</td>\n",
       "      <td>B017O9P72A</td>\n",
       "      <td>Jacob M. Wessler</td>\n",
       "      <td>Alexa is not able to control my lights. If I a...</td>\n",
       "      <td>VERY Buggy, doesn't work.</td>\n",
       "      <td>1449792000</td>\n",
       "      <td></td>\n",
       "    </tr>\n",
       "    <tr>\n",
       "      <th>1</th>\n",
       "      <td>4.0</td>\n",
       "      <td>False</td>\n",
       "      <td>12 8, 2015</td>\n",
       "      <td>A27ZJ1NCBFP1HZ</td>\n",
       "      <td>B017O9P72A</td>\n",
       "      <td>Greg</td>\n",
       "      <td>Alexa works great for me so far, but I'm also ...</td>\n",
       "      <td>So Far So Good</td>\n",
       "      <td>1449532800</td>\n",
       "      <td>5</td>\n",
       "    </tr>\n",
       "    <tr>\n",
       "      <th>2</th>\n",
       "      <td>1.0</td>\n",
       "      <td>False</td>\n",
       "      <td>12 7, 2015</td>\n",
       "      <td>ACCQIOZMFN4UK</td>\n",
       "      <td>B017O9P72A</td>\n",
       "      <td>Da-Gr8-1</td>\n",
       "      <td>Weak!!\\n\\nAlexa doesn't even recognize the nam...</td>\n",
       "      <td>Time waster</td>\n",
       "      <td>1449446400</td>\n",
       "      <td>11</td>\n",
       "    </tr>\n",
       "    <tr>\n",
       "      <th>3</th>\n",
       "      <td>2.0</td>\n",
       "      <td>False</td>\n",
       "      <td>12 5, 2015</td>\n",
       "      <td>A3KUPJ396OQF78</td>\n",
       "      <td>B017O9P72A</td>\n",
       "      <td>Larry Russlin</td>\n",
       "      <td>Can only control one of two bulbs from one of ...</td>\n",
       "      <td>Buggy</td>\n",
       "      <td>1449273600</td>\n",
       "      <td></td>\n",
       "    </tr>\n",
       "    <tr>\n",
       "      <th>4</th>\n",
       "      <td>1.0</td>\n",
       "      <td>False</td>\n",
       "      <td>02 2, 2018</td>\n",
       "      <td>A1U1RE1ZI19E1H</td>\n",
       "      <td>B017O9P72A</td>\n",
       "      <td>Rebekah</td>\n",
       "      <td>this worked great then randomly stopped. pleas...</td>\n",
       "      <td>stopped working</td>\n",
       "      <td>1517529600</td>\n",
       "      <td>2</td>\n",
       "    </tr>\n",
       "    <tr>\n",
       "      <th>...</th>\n",
       "      <td>...</td>\n",
       "      <td>...</td>\n",
       "      <td>...</td>\n",
       "      <td>...</td>\n",
       "      <td>...</td>\n",
       "      <td>...</td>\n",
       "      <td>...</td>\n",
       "      <td>...</td>\n",
       "      <td>...</td>\n",
       "      <td>...</td>\n",
       "    </tr>\n",
       "    <tr>\n",
       "      <th>996</th>\n",
       "      <td>5.0</td>\n",
       "      <td>False</td>\n",
       "      <td>07 6, 2017</td>\n",
       "      <td>A2Q47Z4IJPFZRW</td>\n",
       "      <td>B017OBSCOS</td>\n",
       "      <td>Jim Conrad</td>\n",
       "      <td>Although Alexa doesn't always get the right wo...</td>\n",
       "      <td>Wonderful wordsmith game</td>\n",
       "      <td>1499299200</td>\n",
       "      <td></td>\n",
       "    </tr>\n",
       "    <tr>\n",
       "      <th>997</th>\n",
       "      <td>5.0</td>\n",
       "      <td>False</td>\n",
       "      <td>07 5, 2017</td>\n",
       "      <td>A2UUS1TBJFXV2L</td>\n",
       "      <td>B017OBSCOS</td>\n",
       "      <td>Nick DeTroia</td>\n",
       "      <td>Great game, helps with expanding vocabulary an...</td>\n",
       "      <td>Awesome game</td>\n",
       "      <td>1499212800</td>\n",
       "      <td></td>\n",
       "    </tr>\n",
       "    <tr>\n",
       "      <th>998</th>\n",
       "      <td>4.0</td>\n",
       "      <td>False</td>\n",
       "      <td>07 3, 2017</td>\n",
       "      <td>A3G90J2GEGDVFC</td>\n",
       "      <td>B017OBSCOS</td>\n",
       "      <td>Akshaya Janardhanan</td>\n",
       "      <td>Keeps everyone entertained. A few times it doe...</td>\n",
       "      <td>Fun app</td>\n",
       "      <td>1499040000</td>\n",
       "      <td></td>\n",
       "    </tr>\n",
       "    <tr>\n",
       "      <th>999</th>\n",
       "      <td>2.0</td>\n",
       "      <td>False</td>\n",
       "      <td>07 3, 2017</td>\n",
       "      <td>A2JJF4WXHFBRIT</td>\n",
       "      <td>B017OBSCOS</td>\n",
       "      <td>Condo King</td>\n",
       "      <td>Needs work. Fun when it does work.</td>\n",
       "      <td>Gets alot of the words I say wrong. I repeat o...</td>\n",
       "      <td>1499040000</td>\n",
       "      <td></td>\n",
       "    </tr>\n",
       "    <tr>\n",
       "      <th>1000</th>\n",
       "      <td>3.0</td>\n",
       "      <td>False</td>\n",
       "      <td>07 2, 2017</td>\n",
       "      <td>A3JID18JKTMEXX</td>\n",
       "      <td>B017OBSCOS</td>\n",
       "      <td>Jessica L. Lemke</td>\n",
       "      <td>G, y, d, and n/m words won't pick up. Good luc...</td>\n",
       "      <td>Poor diction</td>\n",
       "      <td>1498953600</td>\n",
       "      <td></td>\n",
       "    </tr>\n",
       "  </tbody>\n",
       "</table>\n",
       "<p>1001 rows × 10 columns</p>\n",
       "</div>"
      ],
      "text/plain": [
       "      overall  verified   reviewTime      reviewerID        asin  \\\n",
       "0         1.0     False  12 11, 2015  A27BTSGLXK2C5K  B017O9P72A   \n",
       "1         4.0     False   12 8, 2015  A27ZJ1NCBFP1HZ  B017O9P72A   \n",
       "2         1.0     False   12 7, 2015   ACCQIOZMFN4UK  B017O9P72A   \n",
       "3         2.0     False   12 5, 2015  A3KUPJ396OQF78  B017O9P72A   \n",
       "4         1.0     False   02 2, 2018  A1U1RE1ZI19E1H  B017O9P72A   \n",
       "...       ...       ...          ...             ...         ...   \n",
       "996       5.0     False   07 6, 2017  A2Q47Z4IJPFZRW  B017OBSCOS   \n",
       "997       5.0     False   07 5, 2017  A2UUS1TBJFXV2L  B017OBSCOS   \n",
       "998       4.0     False   07 3, 2017  A3G90J2GEGDVFC  B017OBSCOS   \n",
       "999       2.0     False   07 3, 2017  A2JJF4WXHFBRIT  B017OBSCOS   \n",
       "1000      3.0     False   07 2, 2017  A3JID18JKTMEXX  B017OBSCOS   \n",
       "\n",
       "             reviewerName                                         reviewText  \\\n",
       "0        Jacob M. Wessler  Alexa is not able to control my lights. If I a...   \n",
       "1                    Greg  Alexa works great for me so far, but I'm also ...   \n",
       "2                Da-Gr8-1  Weak!!\\n\\nAlexa doesn't even recognize the nam...   \n",
       "3           Larry Russlin  Can only control one of two bulbs from one of ...   \n",
       "4                 Rebekah  this worked great then randomly stopped. pleas...   \n",
       "...                   ...                                                ...   \n",
       "996            Jim Conrad  Although Alexa doesn't always get the right wo...   \n",
       "997          Nick DeTroia  Great game, helps with expanding vocabulary an...   \n",
       "998   Akshaya Janardhanan  Keeps everyone entertained. A few times it doe...   \n",
       "999            Condo King                 Needs work. Fun when it does work.   \n",
       "1000     Jessica L. Lemke  G, y, d, and n/m words won't pick up. Good luc...   \n",
       "\n",
       "                                                summary  unixReviewTime vote  \n",
       "0                             VERY Buggy, doesn't work.      1449792000       \n",
       "1                                        So Far So Good      1449532800    5  \n",
       "2                                           Time waster      1449446400   11  \n",
       "3                                                 Buggy      1449273600       \n",
       "4                                       stopped working      1517529600    2  \n",
       "...                                                 ...             ...  ...  \n",
       "996                            Wonderful wordsmith game      1499299200       \n",
       "997                                        Awesome game      1499212800       \n",
       "998                                             Fun app      1499040000       \n",
       "999   Gets alot of the words I say wrong. I repeat o...      1499040000       \n",
       "1000                                       Poor diction      1498953600       \n",
       "\n",
       "[1001 rows x 10 columns]"
      ]
     },
     "execution_count": 92,
     "metadata": {},
     "output_type": "execute_result"
    }
   ],
   "source": [
    "df"
   ]
  },
  {
   "cell_type": "code",
   "execution_count": 45,
   "metadata": {
    "scrolled": true
   },
   "outputs": [
    {
     "data": {
      "text/html": [
       "<div>\n",
       "<style scoped>\n",
       "    .dataframe tbody tr th:only-of-type {\n",
       "        vertical-align: middle;\n",
       "    }\n",
       "\n",
       "    .dataframe tbody tr th {\n",
       "        vertical-align: top;\n",
       "    }\n",
       "\n",
       "    .dataframe thead th {\n",
       "        text-align: right;\n",
       "    }\n",
       "</style>\n",
       "<table border=\"1\" class=\"dataframe\">\n",
       "  <thead>\n",
       "    <tr style=\"text-align: right;\">\n",
       "      <th></th>\n",
       "      <th>reviewText</th>\n",
       "      <th>summary</th>\n",
       "      <th>overall</th>\n",
       "    </tr>\n",
       "  </thead>\n",
       "  <tbody>\n",
       "    <tr>\n",
       "      <th>0</th>\n",
       "      <td>Alexa is not able to control my lights. If I a...</td>\n",
       "      <td>VERY Buggy, doesn't work.</td>\n",
       "      <td>1.0</td>\n",
       "    </tr>\n",
       "    <tr>\n",
       "      <th>1</th>\n",
       "      <td>Alexa works great for me so far, but I'm also ...</td>\n",
       "      <td>So Far So Good</td>\n",
       "      <td>4.0</td>\n",
       "    </tr>\n",
       "    <tr>\n",
       "      <th>2</th>\n",
       "      <td>Weak!!\\n\\nAlexa doesn't even recognize the nam...</td>\n",
       "      <td>Time waster</td>\n",
       "      <td>1.0</td>\n",
       "    </tr>\n",
       "    <tr>\n",
       "      <th>3</th>\n",
       "      <td>Can only control one of two bulbs from one of ...</td>\n",
       "      <td>Buggy</td>\n",
       "      <td>2.0</td>\n",
       "    </tr>\n",
       "    <tr>\n",
       "      <th>4</th>\n",
       "      <td>this worked great then randomly stopped. pleas...</td>\n",
       "      <td>stopped working</td>\n",
       "      <td>1.0</td>\n",
       "    </tr>\n",
       "    <tr>\n",
       "      <th>5</th>\n",
       "      <td>Great skill</td>\n",
       "      <td>Great</td>\n",
       "      <td>5.0</td>\n",
       "    </tr>\n",
       "    <tr>\n",
       "      <th>6</th>\n",
       "      <td>Pretty crappy. Won&amp;rsquo;t connect with Alexis</td>\n",
       "      <td>Returning to</td>\n",
       "      <td>1.0</td>\n",
       "    </tr>\n",
       "    <tr>\n",
       "      <th>7</th>\n",
       "      <td>Not happy. Can not connect to Alexa regardless.</td>\n",
       "      <td>Can not connect to ECHO</td>\n",
       "      <td>1.0</td>\n",
       "    </tr>\n",
       "    <tr>\n",
       "      <th>8</th>\n",
       "      <td>Can not connect a hue lights to Alexa. Linked ...</td>\n",
       "      <td>Connecting is a no go</td>\n",
       "      <td>1.0</td>\n",
       "    </tr>\n",
       "    <tr>\n",
       "      <th>9</th>\n",
       "      <td>The service works with google home, but doesn'...</td>\n",
       "      <td>Does not work</td>\n",
       "      <td>1.0</td>\n",
       "    </tr>\n",
       "  </tbody>\n",
       "</table>\n",
       "</div>"
      ],
      "text/plain": [
       "                                          reviewText  \\\n",
       "0  Alexa is not able to control my lights. If I a...   \n",
       "1  Alexa works great for me so far, but I'm also ...   \n",
       "2  Weak!!\\n\\nAlexa doesn't even recognize the nam...   \n",
       "3  Can only control one of two bulbs from one of ...   \n",
       "4  this worked great then randomly stopped. pleas...   \n",
       "5                                        Great skill   \n",
       "6     Pretty crappy. Won&rsquo;t connect with Alexis   \n",
       "7    Not happy. Can not connect to Alexa regardless.   \n",
       "8  Can not connect a hue lights to Alexa. Linked ...   \n",
       "9  The service works with google home, but doesn'...   \n",
       "\n",
       "                     summary  overall  \n",
       "0  VERY Buggy, doesn't work.      1.0  \n",
       "1             So Far So Good      4.0  \n",
       "2                Time waster      1.0  \n",
       "3                      Buggy      2.0  \n",
       "4            stopped working      1.0  \n",
       "5                      Great      5.0  \n",
       "6               Returning to      1.0  \n",
       "7    Can not connect to ECHO      1.0  \n",
       "8      Connecting is a no go      1.0  \n",
       "9              Does not work      1.0  "
      ]
     },
     "execution_count": 45,
     "metadata": {},
     "output_type": "execute_result"
    }
   ],
   "source": [
    "df[['reviewText','summary', 'overall']][:10]"
   ]
  },
  {
   "cell_type": "code",
   "execution_count": 56,
   "metadata": {},
   "outputs": [
    {
     "data": {
      "text/plain": [
       "0       VERY Buggy, doesn't work.. Alexa is not able t...\n",
       "1       So Far So Good. Alexa works great for me so fa...\n",
       "2       Time waster. Weak!!\\n\\nAlexa doesn't even reco...\n",
       "3       Buggy. Can only control one of two bulbs from ...\n",
       "4       stopped working. this worked great then random...\n",
       "                              ...                        \n",
       "996     Wonderful wordsmith game. Although Alexa doesn...\n",
       "997     Awesome game. Great game, helps with expanding...\n",
       "998     Fun app. Keeps everyone entertained. A few tim...\n",
       "999     Gets alot of the words I say wrong. I repeat o...\n",
       "1000    Poor diction. G, y, d, and n/m words won't pic...\n",
       "Length: 1001, dtype: object"
      ]
     },
     "execution_count": 56,
     "metadata": {},
     "output_type": "execute_result"
    }
   ],
   "source": [
    "df['summary'] + '. ' + df['reviewText']"
   ]
  },
  {
   "cell_type": "code",
   "execution_count": 63,
   "metadata": {},
   "outputs": [],
   "source": [
    "inputs = list(df['reviewText'] + '. ' + df['summary'])[:10]"
   ]
  },
  {
   "cell_type": "code",
   "execution_count": 64,
   "metadata": {},
   "outputs": [
    {
     "data": {
      "text/plain": [
       "'Alexa works great for me so far, but I\\'m also only controlling a single bulb at the moment. Turning on/off, changing colors and adjusting brightness are all easy and quick. That being said, I\\'m expecting complications as I add more bulbs (hope for the best prepare for the worst, right?)\\n\\nI\\'d speculate that some other users\\' frustrations might stem from Alexa not recognizing their bulb or room names. After simplifying my bulb name to \\'Lamp\\' and listing it under a Living Room group (within the LIFx app), I\\'ve been able to address it by either category pretty consistently.\\n\"Turn on/off living room lights.\"\\n\"Change lamp light to [color]\"\\n\"Dim living room lights to [X]%\"\\n\\nLike any new tech, you can expect growing pains and bugs early on. Be patient. This skill isn\\'t perfect by any means, but I\\'d say it\\'s off to a decent start. So Far So Good'"
      ]
     },
     "execution_count": 64,
     "metadata": {},
     "output_type": "execute_result"
    }
   ],
   "source": [
    "inputs[1]"
   ]
  },
  {
   "cell_type": "code",
   "execution_count": 65,
   "metadata": {},
   "outputs": [],
   "source": [
    "sentiments = classifier(inputs)"
   ]
  },
  {
   "cell_type": "code",
   "execution_count": 66,
   "metadata": {},
   "outputs": [],
   "source": [
    "# for sentence, sentiment in zip(inputs, sentiments):\n",
    "#     print(f\"{'+' if sentiment['label'] == 'POSITIVE' else '-'} {round(sentiment['score'], 4)}: {sentence} \")"
   ]
  },
  {
   "cell_type": "code",
   "execution_count": 67,
   "metadata": {},
   "outputs": [],
   "source": [
    "df_results = pd.DataFrame(sentiments)\n",
    "df_results['sentiment'] = np.where(df_results['label'] == 'POSITIVE', df_results['score'], -1.0 * df_results['score'])\n",
    "\n",
    "cut_class = np.arange(1,6) # mimics stars, but really should be np.arange(5)\n",
    "cut_class_text = [\"Terrible\", \"Negative\", \"Neutral\", \"Positive\", \"Excellent\"]\n",
    "cut_bins = np.linspace(\n",
    "    start = -1, \n",
    "    stop = 1,\n",
    "    num = 6\n",
    ")\n",
    "cut_intervals = pd.interval_range(\n",
    "    start = -1, \n",
    "    end = 1,\n",
    "    periods = 5\n",
    ")\n",
    "\n",
    "df_results['interval']   = pd.cut(df_results['sentiment'], bins=cut_intervals)\n",
    "df_results['class']      = pd.cut(df_results['sentiment'], bins=cut_bins, labels=cut_class)\n",
    "df_results['class_text'] = pd.cut(df_results['sentiment'], bins=cut_bins, labels=cut_class_text)"
   ]
  },
  {
   "cell_type": "code",
   "execution_count": 68,
   "metadata": {
    "scrolled": true
   },
   "outputs": [
    {
     "data": {
      "text/html": [
       "<div>\n",
       "<style scoped>\n",
       "    .dataframe tbody tr th:only-of-type {\n",
       "        vertical-align: middle;\n",
       "    }\n",
       "\n",
       "    .dataframe tbody tr th {\n",
       "        vertical-align: top;\n",
       "    }\n",
       "\n",
       "    .dataframe thead th {\n",
       "        text-align: right;\n",
       "    }\n",
       "</style>\n",
       "<table border=\"1\" class=\"dataframe\">\n",
       "  <thead>\n",
       "    <tr style=\"text-align: right;\">\n",
       "      <th></th>\n",
       "      <th>label</th>\n",
       "      <th>score</th>\n",
       "      <th>sentiment</th>\n",
       "      <th>interval</th>\n",
       "      <th>class</th>\n",
       "      <th>class_text</th>\n",
       "    </tr>\n",
       "  </thead>\n",
       "  <tbody>\n",
       "    <tr>\n",
       "      <th>0</th>\n",
       "      <td>NEGATIVE</td>\n",
       "      <td>0.999785</td>\n",
       "      <td>-0.999785</td>\n",
       "      <td>(-1.0, -0.6]</td>\n",
       "      <td>1</td>\n",
       "      <td>Terrible</td>\n",
       "    </tr>\n",
       "    <tr>\n",
       "      <th>1</th>\n",
       "      <td>POSITIVE</td>\n",
       "      <td>0.939940</td>\n",
       "      <td>0.939940</td>\n",
       "      <td>(0.6000000000000001, 1.0]</td>\n",
       "      <td>5</td>\n",
       "      <td>Excellent</td>\n",
       "    </tr>\n",
       "    <tr>\n",
       "      <th>2</th>\n",
       "      <td>NEGATIVE</td>\n",
       "      <td>0.999819</td>\n",
       "      <td>-0.999819</td>\n",
       "      <td>(-1.0, -0.6]</td>\n",
       "      <td>1</td>\n",
       "      <td>Terrible</td>\n",
       "    </tr>\n",
       "    <tr>\n",
       "      <th>3</th>\n",
       "      <td>NEGATIVE</td>\n",
       "      <td>0.999513</td>\n",
       "      <td>-0.999513</td>\n",
       "      <td>(-1.0, -0.6]</td>\n",
       "      <td>1</td>\n",
       "      <td>Terrible</td>\n",
       "    </tr>\n",
       "    <tr>\n",
       "      <th>4</th>\n",
       "      <td>NEGATIVE</td>\n",
       "      <td>0.998790</td>\n",
       "      <td>-0.998790</td>\n",
       "      <td>(-1.0, -0.6]</td>\n",
       "      <td>1</td>\n",
       "      <td>Terrible</td>\n",
       "    </tr>\n",
       "    <tr>\n",
       "      <th>5</th>\n",
       "      <td>POSITIVE</td>\n",
       "      <td>0.999876</td>\n",
       "      <td>0.999876</td>\n",
       "      <td>(0.6000000000000001, 1.0]</td>\n",
       "      <td>5</td>\n",
       "      <td>Excellent</td>\n",
       "    </tr>\n",
       "    <tr>\n",
       "      <th>6</th>\n",
       "      <td>NEGATIVE</td>\n",
       "      <td>0.999337</td>\n",
       "      <td>-0.999337</td>\n",
       "      <td>(-1.0, -0.6]</td>\n",
       "      <td>1</td>\n",
       "      <td>Terrible</td>\n",
       "    </tr>\n",
       "    <tr>\n",
       "      <th>7</th>\n",
       "      <td>NEGATIVE</td>\n",
       "      <td>0.999773</td>\n",
       "      <td>-0.999773</td>\n",
       "      <td>(-1.0, -0.6]</td>\n",
       "      <td>1</td>\n",
       "      <td>Terrible</td>\n",
       "    </tr>\n",
       "    <tr>\n",
       "      <th>8</th>\n",
       "      <td>NEGATIVE</td>\n",
       "      <td>0.999263</td>\n",
       "      <td>-0.999263</td>\n",
       "      <td>(-1.0, -0.6]</td>\n",
       "      <td>1</td>\n",
       "      <td>Terrible</td>\n",
       "    </tr>\n",
       "    <tr>\n",
       "      <th>9</th>\n",
       "      <td>NEGATIVE</td>\n",
       "      <td>0.999730</td>\n",
       "      <td>-0.999730</td>\n",
       "      <td>(-1.0, -0.6]</td>\n",
       "      <td>1</td>\n",
       "      <td>Terrible</td>\n",
       "    </tr>\n",
       "  </tbody>\n",
       "</table>\n",
       "</div>"
      ],
      "text/plain": [
       "      label     score  sentiment                   interval class class_text\n",
       "0  NEGATIVE  0.999785  -0.999785               (-1.0, -0.6]     1   Terrible\n",
       "1  POSITIVE  0.939940   0.939940  (0.6000000000000001, 1.0]     5  Excellent\n",
       "2  NEGATIVE  0.999819  -0.999819               (-1.0, -0.6]     1   Terrible\n",
       "3  NEGATIVE  0.999513  -0.999513               (-1.0, -0.6]     1   Terrible\n",
       "4  NEGATIVE  0.998790  -0.998790               (-1.0, -0.6]     1   Terrible\n",
       "5  POSITIVE  0.999876   0.999876  (0.6000000000000001, 1.0]     5  Excellent\n",
       "6  NEGATIVE  0.999337  -0.999337               (-1.0, -0.6]     1   Terrible\n",
       "7  NEGATIVE  0.999773  -0.999773               (-1.0, -0.6]     1   Terrible\n",
       "8  NEGATIVE  0.999263  -0.999263               (-1.0, -0.6]     1   Terrible\n",
       "9  NEGATIVE  0.999730  -0.999730               (-1.0, -0.6]     1   Terrible"
      ]
     },
     "execution_count": 68,
     "metadata": {},
     "output_type": "execute_result"
    }
   ],
   "source": [
    "df_results"
   ]
  },
  {
   "cell_type": "code",
   "execution_count": 25,
   "metadata": {
    "scrolled": true
   },
   "outputs": [
    {
     "data": {
      "text/plain": [
       "1    9\n",
       "2    0\n",
       "3    0\n",
       "4    0\n",
       "5    1\n",
       "Name: class, dtype: int64"
      ]
     },
     "execution_count": 25,
     "metadata": {},
     "output_type": "execute_result"
    }
   ],
   "source": [
    "df_results['class'].value_counts(sort=False)"
   ]
  },
  {
   "cell_type": "markdown",
   "metadata": {},
   "source": [
    "# Tokenizer + Model"
   ]
  },
  {
   "cell_type": "code",
   "execution_count": 151,
   "metadata": {},
   "outputs": [],
   "source": [
    "import torch\n",
    "from transformers import AutoModel, AutoTokenizer, BertTokenizer"
   ]
  },
  {
   "cell_type": "code",
   "execution_count": 152,
   "metadata": {},
   "outputs": [],
   "source": [
    "# Store the model we want to use\n",
    "MODEL_NAME = \"distilbert-base-uncased\"\n",
    "\n",
    "# We need to create the model and tokenizer\n",
    "model = AutoModel.from_pretrained(MODEL_NAME)\n",
    "tokenizer = AutoTokenizer.from_pretrained(MODEL_NAME)"
   ]
  },
  {
   "cell_type": "code",
   "execution_count": 158,
   "metadata": {},
   "outputs": [
    {
     "data": {
      "text/plain": [
       "<transformers.tokenization_distilbert.DistilBertTokenizer at 0x20fb1006dc0>"
      ]
     },
     "execution_count": 158,
     "metadata": {},
     "output_type": "execute_result"
    }
   ],
   "source": [
    "tokenizer"
   ]
  },
  {
   "cell_type": "code",
   "execution_count": null,
   "metadata": {},
   "outputs": [],
   "source": []
  },
  {
   "cell_type": "code",
   "execution_count": null,
   "metadata": {},
   "outputs": [],
   "source": []
  },
  {
   "cell_type": "code",
   "execution_count": null,
   "metadata": {},
   "outputs": [],
   "source": []
  }
 ],
 "metadata": {
  "kernelspec": {
   "display_name": "Python 3",
   "language": "python",
   "name": "python3"
  },
  "language_info": {
   "codemirror_mode": {
    "name": "ipython",
    "version": 3
   },
   "file_extension": ".py",
   "mimetype": "text/x-python",
   "name": "python",
   "nbconvert_exporter": "python",
   "pygments_lexer": "ipython3",
   "version": "3.8.5"
  }
 },
 "nbformat": 4,
 "nbformat_minor": 4
}
