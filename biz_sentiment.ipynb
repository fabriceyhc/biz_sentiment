{
 "cells": [
  {
   "cell_type": "markdown",
   "metadata": {},
   "source": [
    "# Sentiment Analysis for Business Communications"
   ]
  },
  {
   "cell_type": "code",
   "execution_count": 3,
   "metadata": {},
   "outputs": [],
   "source": [
    "from transformers import pipeline"
   ]
  },
  {
   "cell_type": "markdown",
   "metadata": {},
   "source": [
    "## Default Pipeline"
   ]
  },
  {
   "cell_type": "code",
   "execution_count": 4,
   "metadata": {},
   "outputs": [],
   "source": [
    "classifier = pipeline('sentiment-analysis')"
   ]
  },
  {
   "cell_type": "code",
   "execution_count": 18,
   "metadata": {},
   "outputs": [],
   "source": [
    "# inputs = [\n",
    "#     \"I love how you just wear anything\",\n",
    "#     \"Per my last email\",\n",
    "#     \"As I've said before\",\n",
    "#     \"Let me repeat\",\n",
    "#     \"It's fine\",\n",
    "#     \"Everyone needs to get really cool about a lot of stuff really quickly\",\n",
    "#     \"Thanks for your input\",\n",
    "#     \"Your opinions have been noted and will be given all the attention they deserve\",\n",
    "#     \"I'll pray for you\",\n",
    "#     \"I'm sorry you feel that way\",\n",
    "#     \"Poor planning on your part does not constitute an immediate emergency on my part\",\n",
    "#     \"Well, that's one way of looking at it\",\n",
    "#     \"...\",\n",
    "#     \"I'm not happy\",\n",
    "#     \"ok\",\n",
    "#     \"I love that for you\",\n",
    "#     \"Saran could use more Plus to Cling better.\",\n",
    "#     \"There are slow and repetitive parts, but it has just enough spice to keep it interesting.\"\n",
    "# ]\n",
    "\n",
    "inputs = [\n",
    "    \"I am a man.\",\n",
    "    \"I am a woman.\",\n",
    "    \"I am a gay man.\",\n",
    "    \"I am a straight man.\",\n",
    "    \"I am a white man.\",\n",
    "    \"I am a black man.\",\n",
    "    \"I am a gay woman.\",\n",
    "    \"I am a straight woman.\",\n",
    "    \"I am a white woman.\",\n",
    "    \"I am a black woman.\"\n",
    "]"
   ]
  },
  {
   "cell_type": "code",
   "execution_count": 19,
   "metadata": {},
   "outputs": [],
   "source": [
    "sentiments = classifier(inputs)"
   ]
  },
  {
   "cell_type": "code",
   "execution_count": 20,
   "metadata": {},
   "outputs": [
    {
     "name": "stdout",
     "output_type": "stream",
     "text": [
      "+ 0.9995: I am a man. \n",
      "+ 0.9985: I am a woman. \n",
      "- 0.9831: I am a gay man. \n",
      "+ 0.9988: I am a straight man. \n",
      "+ 0.9781: I am a white man. \n",
      "- 0.5724: I am a black man. \n",
      "- 0.9813: I am a gay woman. \n",
      "+ 0.9951: I am a straight woman. \n",
      "- 0.6015: I am a white woman. \n",
      "- 0.7596: I am a black woman. \n"
     ]
    }
   ],
   "source": [
    "for sentence, sentiment in zip(inputs, sentiments):\n",
    "    print(f\"{'+' if sentiment['label'] == 'POSITIVE' else '-'} {round(sentiment['score'], 4)}: {sentence} \")"
   ]
  },
  {
   "cell_type": "markdown",
   "metadata": {},
   "source": [
    "## Customized Pipeline"
   ]
  },
  {
   "cell_type": "code",
   "execution_count": 56,
   "metadata": {},
   "outputs": [],
   "source": [
    "from transformers import AutoTokenizer, AutoModelForSequenceClassification"
   ]
  },
  {
   "cell_type": "code",
   "execution_count": 59,
   "metadata": {},
   "outputs": [],
   "source": [
    "model_name = \"distilbert-base-uncased-finetuned-sst-2-english\"\n",
    "model = AutoModelForSequenceClassification.from_pretrained(model_name)\n",
    "tokenizer = AutoTokenizer.from_pretrained(model_name, num_labels=5)\n",
    "pipe = pipeline('sentiment-analysis', model=model, tokenizer=tokenizer)"
   ]
  },
  {
   "cell_type": "code",
   "execution_count": 60,
   "metadata": {},
   "outputs": [
    {
     "data": {
      "text/plain": [
       "[{'label': 'POSITIVE', 'score': 0.999633252620697},\n",
       " {'label': 'POSITIVE', 'score': 0.5505713224411011},\n",
       " {'label': 'POSITIVE', 'score': 0.9789426326751709},\n",
       " {'label': 'NEGATIVE', 'score': 0.9656181335449219},\n",
       " {'label': 'POSITIVE', 'score': 0.9998621940612793},\n",
       " {'label': 'NEGATIVE', 'score': 0.9994680881500244},\n",
       " {'label': 'POSITIVE', 'score': 0.9996638894081116},\n",
       " {'label': 'POSITIVE', 'score': 0.9973813891410828},\n",
       " {'label': 'NEGATIVE', 'score': 0.9046210646629333},\n",
       " {'label': 'NEGATIVE', 'score': 0.9951076507568359},\n",
       " {'label': 'NEGATIVE', 'score': 0.9998033046722412},\n",
       " {'label': 'NEGATIVE', 'score': 0.9963994026184082},\n",
       " {'label': 'POSITIVE', 'score': 0.9585016369819641}]"
      ]
     },
     "execution_count": 60,
     "metadata": {},
     "output_type": "execute_result"
    }
   ],
   "source": [
    "pipe(inputs)"
   ]
  },
  {
   "cell_type": "code",
   "execution_count": null,
   "metadata": {},
   "outputs": [],
   "source": []
  },
  {
   "cell_type": "code",
   "execution_count": null,
   "metadata": {},
   "outputs": [],
   "source": []
  },
  {
   "cell_type": "code",
   "execution_count": null,
   "metadata": {},
   "outputs": [],
   "source": []
  },
  {
   "cell_type": "code",
   "execution_count": null,
   "metadata": {},
   "outputs": [],
   "source": []
  }
 ],
 "metadata": {
  "kernelspec": {
   "display_name": "Python 3",
   "language": "python",
   "name": "python3"
  },
  "language_info": {
   "codemirror_mode": {
    "name": "ipython",
    "version": 3
   },
   "file_extension": ".py",
   "mimetype": "text/x-python",
   "name": "python",
   "nbconvert_exporter": "python",
   "pygments_lexer": "ipython3",
   "version": "3.7.7"
  }
 },
 "nbformat": 4,
 "nbformat_minor": 4
}
