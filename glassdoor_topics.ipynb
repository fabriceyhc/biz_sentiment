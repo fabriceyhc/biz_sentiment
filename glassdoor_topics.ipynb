{
 "cells": [
  {
   "cell_type": "markdown",
   "metadata": {},
   "source": [
    "# Analyzing Sentiment in Glassdoor Employer Reviews"
   ]
  },
  {
   "cell_type": "code",
   "execution_count": 1,
   "metadata": {
    "scrolled": true
   },
   "outputs": [],
   "source": [
    "import os\n",
    "import time\n",
    "import pandas as pd\n",
    "import numpy as np\n",
    "from tqdm.notebook import tqdm\n",
    "\n",
    "import joblib\n",
    "\n",
    "import torch\n",
    "\n",
    "import matplotlib.pyplot as plt\n",
    "%matplotlib inline"
   ]
  },
  {
   "cell_type": "markdown",
   "metadata": {},
   "source": [
    "# Load Data"
   ]
  },
  {
   "cell_type": "code",
   "execution_count": 2,
   "metadata": {
    "scrolled": true
   },
   "outputs": [],
   "source": [
    "load_path = \"data/glassdoor/glassdoor_split_stoken.parquet\""
   ]
  },
  {
   "cell_type": "code",
   "execution_count": 13,
   "metadata": {
    "scrolled": true
   },
   "outputs": [
    {
     "name": "stdout",
     "output_type": "stream",
     "text": [
      "Wall time: 1min 50s\n"
     ]
    }
   ],
   "source": [
    "%time df = pd.read_parquet(load_path)"
   ]
  },
  {
   "cell_type": "code",
   "execution_count": 14,
   "metadata": {},
   "outputs": [
    {
     "data": {
      "text/plain": [
       "6754236"
      ]
     },
     "execution_count": 14,
     "metadata": {},
     "output_type": "execute_result"
    }
   ],
   "source": [
    "len(df['review_num'].unique())"
   ]
  },
  {
   "cell_type": "markdown",
   "metadata": {},
   "source": [
    "# Load Models"
   ]
  },
  {
   "cell_type": "code",
   "execution_count": 5,
   "metadata": {
    "scrolled": true
   },
   "outputs": [],
   "source": [
    "# load tfidf vectorizer\n",
    "tfidf_vectorizer = joblib.load(\"assets/glassdoor/tfidf_vectorizer.jl\")"
   ]
  },
  {
   "cell_type": "code",
   "execution_count": 6,
   "metadata": {
    "scrolled": true
   },
   "outputs": [],
   "source": [
    "# load nmf_fro\n",
    "nmf_fro = joblib.load(\"assets/glassdoor/nmf_fro.jl\")"
   ]
  },
  {
   "cell_type": "code",
   "execution_count": 15,
   "metadata": {},
   "outputs": [],
   "source": [
    "# # load tf vectorizer\n",
    "# tf_vectorizer = joblib.load(\"assets/glassdoor/tf_vectorizer.jl\")"
   ]
  },
  {
   "cell_type": "code",
   "execution_count": 16,
   "metadata": {},
   "outputs": [],
   "source": [
    "# # load lda\n",
    "# lda = joblib.load(\"assets/glassdoor/lda.jl\")"
   ]
  },
  {
   "cell_type": "code",
   "execution_count": 7,
   "metadata": {
    "scrolled": true
   },
   "outputs": [],
   "source": [
    "# Topics in NMF model (Frobenius norm):\n",
    "# Work/Life Balance : work life balance environment place hours hard flexible home fun\n",
    "# Culture           : great benefits place environment culture team job workers experience coworkers\n",
    "# Experience        : good benefits job experience salary environment training pretty health workers\n",
    "# Management        : management upper team poor staff senior new communication bad training\n",
    "# Growth Potential  : company culture growing growth working small years like grow opportunities\n",
    "# Coworkers         : people nice working don friendly really like lot hire smart\n",
    "# Hours             : pay low hours benefits decent time better competitive long flexible\n",
    "# Respectfulness    : employees time care don like job listen treat better make\n",
    "\n",
    "nmf_fro_topic_labels = {\n",
    "    0 : \"Work/Life Balance\",\n",
    "    1 : \"Culture\",\n",
    "    2 : \"Compensation\",\n",
    "    3 : \"Coworkers\",\n",
    "    4 : \"Management\",\n",
    "    5 : \"Respectfulness\",\n",
    "    6 : \"Benefits\",\n",
    "    7 : \"Flexibility\"                  \n",
    "}\n",
    "\n",
    "lda_topic_labels = {\n",
    "    0 : \"Management\",\n",
    "    1 : \"Training\",\n",
    "    2 : \"Compensation\",\n",
    "    3 : \"Coworkers\",\n",
    "    4 : \"Culture\",\n",
    "    5 : \"Benefits\",\n",
    "    6 : \"Flexibility\",\n",
    "    7 : \"Work/Life Balance\"                  \n",
    "}"
   ]
  },
  {
   "cell_type": "markdown",
   "metadata": {},
   "source": [
    "# Assign Topics\n",
    "\n",
    "... and drop short sentence fragments\n",
    "\n",
    "... and reorder columns"
   ]
  },
  {
   "cell_type": "code",
   "execution_count": 8,
   "metadata": {
    "scrolled": true
   },
   "outputs": [],
   "source": [
    "def drop_short_sents(df, column, num_char):\n",
    "    df.drop(df[df[column].map(len) < num_char].index, inplace=True)"
   ]
  },
  {
   "cell_type": "code",
   "execution_count": 9,
   "metadata": {
    "scrolled": true
   },
   "outputs": [],
   "source": [
    "def assign_topic(df, column, vectorizer, topic_model):\n",
    "    vectorized = vectorizer.transform(df[column])\n",
    "    topic_scores = topic_model.transform(vectorized)\n",
    "    df['topic'] = np.argmax(topic_scores, axis=1)"
   ]
  },
  {
   "cell_type": "code",
   "execution_count": 9,
   "metadata": {
    "scrolled": true
   },
   "outputs": [],
   "source": [
    "def append_df_to_JSON(file, df):\n",
    "    json_df = df.to_json(\n",
    "        # path_or_buf=file_path,\n",
    "        orient='records',\n",
    "        lines=True\n",
    "    )\n",
    "    with open(file, 'a', encoding='utf8') as f:\n",
    "        f.write(json_df)\n",
    "        f.write(\"\\n\")"
   ]
  },
  {
   "cell_type": "code",
   "execution_count": 33,
   "metadata": {
    "collapsed": true
   },
   "outputs": [
    {
     "ename": "KeyboardInterrupt",
     "evalue": "",
     "output_type": "error",
     "traceback": [
      "\u001b[1;31m---------------------------------------------------------------------------\u001b[0m",
      "\u001b[1;31mKeyboardInterrupt\u001b[0m                         Traceback (most recent call last)",
      "    \u001b[1;31m[... skipping hidden 1 frame]\u001b[0m\n",
      "\u001b[1;32m<ipython-input-33-ae4f2f304ef6>\u001b[0m in \u001b[0;36m<module>\u001b[1;34m\u001b[0m\n\u001b[0;32m     12\u001b[0m \u001b[1;31m# assign_topic(df, 'text', tfidf_vectorizer, nmf_fro)\u001b[0m\u001b[1;33m\u001b[0m\u001b[1;33m\u001b[0m\u001b[1;33m\u001b[0m\u001b[0m\n\u001b[1;32m---> 13\u001b[1;33m \u001b[0mdf\u001b[0m\u001b[1;33m[\u001b[0m\u001b[1;34m'num_words'\u001b[0m\u001b[1;33m]\u001b[0m \u001b[1;33m=\u001b[0m \u001b[0mdf\u001b[0m\u001b[1;33m[\u001b[0m\u001b[1;34m'text'\u001b[0m\u001b[1;33m]\u001b[0m\u001b[1;33m.\u001b[0m\u001b[0mstr\u001b[0m\u001b[1;33m.\u001b[0m\u001b[0msplit\u001b[0m\u001b[1;33m(\u001b[0m\u001b[1;33m)\u001b[0m\u001b[1;33m.\u001b[0m\u001b[0mstr\u001b[0m\u001b[1;33m.\u001b[0m\u001b[0mlen\u001b[0m\u001b[1;33m(\u001b[0m\u001b[1;33m)\u001b[0m\u001b[1;33m\u001b[0m\u001b[1;33m\u001b[0m\u001b[0m\n\u001b[0m\u001b[0;32m     14\u001b[0m \u001b[0mdf\u001b[0m \u001b[1;33m=\u001b[0m \u001b[0mdf\u001b[0m\u001b[1;33m[\u001b[0m\u001b[0mcolumn_order\u001b[0m\u001b[1;33m]\u001b[0m\u001b[1;33m\u001b[0m\u001b[1;33m\u001b[0m\u001b[0m\n",
      "\u001b[1;32m~\\AppData\\Local\\Continuum\\anaconda3\\envs\\biz_sentiment\\lib\\site-packages\\pandas\\core\\strings.py\u001b[0m in \u001b[0;36mwrapper\u001b[1;34m(self, *args, **kwargs)\u001b[0m\n\u001b[0;32m   1951\u001b[0m                 \u001b[1;32mraise\u001b[0m \u001b[0mTypeError\u001b[0m\u001b[1;33m(\u001b[0m\u001b[0mmsg\u001b[0m\u001b[1;33m)\u001b[0m\u001b[1;33m\u001b[0m\u001b[1;33m\u001b[0m\u001b[0m\n\u001b[1;32m-> 1952\u001b[1;33m             \u001b[1;32mreturn\u001b[0m \u001b[0mfunc\u001b[0m\u001b[1;33m(\u001b[0m\u001b[0mself\u001b[0m\u001b[1;33m,\u001b[0m \u001b[1;33m*\u001b[0m\u001b[0margs\u001b[0m\u001b[1;33m,\u001b[0m \u001b[1;33m**\u001b[0m\u001b[0mkwargs\u001b[0m\u001b[1;33m)\u001b[0m\u001b[1;33m\u001b[0m\u001b[1;33m\u001b[0m\u001b[0m\n\u001b[0m\u001b[0;32m   1953\u001b[0m \u001b[1;33m\u001b[0m\u001b[0m\n",
      "\u001b[1;32m~\\AppData\\Local\\Continuum\\anaconda3\\envs\\biz_sentiment\\lib\\site-packages\\pandas\\core\\strings.py\u001b[0m in \u001b[0;36msplit\u001b[1;34m(self, pat, n, expand)\u001b[0m\n\u001b[0;32m   2624\u001b[0m     \u001b[1;32mdef\u001b[0m \u001b[0msplit\u001b[0m\u001b[1;33m(\u001b[0m\u001b[0mself\u001b[0m\u001b[1;33m,\u001b[0m \u001b[0mpat\u001b[0m\u001b[1;33m=\u001b[0m\u001b[1;32mNone\u001b[0m\u001b[1;33m,\u001b[0m \u001b[0mn\u001b[0m\u001b[1;33m=\u001b[0m\u001b[1;33m-\u001b[0m\u001b[1;36m1\u001b[0m\u001b[1;33m,\u001b[0m \u001b[0mexpand\u001b[0m\u001b[1;33m=\u001b[0m\u001b[1;32mFalse\u001b[0m\u001b[1;33m)\u001b[0m\u001b[1;33m:\u001b[0m\u001b[1;33m\u001b[0m\u001b[1;33m\u001b[0m\u001b[0m\n\u001b[1;32m-> 2625\u001b[1;33m         \u001b[0mresult\u001b[0m \u001b[1;33m=\u001b[0m \u001b[0mstr_split\u001b[0m\u001b[1;33m(\u001b[0m\u001b[0mself\u001b[0m\u001b[1;33m.\u001b[0m\u001b[0m_parent\u001b[0m\u001b[1;33m,\u001b[0m \u001b[0mpat\u001b[0m\u001b[1;33m,\u001b[0m \u001b[0mn\u001b[0m\u001b[1;33m=\u001b[0m\u001b[0mn\u001b[0m\u001b[1;33m)\u001b[0m\u001b[1;33m\u001b[0m\u001b[1;33m\u001b[0m\u001b[0m\n\u001b[0m\u001b[0;32m   2626\u001b[0m         \u001b[1;32mreturn\u001b[0m \u001b[0mself\u001b[0m\u001b[1;33m.\u001b[0m\u001b[0m_wrap_result\u001b[0m\u001b[1;33m(\u001b[0m\u001b[0mresult\u001b[0m\u001b[1;33m,\u001b[0m \u001b[0mexpand\u001b[0m\u001b[1;33m=\u001b[0m\u001b[0mexpand\u001b[0m\u001b[1;33m,\u001b[0m \u001b[0mreturns_string\u001b[0m\u001b[1;33m=\u001b[0m\u001b[0mexpand\u001b[0m\u001b[1;33m)\u001b[0m\u001b[1;33m\u001b[0m\u001b[1;33m\u001b[0m\u001b[0m\n",
      "\u001b[1;32m~\\AppData\\Local\\Continuum\\anaconda3\\envs\\biz_sentiment\\lib\\site-packages\\pandas\\core\\strings.py\u001b[0m in \u001b[0;36mstr_split\u001b[1;34m(arr, pat, n)\u001b[0m\n\u001b[0;32m   1492\u001b[0m             \u001b[0mf\u001b[0m \u001b[1;33m=\u001b[0m \u001b[1;32mlambda\u001b[0m \u001b[0mx\u001b[0m\u001b[1;33m:\u001b[0m \u001b[0mregex\u001b[0m\u001b[1;33m.\u001b[0m\u001b[0msplit\u001b[0m\u001b[1;33m(\u001b[0m\u001b[0mx\u001b[0m\u001b[1;33m,\u001b[0m \u001b[0mmaxsplit\u001b[0m\u001b[1;33m=\u001b[0m\u001b[0mn\u001b[0m\u001b[1;33m)\u001b[0m\u001b[1;33m\u001b[0m\u001b[1;33m\u001b[0m\u001b[0m\n\u001b[1;32m-> 1493\u001b[1;33m     \u001b[0mres\u001b[0m \u001b[1;33m=\u001b[0m \u001b[0m_na_map\u001b[0m\u001b[1;33m(\u001b[0m\u001b[0mf\u001b[0m\u001b[1;33m,\u001b[0m \u001b[0marr\u001b[0m\u001b[1;33m)\u001b[0m\u001b[1;33m\u001b[0m\u001b[1;33m\u001b[0m\u001b[0m\n\u001b[0m\u001b[0;32m   1494\u001b[0m     \u001b[1;32mreturn\u001b[0m \u001b[0mres\u001b[0m\u001b[1;33m\u001b[0m\u001b[1;33m\u001b[0m\u001b[0m\n",
      "\u001b[1;32m~\\AppData\\Local\\Continuum\\anaconda3\\envs\\biz_sentiment\\lib\\site-packages\\pandas\\core\\strings.py\u001b[0m in \u001b[0;36m_na_map\u001b[1;34m(f, arr, na_result, dtype)\u001b[0m\n\u001b[0;32m    130\u001b[0m         \u001b[0mna_result\u001b[0m \u001b[1;33m=\u001b[0m \u001b[0mnp\u001b[0m\u001b[1;33m.\u001b[0m\u001b[0mnan\u001b[0m\u001b[1;33m\u001b[0m\u001b[1;33m\u001b[0m\u001b[0m\n\u001b[1;32m--> 131\u001b[1;33m     \u001b[1;32mreturn\u001b[0m \u001b[0m_map_object\u001b[0m\u001b[1;33m(\u001b[0m\u001b[0mf\u001b[0m\u001b[1;33m,\u001b[0m \u001b[0marr\u001b[0m\u001b[1;33m,\u001b[0m \u001b[0mna_mask\u001b[0m\u001b[1;33m=\u001b[0m\u001b[1;32mTrue\u001b[0m\u001b[1;33m,\u001b[0m \u001b[0mna_value\u001b[0m\u001b[1;33m=\u001b[0m\u001b[0mna_result\u001b[0m\u001b[1;33m,\u001b[0m \u001b[0mdtype\u001b[0m\u001b[1;33m=\u001b[0m\u001b[0mdtype\u001b[0m\u001b[1;33m)\u001b[0m\u001b[1;33m\u001b[0m\u001b[1;33m\u001b[0m\u001b[0m\n\u001b[0m\u001b[0;32m    132\u001b[0m \u001b[1;33m\u001b[0m\u001b[0m\n",
      "\u001b[1;32m~\\AppData\\Local\\Continuum\\anaconda3\\envs\\biz_sentiment\\lib\\site-packages\\pandas\\core\\strings.py\u001b[0m in \u001b[0;36m_map_object\u001b[1;34m(f, arr, na_mask, na_value, dtype)\u001b[0m\n\u001b[0;32m    215\u001b[0m         \u001b[1;32mtry\u001b[0m\u001b[1;33m:\u001b[0m\u001b[1;33m\u001b[0m\u001b[1;33m\u001b[0m\u001b[0m\n\u001b[1;32m--> 216\u001b[1;33m             \u001b[0mresult\u001b[0m \u001b[1;33m=\u001b[0m \u001b[0mlib\u001b[0m\u001b[1;33m.\u001b[0m\u001b[0mmap_infer_mask\u001b[0m\u001b[1;33m(\u001b[0m\u001b[0marr\u001b[0m\u001b[1;33m,\u001b[0m \u001b[0mf\u001b[0m\u001b[1;33m,\u001b[0m \u001b[0mmask\u001b[0m\u001b[1;33m.\u001b[0m\u001b[0mview\u001b[0m\u001b[1;33m(\u001b[0m\u001b[0mnp\u001b[0m\u001b[1;33m.\u001b[0m\u001b[0muint8\u001b[0m\u001b[1;33m)\u001b[0m\u001b[1;33m,\u001b[0m \u001b[0mconvert\u001b[0m\u001b[1;33m)\u001b[0m\u001b[1;33m\u001b[0m\u001b[1;33m\u001b[0m\u001b[0m\n\u001b[0m\u001b[0;32m    217\u001b[0m         \u001b[1;32mexcept\u001b[0m \u001b[1;33m(\u001b[0m\u001b[0mTypeError\u001b[0m\u001b[1;33m,\u001b[0m \u001b[0mAttributeError\u001b[0m\u001b[1;33m)\u001b[0m \u001b[1;32mas\u001b[0m \u001b[0me\u001b[0m\u001b[1;33m:\u001b[0m\u001b[1;33m\u001b[0m\u001b[1;33m\u001b[0m\u001b[0m\n",
      "\u001b[1;32mpandas\\_libs\\lib.pyx\u001b[0m in \u001b[0;36mpandas._libs.lib.map_infer_mask\u001b[1;34m()\u001b[0m\n",
      "\u001b[1;32m~\\AppData\\Local\\Continuum\\anaconda3\\envs\\biz_sentiment\\lib\\site-packages\\pandas\\core\\strings.py\u001b[0m in \u001b[0;36m<lambda>\u001b[1;34m(x)\u001b[0m\n\u001b[0;32m   1481\u001b[0m             \u001b[0mn\u001b[0m \u001b[1;33m=\u001b[0m \u001b[1;33m-\u001b[0m\u001b[1;36m1\u001b[0m\u001b[1;33m\u001b[0m\u001b[1;33m\u001b[0m\u001b[0m\n\u001b[1;32m-> 1482\u001b[1;33m         \u001b[0mf\u001b[0m \u001b[1;33m=\u001b[0m \u001b[1;32mlambda\u001b[0m \u001b[0mx\u001b[0m\u001b[1;33m:\u001b[0m \u001b[0mx\u001b[0m\u001b[1;33m.\u001b[0m\u001b[0msplit\u001b[0m\u001b[1;33m(\u001b[0m\u001b[0mpat\u001b[0m\u001b[1;33m,\u001b[0m \u001b[0mn\u001b[0m\u001b[1;33m)\u001b[0m\u001b[1;33m\u001b[0m\u001b[1;33m\u001b[0m\u001b[0m\n\u001b[0m\u001b[0;32m   1483\u001b[0m     \u001b[1;32melse\u001b[0m\u001b[1;33m:\u001b[0m\u001b[1;33m\u001b[0m\u001b[1;33m\u001b[0m\u001b[0m\n",
      "\u001b[1;31mKeyboardInterrupt\u001b[0m: ",
      "\nDuring handling of the above exception, another exception occurred:\n",
      "\u001b[1;31mAttributeError\u001b[0m                            Traceback (most recent call last)",
      "\u001b[1;32m~\\AppData\\Local\\Continuum\\anaconda3\\envs\\biz_sentiment\\lib\\site-packages\\IPython\\core\\interactiveshell.py\u001b[0m in \u001b[0;36mshowtraceback\u001b[1;34m(self, exc_tuple, filename, tb_offset, exception_only, running_compiled_code)\u001b[0m\n\u001b[0;32m   2043\u001b[0m                         \u001b[1;31m# in the engines. This should return a list of strings.\u001b[0m\u001b[1;33m\u001b[0m\u001b[1;33m\u001b[0m\u001b[1;33m\u001b[0m\u001b[0m\n\u001b[1;32m-> 2044\u001b[1;33m                         \u001b[0mstb\u001b[0m \u001b[1;33m=\u001b[0m \u001b[0mvalue\u001b[0m\u001b[1;33m.\u001b[0m\u001b[0m_render_traceback_\u001b[0m\u001b[1;33m(\u001b[0m\u001b[1;33m)\u001b[0m\u001b[1;33m\u001b[0m\u001b[1;33m\u001b[0m\u001b[0m\n\u001b[0m\u001b[0;32m   2045\u001b[0m                     \u001b[1;32mexcept\u001b[0m \u001b[0mException\u001b[0m\u001b[1;33m:\u001b[0m\u001b[1;33m\u001b[0m\u001b[1;33m\u001b[0m\u001b[0m\n",
      "\u001b[1;31mAttributeError\u001b[0m: 'KeyboardInterrupt' object has no attribute '_render_traceback_'",
      "\nDuring handling of the above exception, another exception occurred:\n",
      "\u001b[1;31mKeyboardInterrupt\u001b[0m                         Traceback (most recent call last)",
      "\u001b[1;32m~\\AppData\\Local\\Continuum\\anaconda3\\envs\\biz_sentiment\\lib\\site-packages\\IPython\\core\\interactiveshell.py\u001b[0m in \u001b[0;36mshowtraceback\u001b[1;34m(self, exc_tuple, filename, tb_offset, exception_only, running_compiled_code)\u001b[0m\n\u001b[0;32m   2045\u001b[0m                     \u001b[1;32mexcept\u001b[0m \u001b[0mException\u001b[0m\u001b[1;33m:\u001b[0m\u001b[1;33m\u001b[0m\u001b[1;33m\u001b[0m\u001b[0m\n\u001b[1;32m-> 2046\u001b[1;33m                         stb = self.InteractiveTB.structured_traceback(etype,\n\u001b[0m\u001b[0;32m   2047\u001b[0m                                             value, tb, tb_offset=tb_offset)\n",
      "\u001b[1;32m~\\AppData\\Local\\Continuum\\anaconda3\\envs\\biz_sentiment\\lib\\site-packages\\IPython\\core\\ultratb.py\u001b[0m in \u001b[0;36mstructured_traceback\u001b[1;34m(self, etype, value, tb, tb_offset, number_of_lines_of_context)\u001b[0m\n\u001b[0;32m   1434\u001b[0m             \u001b[0mself\u001b[0m\u001b[1;33m.\u001b[0m\u001b[0mtb\u001b[0m \u001b[1;33m=\u001b[0m \u001b[0mtb\u001b[0m\u001b[1;33m\u001b[0m\u001b[1;33m\u001b[0m\u001b[0m\n\u001b[1;32m-> 1435\u001b[1;33m         return FormattedTB.structured_traceback(\n\u001b[0m\u001b[0;32m   1436\u001b[0m             self, etype, value, tb, tb_offset, number_of_lines_of_context)\n",
      "\u001b[1;32m~\\AppData\\Local\\Continuum\\anaconda3\\envs\\biz_sentiment\\lib\\site-packages\\IPython\\core\\ultratb.py\u001b[0m in \u001b[0;36mstructured_traceback\u001b[1;34m(self, etype, value, tb, tb_offset, number_of_lines_of_context)\u001b[0m\n\u001b[0;32m   1334\u001b[0m             \u001b[1;31m# Verbose modes need a full traceback\u001b[0m\u001b[1;33m\u001b[0m\u001b[1;33m\u001b[0m\u001b[1;33m\u001b[0m\u001b[0m\n\u001b[1;32m-> 1335\u001b[1;33m             return VerboseTB.structured_traceback(\n\u001b[0m\u001b[0;32m   1336\u001b[0m                 \u001b[0mself\u001b[0m\u001b[1;33m,\u001b[0m \u001b[0metype\u001b[0m\u001b[1;33m,\u001b[0m \u001b[0mvalue\u001b[0m\u001b[1;33m,\u001b[0m \u001b[0mtb\u001b[0m\u001b[1;33m,\u001b[0m \u001b[0mtb_offset\u001b[0m\u001b[1;33m,\u001b[0m \u001b[0mnumber_of_lines_of_context\u001b[0m\u001b[1;33m\u001b[0m\u001b[1;33m\u001b[0m\u001b[0m\n",
      "\u001b[1;32m~\\AppData\\Local\\Continuum\\anaconda3\\envs\\biz_sentiment\\lib\\site-packages\\IPython\\core\\ultratb.py\u001b[0m in \u001b[0;36mstructured_traceback\u001b[1;34m(self, etype, evalue, etb, tb_offset, number_of_lines_of_context)\u001b[0m\n\u001b[0;32m   1191\u001b[0m \u001b[1;33m\u001b[0m\u001b[0m\n\u001b[1;32m-> 1192\u001b[1;33m         formatted_exception = self.format_exception_as_a_whole(etype, evalue, etb, number_of_lines_of_context,\n\u001b[0m\u001b[0;32m   1193\u001b[0m                                                                tb_offset)\n",
      "\u001b[1;32m~\\AppData\\Local\\Continuum\\anaconda3\\envs\\biz_sentiment\\lib\\site-packages\\IPython\\core\\ultratb.py\u001b[0m in \u001b[0;36mformat_exception_as_a_whole\u001b[1;34m(self, etype, evalue, etb, number_of_lines_of_context, tb_offset)\u001b[0m\n\u001b[0;32m   1139\u001b[0m         \u001b[0morig_etype\u001b[0m \u001b[1;33m=\u001b[0m \u001b[0metype\u001b[0m\u001b[1;33m\u001b[0m\u001b[1;33m\u001b[0m\u001b[0m\n\u001b[1;32m-> 1140\u001b[1;33m         \u001b[1;32mtry\u001b[0m\u001b[1;33m:\u001b[0m\u001b[1;33m\u001b[0m\u001b[1;33m\u001b[0m\u001b[0m\n\u001b[0m\u001b[0;32m   1141\u001b[0m             \u001b[0metype\u001b[0m \u001b[1;33m=\u001b[0m \u001b[0metype\u001b[0m\u001b[1;33m.\u001b[0m\u001b[0m__name__\u001b[0m\u001b[1;33m\u001b[0m\u001b[1;33m\u001b[0m\u001b[0m\n",
      "\u001b[1;31mKeyboardInterrupt\u001b[0m: ",
      "\nDuring handling of the above exception, another exception occurred:\n",
      "\u001b[1;31mKeyboardInterrupt\u001b[0m                         Traceback (most recent call last)",
      "    \u001b[1;31m[... skipping hidden 1 frame]\u001b[0m\n",
      "\u001b[1;32m~\\AppData\\Local\\Continuum\\anaconda3\\envs\\biz_sentiment\\lib\\site-packages\\IPython\\core\\interactiveshell.py\u001b[0m in \u001b[0;36mshowtraceback\u001b[1;34m(self, exc_tuple, filename, tb_offset, exception_only, running_compiled_code)\u001b[0m\n\u001b[0;32m   2057\u001b[0m \u001b[1;33m\u001b[0m\u001b[0m\n\u001b[0;32m   2058\u001b[0m         \u001b[1;32mexcept\u001b[0m \u001b[0mKeyboardInterrupt\u001b[0m\u001b[1;33m:\u001b[0m\u001b[1;33m\u001b[0m\u001b[1;33m\u001b[0m\u001b[0m\n\u001b[1;32m-> 2059\u001b[1;33m             \u001b[0mprint\u001b[0m\u001b[1;33m(\u001b[0m\u001b[1;34m'\\n'\u001b[0m \u001b[1;33m+\u001b[0m \u001b[0mself\u001b[0m\u001b[1;33m.\u001b[0m\u001b[0mget_exception_only\u001b[0m\u001b[1;33m(\u001b[0m\u001b[1;33m)\u001b[0m\u001b[1;33m,\u001b[0m \u001b[0mfile\u001b[0m\u001b[1;33m=\u001b[0m\u001b[0msys\u001b[0m\u001b[1;33m.\u001b[0m\u001b[0mstderr\u001b[0m\u001b[1;33m)\u001b[0m\u001b[1;33m\u001b[0m\u001b[1;33m\u001b[0m\u001b[0m\n\u001b[0m\u001b[0;32m   2060\u001b[0m \u001b[1;33m\u001b[0m\u001b[0m\n\u001b[0;32m   2061\u001b[0m     \u001b[1;32mdef\u001b[0m \u001b[0m_showtraceback\u001b[0m\u001b[1;33m(\u001b[0m\u001b[0mself\u001b[0m\u001b[1;33m,\u001b[0m \u001b[0metype\u001b[0m\u001b[1;33m,\u001b[0m \u001b[0mevalue\u001b[0m\u001b[1;33m,\u001b[0m \u001b[0mstb\u001b[0m\u001b[1;33m)\u001b[0m\u001b[1;33m:\u001b[0m\u001b[1;33m\u001b[0m\u001b[1;33m\u001b[0m\u001b[0m\n",
      "\u001b[1;32m~\\AppData\\Local\\Continuum\\anaconda3\\envs\\biz_sentiment\\lib\\site-packages\\IPython\\core\\interactiveshell.py\u001b[0m in \u001b[0;36mget_exception_only\u001b[1;34m(self, exc_tuple)\u001b[0m\n\u001b[0;32m   2002\u001b[0m         \"\"\"\n\u001b[0;32m   2003\u001b[0m         \u001b[0metype\u001b[0m\u001b[1;33m,\u001b[0m \u001b[0mvalue\u001b[0m\u001b[1;33m,\u001b[0m \u001b[0mtb\u001b[0m \u001b[1;33m=\u001b[0m \u001b[0mself\u001b[0m\u001b[1;33m.\u001b[0m\u001b[0m_get_exc_info\u001b[0m\u001b[1;33m(\u001b[0m\u001b[0mexc_tuple\u001b[0m\u001b[1;33m)\u001b[0m\u001b[1;33m\u001b[0m\u001b[1;33m\u001b[0m\u001b[0m\n\u001b[1;32m-> 2004\u001b[1;33m         \u001b[0mmsg\u001b[0m \u001b[1;33m=\u001b[0m \u001b[0mtraceback\u001b[0m\u001b[1;33m.\u001b[0m\u001b[0mformat_exception_only\u001b[0m\u001b[1;33m(\u001b[0m\u001b[0metype\u001b[0m\u001b[1;33m,\u001b[0m \u001b[0mvalue\u001b[0m\u001b[1;33m)\u001b[0m\u001b[1;33m\u001b[0m\u001b[1;33m\u001b[0m\u001b[0m\n\u001b[0m\u001b[0;32m   2005\u001b[0m         \u001b[1;32mreturn\u001b[0m \u001b[1;34m''\u001b[0m\u001b[1;33m.\u001b[0m\u001b[0mjoin\u001b[0m\u001b[1;33m(\u001b[0m\u001b[0mmsg\u001b[0m\u001b[1;33m)\u001b[0m\u001b[1;33m\u001b[0m\u001b[1;33m\u001b[0m\u001b[0m\n\u001b[0;32m   2006\u001b[0m \u001b[1;33m\u001b[0m\u001b[0m\n",
      "\u001b[1;32m~\\AppData\\Local\\Continuum\\anaconda3\\envs\\biz_sentiment\\lib\\traceback.py\u001b[0m in \u001b[0;36mformat_exception_only\u001b[1;34m(etype, value)\u001b[0m\n\u001b[0;32m    138\u001b[0m \u001b[1;33m\u001b[0m\u001b[0m\n\u001b[0;32m    139\u001b[0m     \"\"\"\n\u001b[1;32m--> 140\u001b[1;33m     \u001b[1;32mreturn\u001b[0m \u001b[0mlist\u001b[0m\u001b[1;33m(\u001b[0m\u001b[0mTracebackException\u001b[0m\u001b[1;33m(\u001b[0m\u001b[0metype\u001b[0m\u001b[1;33m,\u001b[0m \u001b[0mvalue\u001b[0m\u001b[1;33m,\u001b[0m \u001b[1;32mNone\u001b[0m\u001b[1;33m)\u001b[0m\u001b[1;33m.\u001b[0m\u001b[0mformat_exception_only\u001b[0m\u001b[1;33m(\u001b[0m\u001b[1;33m)\u001b[0m\u001b[1;33m)\u001b[0m\u001b[1;33m\u001b[0m\u001b[1;33m\u001b[0m\u001b[0m\n\u001b[0m\u001b[0;32m    141\u001b[0m \u001b[1;33m\u001b[0m\u001b[0m\n\u001b[0;32m    142\u001b[0m \u001b[1;33m\u001b[0m\u001b[0m\n",
      "\u001b[1;32m~\\AppData\\Local\\Continuum\\anaconda3\\envs\\biz_sentiment\\lib\\traceback.py\u001b[0m in \u001b[0;36m__init__\u001b[1;34m(self, exc_type, exc_value, exc_traceback, limit, lookup_lines, capture_locals, _seen)\u001b[0m\n\u001b[0;32m    491\u001b[0m         if (exc_value and exc_value.__context__ is not None\n\u001b[0;32m    492\u001b[0m             and id(exc_value.__context__) not in _seen):\n\u001b[1;32m--> 493\u001b[1;33m             context = TracebackException(\n\u001b[0m\u001b[0;32m    494\u001b[0m                 \u001b[0mtype\u001b[0m\u001b[1;33m(\u001b[0m\u001b[0mexc_value\u001b[0m\u001b[1;33m.\u001b[0m\u001b[0m__context__\u001b[0m\u001b[1;33m)\u001b[0m\u001b[1;33m,\u001b[0m\u001b[1;33m\u001b[0m\u001b[1;33m\u001b[0m\u001b[0m\n\u001b[0;32m    495\u001b[0m                 \u001b[0mexc_value\u001b[0m\u001b[1;33m.\u001b[0m\u001b[0m__context__\u001b[0m\u001b[1;33m,\u001b[0m\u001b[1;33m\u001b[0m\u001b[1;33m\u001b[0m\u001b[0m\n",
      "\u001b[1;32m~\\AppData\\Local\\Continuum\\anaconda3\\envs\\biz_sentiment\\lib\\traceback.py\u001b[0m in \u001b[0;36m__init__\u001b[1;34m(self, exc_type, exc_value, exc_traceback, limit, lookup_lines, capture_locals, _seen)\u001b[0m\n\u001b[0;32m    491\u001b[0m         if (exc_value and exc_value.__context__ is not None\n\u001b[0;32m    492\u001b[0m             and id(exc_value.__context__) not in _seen):\n\u001b[1;32m--> 493\u001b[1;33m             context = TracebackException(\n\u001b[0m\u001b[0;32m    494\u001b[0m                 \u001b[0mtype\u001b[0m\u001b[1;33m(\u001b[0m\u001b[0mexc_value\u001b[0m\u001b[1;33m.\u001b[0m\u001b[0m__context__\u001b[0m\u001b[1;33m)\u001b[0m\u001b[1;33m,\u001b[0m\u001b[1;33m\u001b[0m\u001b[1;33m\u001b[0m\u001b[0m\n\u001b[0;32m    495\u001b[0m                 \u001b[0mexc_value\u001b[0m\u001b[1;33m.\u001b[0m\u001b[0m__context__\u001b[0m\u001b[1;33m,\u001b[0m\u001b[1;33m\u001b[0m\u001b[1;33m\u001b[0m\u001b[0m\n",
      "\u001b[1;32m~\\AppData\\Local\\Continuum\\anaconda3\\envs\\biz_sentiment\\lib\\traceback.py\u001b[0m in \u001b[0;36m__init__\u001b[1;34m(self, exc_type, exc_value, exc_traceback, limit, lookup_lines, capture_locals, _seen)\u001b[0m\n\u001b[0;32m    507\u001b[0m             \u001b[0mexc_value\u001b[0m\u001b[1;33m.\u001b[0m\u001b[0m__suppress_context__\u001b[0m \u001b[1;32mif\u001b[0m \u001b[0mexc_value\u001b[0m \u001b[1;32melse\u001b[0m \u001b[1;32mFalse\u001b[0m\u001b[1;33m\u001b[0m\u001b[1;33m\u001b[0m\u001b[0m\n\u001b[0;32m    508\u001b[0m         \u001b[1;31m# TODO: locals.\u001b[0m\u001b[1;33m\u001b[0m\u001b[1;33m\u001b[0m\u001b[1;33m\u001b[0m\u001b[0m\n\u001b[1;32m--> 509\u001b[1;33m         self.stack = StackSummary.extract(\n\u001b[0m\u001b[0;32m    510\u001b[0m             \u001b[0mwalk_tb\u001b[0m\u001b[1;33m(\u001b[0m\u001b[0mexc_traceback\u001b[0m\u001b[1;33m)\u001b[0m\u001b[1;33m,\u001b[0m \u001b[0mlimit\u001b[0m\u001b[1;33m=\u001b[0m\u001b[0mlimit\u001b[0m\u001b[1;33m,\u001b[0m \u001b[0mlookup_lines\u001b[0m\u001b[1;33m=\u001b[0m\u001b[0mlookup_lines\u001b[0m\u001b[1;33m,\u001b[0m\u001b[1;33m\u001b[0m\u001b[1;33m\u001b[0m\u001b[0m\n\u001b[0;32m    511\u001b[0m             capture_locals=capture_locals)\n",
      "\u001b[1;32m~\\AppData\\Local\\Continuum\\anaconda3\\envs\\biz_sentiment\\lib\\traceback.py\u001b[0m in \u001b[0;36mextract\u001b[1;34m(klass, frame_gen, limit, lookup_lines, capture_locals)\u001b[0m\n\u001b[0;32m    334\u001b[0m         \"\"\"\n\u001b[0;32m    335\u001b[0m         \u001b[1;32mif\u001b[0m \u001b[0mlimit\u001b[0m \u001b[1;32mis\u001b[0m \u001b[1;32mNone\u001b[0m\u001b[1;33m:\u001b[0m\u001b[1;33m\u001b[0m\u001b[1;33m\u001b[0m\u001b[0m\n\u001b[1;32m--> 336\u001b[1;33m             \u001b[0mlimit\u001b[0m \u001b[1;33m=\u001b[0m \u001b[0mgetattr\u001b[0m\u001b[1;33m(\u001b[0m\u001b[0msys\u001b[0m\u001b[1;33m,\u001b[0m \u001b[1;34m'tracebacklimit'\u001b[0m\u001b[1;33m,\u001b[0m \u001b[1;32mNone\u001b[0m\u001b[1;33m)\u001b[0m\u001b[1;33m\u001b[0m\u001b[1;33m\u001b[0m\u001b[0m\n\u001b[0m\u001b[0;32m    337\u001b[0m             \u001b[1;32mif\u001b[0m \u001b[0mlimit\u001b[0m \u001b[1;32mis\u001b[0m \u001b[1;32mnot\u001b[0m \u001b[1;32mNone\u001b[0m \u001b[1;32mand\u001b[0m \u001b[0mlimit\u001b[0m \u001b[1;33m<\u001b[0m \u001b[1;36m0\u001b[0m\u001b[1;33m:\u001b[0m\u001b[1;33m\u001b[0m\u001b[1;33m\u001b[0m\u001b[0m\n\u001b[0;32m    338\u001b[0m                 \u001b[0mlimit\u001b[0m \u001b[1;33m=\u001b[0m \u001b[1;36m0\u001b[0m\u001b[1;33m\u001b[0m\u001b[1;33m\u001b[0m\u001b[0m\n",
      "\u001b[1;31mKeyboardInterrupt\u001b[0m: "
     ]
    }
   ],
   "source": [
    "column_order = [\n",
    "    'review_num',\n",
    "    'type',\n",
    "    'topic',\n",
    "    'text',\n",
    "    'num_words'\n",
    "]\n",
    "\n",
    "save_path = \"data/glassdoor/glassdoor_topics.json.gz\"\n",
    "\n",
    "for next_df in tqdm(data_loader):\n",
    "    drop_short_sents(next_df, 'text', 3)\n",
    "    assign_topic(next_df, 'text', tfidf_vectorizer, nmf_fro)\n",
    "    next_df['num_words'] = next_df['text'].str.split().str.len()\n",
    "    next_df = next_df[column_order]\n",
    "    append_df_to_JSON(save_path, next_df)"
   ]
  },
  {
   "cell_type": "code",
   "execution_count": 10,
   "metadata": {},
   "outputs": [
    {
     "name": "stdout",
     "output_type": "stream",
     "text": [
      "6161582\n"
     ]
    }
   ],
   "source": [
    "drop_short_sents(df, 'text', 3)\n",
    "print(len(df['review_num'].unique()))"
   ]
  },
  {
   "cell_type": "code",
   "execution_count": 15,
   "metadata": {},
   "outputs": [
    {
     "name": "stdout",
     "output_type": "stream",
     "text": [
      "violation: 1.0\n",
      "violation: 0.03526301313398225\n",
      "violation: 0.0003064962303773821\n",
      "violation: 2.4429237300247963e-06\n",
      "Converged at iteration 5\n",
      "6754236\n"
     ]
    }
   ],
   "source": [
    "%time assign_topic(df, 'text', tfidf_vectorizer, nmf_fro)\n",
    "print(len(df['review_num'].unique()))"
   ]
  },
  {
   "cell_type": "code",
   "execution_count": 34,
   "metadata": {},
   "outputs": [
    {
     "data": {
      "text/html": [
       "<div>\n",
       "<style scoped>\n",
       "    .dataframe tbody tr th:only-of-type {\n",
       "        vertical-align: middle;\n",
       "    }\n",
       "\n",
       "    .dataframe tbody tr th {\n",
       "        vertical-align: top;\n",
       "    }\n",
       "\n",
       "    .dataframe thead th {\n",
       "        text-align: right;\n",
       "    }\n",
       "</style>\n",
       "<table border=\"1\" class=\"dataframe\">\n",
       "  <thead>\n",
       "    <tr style=\"text-align: right;\">\n",
       "      <th></th>\n",
       "      <th>review_num</th>\n",
       "      <th>text</th>\n",
       "      <th>type</th>\n",
       "      <th>topic</th>\n",
       "      <th>num_targets</th>\n",
       "    </tr>\n",
       "  </thead>\n",
       "  <tbody>\n",
       "    <tr>\n",
       "      <th>0</th>\n",
       "      <td>0</td>\n",
       "      <td>The people to work with</td>\n",
       "      <td>1</td>\n",
       "      <td>3</td>\n",
       "      <td>0</td>\n",
       "    </tr>\n",
       "    <tr>\n",
       "      <th>0</th>\n",
       "      <td>0</td>\n",
       "      <td>Hire more hardworking people and schedule fair...</td>\n",
       "      <td>3</td>\n",
       "      <td>3</td>\n",
       "      <td>0</td>\n",
       "    </tr>\n",
       "    <tr>\n",
       "      <th>0</th>\n",
       "      <td>0</td>\n",
       "      <td>And always understaff.</td>\n",
       "      <td>2</td>\n",
       "      <td>0</td>\n",
       "      <td>0</td>\n",
       "    </tr>\n",
       "    <tr>\n",
       "      <th>0</th>\n",
       "      <td>0</td>\n",
       "      <td>11-14 hour shifts.</td>\n",
       "      <td>2</td>\n",
       "      <td>7</td>\n",
       "      <td>0</td>\n",
       "    </tr>\n",
       "    <tr>\n",
       "      <th>1</th>\n",
       "      <td>1</td>\n",
       "      <td>Ensure a solid foundation of training, allowan...</td>\n",
       "      <td>3</td>\n",
       "      <td>7</td>\n",
       "      <td>0</td>\n",
       "    </tr>\n",
       "    <tr>\n",
       "      <th>...</th>\n",
       "      <td>...</td>\n",
       "      <td>...</td>\n",
       "      <td>...</td>\n",
       "      <td>...</td>\n",
       "      <td>...</td>\n",
       "    </tr>\n",
       "    <tr>\n",
       "      <th>6754234</th>\n",
       "      <td>6754234</td>\n",
       "      <td>Long hours with little compensation</td>\n",
       "      <td>2</td>\n",
       "      <td>7</td>\n",
       "      <td>0</td>\n",
       "    </tr>\n",
       "    <tr>\n",
       "      <th>6754235</th>\n",
       "      <td>6754235</td>\n",
       "      <td>Really enjoyed being able to spend time with a...</td>\n",
       "      <td>1</td>\n",
       "      <td>1</td>\n",
       "      <td>0</td>\n",
       "    </tr>\n",
       "    <tr>\n",
       "      <th>6754235</th>\n",
       "      <td>6754235</td>\n",
       "      <td>Gained valuable experience in the field with p...</td>\n",
       "      <td>1</td>\n",
       "      <td>7</td>\n",
       "      <td>0</td>\n",
       "    </tr>\n",
       "    <tr>\n",
       "      <th>6754235</th>\n",
       "      <td>6754235</td>\n",
       "      <td>If you don't like working outside or getting d...</td>\n",
       "      <td>2</td>\n",
       "      <td>7</td>\n",
       "      <td>0</td>\n",
       "    </tr>\n",
       "    <tr>\n",
       "      <th>6754235</th>\n",
       "      <td>6754235</td>\n",
       "      <td>Some days consisted of long hours so you must ...</td>\n",
       "      <td>2</td>\n",
       "      <td>7</td>\n",
       "      <td>0</td>\n",
       "    </tr>\n",
       "  </tbody>\n",
       "</table>\n",
       "<p>40569801 rows × 5 columns</p>\n",
       "</div>"
      ],
      "text/plain": [
       "         review_num                                               text  type  \\\n",
       "0                 0                            The people to work with     1   \n",
       "0                 0  Hire more hardworking people and schedule fair...     3   \n",
       "0                 0                             And always understaff.     2   \n",
       "0                 0                                 11-14 hour shifts.     2   \n",
       "1                 1  Ensure a solid foundation of training, allowan...     3   \n",
       "...             ...                                                ...   ...   \n",
       "6754234     6754234                Long hours with little compensation     2   \n",
       "6754235     6754235  Really enjoyed being able to spend time with a...     1   \n",
       "6754235     6754235  Gained valuable experience in the field with p...     1   \n",
       "6754235     6754235  If you don't like working outside or getting d...     2   \n",
       "6754235     6754235  Some days consisted of long hours so you must ...     2   \n",
       "\n",
       "         topic  num_targets  \n",
       "0            3            0  \n",
       "0            3            0  \n",
       "0            0            0  \n",
       "0            7            0  \n",
       "1            7            0  \n",
       "...        ...          ...  \n",
       "6754234      7            0  \n",
       "6754235      1            0  \n",
       "6754235      7            0  \n",
       "6754235      7            0  \n",
       "6754235      7            0  \n",
       "\n",
       "[40569801 rows x 5 columns]"
      ]
     },
     "execution_count": 34,
     "metadata": {},
     "output_type": "execute_result"
    }
   ],
   "source": [
    "df"
   ]
  },
  {
   "cell_type": "code",
   "execution_count": 39,
   "metadata": {},
   "outputs": [],
   "source": [
    "tqdm.pandas()"
   ]
  },
  {
   "cell_type": "code",
   "execution_count": 40,
   "metadata": {},
   "outputs": [
    {
     "data": {
      "application/vnd.jupyter.widget-view+json": {
       "model_id": "a47c385c5a5c48b68b297f058bd3284d",
       "version_major": 2,
       "version_minor": 0
      },
      "text/plain": [
       "HBox(children=(FloatProgress(value=0.0, max=40569801.0), HTML(value='')))"
      ]
     },
     "metadata": {},
     "output_type": "display_data"
    },
    {
     "name": "stdout",
     "output_type": "stream",
     "text": [
      "\n",
      "6754236\n"
     ]
    }
   ],
   "source": [
    "df['num_words'] = df['text'].progress_apply(lambda x: len(x.split()))\n",
    "# %time df['num_words'] = df['text'].str.split().str.len()\n",
    "print(len(df['review_num'].unique()))"
   ]
  },
  {
   "cell_type": "code",
   "execution_count": 41,
   "metadata": {},
   "outputs": [
    {
     "name": "stdout",
     "output_type": "stream",
     "text": [
      "Wall time: 9.52 s\n",
      "6754236\n"
     ]
    }
   ],
   "source": [
    "column_order = [\n",
    "    'review_num',\n",
    "    'type',\n",
    "    'topic',\n",
    "    'text',\n",
    "    'num_words',\n",
    "    'num_targets'\n",
    "]\n",
    "\n",
    "%time df = df[column_order]\n",
    "print(len(df['review_num'].unique()))"
   ]
  },
  {
   "cell_type": "code",
   "execution_count": 42,
   "metadata": {},
   "outputs": [
    {
     "data": {
      "text/html": [
       "<div>\n",
       "<style scoped>\n",
       "    .dataframe tbody tr th:only-of-type {\n",
       "        vertical-align: middle;\n",
       "    }\n",
       "\n",
       "    .dataframe tbody tr th {\n",
       "        vertical-align: top;\n",
       "    }\n",
       "\n",
       "    .dataframe thead th {\n",
       "        text-align: right;\n",
       "    }\n",
       "</style>\n",
       "<table border=\"1\" class=\"dataframe\">\n",
       "  <thead>\n",
       "    <tr style=\"text-align: right;\">\n",
       "      <th></th>\n",
       "      <th>review_num</th>\n",
       "      <th>type</th>\n",
       "      <th>topic</th>\n",
       "      <th>text</th>\n",
       "      <th>num_words</th>\n",
       "      <th>num_targets</th>\n",
       "    </tr>\n",
       "  </thead>\n",
       "  <tbody>\n",
       "    <tr>\n",
       "      <th>0</th>\n",
       "      <td>0</td>\n",
       "      <td>1</td>\n",
       "      <td>3</td>\n",
       "      <td>The people to work with</td>\n",
       "      <td>5</td>\n",
       "      <td>0</td>\n",
       "    </tr>\n",
       "    <tr>\n",
       "      <th>0</th>\n",
       "      <td>0</td>\n",
       "      <td>3</td>\n",
       "      <td>3</td>\n",
       "      <td>Hire more hardworking people and schedule fair...</td>\n",
       "      <td>19</td>\n",
       "      <td>0</td>\n",
       "    </tr>\n",
       "    <tr>\n",
       "      <th>0</th>\n",
       "      <td>0</td>\n",
       "      <td>2</td>\n",
       "      <td>0</td>\n",
       "      <td>And always understaff.</td>\n",
       "      <td>3</td>\n",
       "      <td>0</td>\n",
       "    </tr>\n",
       "    <tr>\n",
       "      <th>0</th>\n",
       "      <td>0</td>\n",
       "      <td>2</td>\n",
       "      <td>7</td>\n",
       "      <td>11-14 hour shifts.</td>\n",
       "      <td>3</td>\n",
       "      <td>0</td>\n",
       "    </tr>\n",
       "    <tr>\n",
       "      <th>1</th>\n",
       "      <td>1</td>\n",
       "      <td>3</td>\n",
       "      <td>7</td>\n",
       "      <td>Ensure a solid foundation of training, allowan...</td>\n",
       "      <td>23</td>\n",
       "      <td>0</td>\n",
       "    </tr>\n",
       "    <tr>\n",
       "      <th>...</th>\n",
       "      <td>...</td>\n",
       "      <td>...</td>\n",
       "      <td>...</td>\n",
       "      <td>...</td>\n",
       "      <td>...</td>\n",
       "      <td>...</td>\n",
       "    </tr>\n",
       "    <tr>\n",
       "      <th>6754234</th>\n",
       "      <td>6754234</td>\n",
       "      <td>2</td>\n",
       "      <td>7</td>\n",
       "      <td>Long hours with little compensation</td>\n",
       "      <td>5</td>\n",
       "      <td>0</td>\n",
       "    </tr>\n",
       "    <tr>\n",
       "      <th>6754235</th>\n",
       "      <td>6754235</td>\n",
       "      <td>1</td>\n",
       "      <td>1</td>\n",
       "      <td>Really enjoyed being able to spend time with a...</td>\n",
       "      <td>17</td>\n",
       "      <td>0</td>\n",
       "    </tr>\n",
       "    <tr>\n",
       "      <th>6754235</th>\n",
       "      <td>6754235</td>\n",
       "      <td>1</td>\n",
       "      <td>7</td>\n",
       "      <td>Gained valuable experience in the field with p...</td>\n",
       "      <td>10</td>\n",
       "      <td>0</td>\n",
       "    </tr>\n",
       "    <tr>\n",
       "      <th>6754235</th>\n",
       "      <td>6754235</td>\n",
       "      <td>2</td>\n",
       "      <td>7</td>\n",
       "      <td>If you don't like working outside or getting d...</td>\n",
       "      <td>16</td>\n",
       "      <td>0</td>\n",
       "    </tr>\n",
       "    <tr>\n",
       "      <th>6754235</th>\n",
       "      <td>6754235</td>\n",
       "      <td>2</td>\n",
       "      <td>7</td>\n",
       "      <td>Some days consisted of long hours so you must ...</td>\n",
       "      <td>14</td>\n",
       "      <td>0</td>\n",
       "    </tr>\n",
       "  </tbody>\n",
       "</table>\n",
       "<p>40569801 rows × 6 columns</p>\n",
       "</div>"
      ],
      "text/plain": [
       "         review_num  type  topic  \\\n",
       "0                 0     1      3   \n",
       "0                 0     3      3   \n",
       "0                 0     2      0   \n",
       "0                 0     2      7   \n",
       "1                 1     3      7   \n",
       "...             ...   ...    ...   \n",
       "6754234     6754234     2      7   \n",
       "6754235     6754235     1      1   \n",
       "6754235     6754235     1      7   \n",
       "6754235     6754235     2      7   \n",
       "6754235     6754235     2      7   \n",
       "\n",
       "                                                      text  num_words  \\\n",
       "0                                  The people to work with          5   \n",
       "0        Hire more hardworking people and schedule fair...         19   \n",
       "0                                   And always understaff.          3   \n",
       "0                                       11-14 hour shifts.          3   \n",
       "1        Ensure a solid foundation of training, allowan...         23   \n",
       "...                                                    ...        ...   \n",
       "6754234                Long hours with little compensation          5   \n",
       "6754235  Really enjoyed being able to spend time with a...         17   \n",
       "6754235  Gained valuable experience in the field with p...         10   \n",
       "6754235  If you don't like working outside or getting d...         16   \n",
       "6754235  Some days consisted of long hours so you must ...         14   \n",
       "\n",
       "         num_targets  \n",
       "0                  0  \n",
       "0                  0  \n",
       "0                  0  \n",
       "0                  0  \n",
       "1                  0  \n",
       "...              ...  \n",
       "6754234            0  \n",
       "6754235            0  \n",
       "6754235            0  \n",
       "6754235            0  \n",
       "6754235            0  \n",
       "\n",
       "[40569801 rows x 6 columns]"
      ]
     },
     "execution_count": 42,
     "metadata": {},
     "output_type": "execute_result"
    }
   ],
   "source": [
    "df"
   ]
  },
  {
   "cell_type": "code",
   "execution_count": 43,
   "metadata": {},
   "outputs": [
    {
     "name": "stdout",
     "output_type": "stream",
     "text": [
      "6754236\n"
     ]
    }
   ],
   "source": [
    "print(len(df['review_num'].unique()))"
   ]
  },
  {
   "cell_type": "code",
   "execution_count": 63,
   "metadata": {},
   "outputs": [],
   "source": [
    "save_path = \"data/glassdoor/glassdoor_topics.parquet\"\n",
    "df.to_parquet(save_path)"
   ]
  },
  {
   "cell_type": "markdown",
   "metadata": {},
   "source": [
    "# Convert JSON to Stata"
   ]
  },
  {
   "cell_type": "code",
   "execution_count": 3,
   "metadata": {
    "scrolled": true
   },
   "outputs": [],
   "source": [
    "save_path = \"data/glassdoor/glassdoor_topics.json.gz\"\n",
    "\n",
    "df_to_save = pd.read_json(save_path, lines=True)"
   ]
  },
  {
   "cell_type": "code",
   "execution_count": 23,
   "metadata": {},
   "outputs": [
    {
     "data": {
      "text/html": [
       "<div>\n",
       "<style scoped>\n",
       "    .dataframe tbody tr th:only-of-type {\n",
       "        vertical-align: middle;\n",
       "    }\n",
       "\n",
       "    .dataframe tbody tr th {\n",
       "        vertical-align: top;\n",
       "    }\n",
       "\n",
       "    .dataframe thead th {\n",
       "        text-align: right;\n",
       "    }\n",
       "</style>\n",
       "<table border=\"1\" class=\"dataframe\">\n",
       "  <thead>\n",
       "    <tr style=\"text-align: right;\">\n",
       "      <th></th>\n",
       "      <th>review_id</th>\n",
       "      <th>type</th>\n",
       "      <th>topic</th>\n",
       "      <th>text</th>\n",
       "      <th>num_words</th>\n",
       "      <th>topic_labels</th>\n",
       "    </tr>\n",
       "  </thead>\n",
       "  <tbody>\n",
       "    <tr>\n",
       "      <th>0</th>\n",
       "      <td>0</td>\n",
       "      <td>1</td>\n",
       "      <td>3</td>\n",
       "      <td>The people to work with</td>\n",
       "      <td>5</td>\n",
       "      <td>Coworkers</td>\n",
       "    </tr>\n",
       "    <tr>\n",
       "      <th>1</th>\n",
       "      <td>0</td>\n",
       "      <td>3</td>\n",
       "      <td>3</td>\n",
       "      <td>Hire more hardworking people and schedule fair...</td>\n",
       "      <td>19</td>\n",
       "      <td>Coworkers</td>\n",
       "    </tr>\n",
       "    <tr>\n",
       "      <th>2</th>\n",
       "      <td>0</td>\n",
       "      <td>2</td>\n",
       "      <td>0</td>\n",
       "      <td>And always understaff.</td>\n",
       "      <td>3</td>\n",
       "      <td>Management</td>\n",
       "    </tr>\n",
       "    <tr>\n",
       "      <th>3</th>\n",
       "      <td>0</td>\n",
       "      <td>2</td>\n",
       "      <td>7</td>\n",
       "      <td>11-14 hour shifts.</td>\n",
       "      <td>3</td>\n",
       "      <td>Work/Life Balance</td>\n",
       "    </tr>\n",
       "    <tr>\n",
       "      <th>4</th>\n",
       "      <td>1</td>\n",
       "      <td>2</td>\n",
       "      <td>4</td>\n",
       "      <td>Extensive changes in upper level management ov...</td>\n",
       "      <td>10</td>\n",
       "      <td>Culture</td>\n",
       "    </tr>\n",
       "    <tr>\n",
       "      <th>5</th>\n",
       "      <td>1</td>\n",
       "      <td>1</td>\n",
       "      <td>1</td>\n",
       "      <td>A company in rapid growth and expansion</td>\n",
       "      <td>7</td>\n",
       "      <td>Training</td>\n",
       "    </tr>\n",
       "    <tr>\n",
       "      <th>6</th>\n",
       "      <td>1</td>\n",
       "      <td>3</td>\n",
       "      <td>6</td>\n",
       "      <td>Ensure a solid foundation of training, allowan...</td>\n",
       "      <td>23</td>\n",
       "      <td>Flexibility</td>\n",
       "    </tr>\n",
       "    <tr>\n",
       "      <th>7</th>\n",
       "      <td>2</td>\n",
       "      <td>2</td>\n",
       "      <td>4</td>\n",
       "      <td>Managers do not manage.</td>\n",
       "      <td>4</td>\n",
       "      <td>Culture</td>\n",
       "    </tr>\n",
       "    <tr>\n",
       "      <th>8</th>\n",
       "      <td>2</td>\n",
       "      <td>1</td>\n",
       "      <td>2</td>\n",
       "      <td>Get to know the industry, profit margins, etc.</td>\n",
       "      <td>8</td>\n",
       "      <td>Compensation</td>\n",
       "    </tr>\n",
       "    <tr>\n",
       "      <th>9</th>\n",
       "      <td>2</td>\n",
       "      <td>3</td>\n",
       "      <td>5</td>\n",
       "      <td>Take care of your employees, better.</td>\n",
       "      <td>6</td>\n",
       "      <td>Benefits</td>\n",
       "    </tr>\n",
       "    <tr>\n",
       "      <th>10</th>\n",
       "      <td>2</td>\n",
       "      <td>2</td>\n",
       "      <td>4</td>\n",
       "      <td>Very, very unorganized on every level, stock i...</td>\n",
       "      <td>15</td>\n",
       "      <td>Culture</td>\n",
       "    </tr>\n",
       "    <tr>\n",
       "      <th>11</th>\n",
       "      <td>2</td>\n",
       "      <td>1</td>\n",
       "      <td>1</td>\n",
       "      <td>Freedom of discounting once you have the knowl...</td>\n",
       "      <td>9</td>\n",
       "      <td>Training</td>\n",
       "    </tr>\n",
       "    <tr>\n",
       "      <th>12</th>\n",
       "      <td>3</td>\n",
       "      <td>2</td>\n",
       "      <td>7</td>\n",
       "      <td>Layoff of long term employees - losing years o...</td>\n",
       "      <td>12</td>\n",
       "      <td>Work/Life Balance</td>\n",
       "    </tr>\n",
       "    <tr>\n",
       "      <th>13</th>\n",
       "      <td>3</td>\n",
       "      <td>1</td>\n",
       "      <td>3</td>\n",
       "      <td>Friendly people, good company values</td>\n",
       "      <td>5</td>\n",
       "      <td>Coworkers</td>\n",
       "    </tr>\n",
       "    <tr>\n",
       "      <th>14</th>\n",
       "      <td>4</td>\n",
       "      <td>1</td>\n",
       "      <td>4</td>\n",
       "      <td>nice organized project, great boss.</td>\n",
       "      <td>5</td>\n",
       "      <td>Culture</td>\n",
       "    </tr>\n",
       "    <tr>\n",
       "      <th>15</th>\n",
       "      <td>4</td>\n",
       "      <td>2</td>\n",
       "      <td>0</td>\n",
       "      <td>none that i could see.</td>\n",
       "      <td>5</td>\n",
       "      <td>Management</td>\n",
       "    </tr>\n",
       "    <tr>\n",
       "      <th>16</th>\n",
       "      <td>4</td>\n",
       "      <td>2</td>\n",
       "      <td>0</td>\n",
       "      <td>mostly worked remote.</td>\n",
       "      <td>3</td>\n",
       "      <td>Management</td>\n",
       "    </tr>\n",
       "    <tr>\n",
       "      <th>17</th>\n",
       "      <td>5</td>\n",
       "      <td>2</td>\n",
       "      <td>5</td>\n",
       "      <td>just work, work and you will be on the way up ...</td>\n",
       "      <td>14</td>\n",
       "      <td>Benefits</td>\n",
       "    </tr>\n",
       "    <tr>\n",
       "      <th>18</th>\n",
       "      <td>5</td>\n",
       "      <td>2</td>\n",
       "      <td>7</td>\n",
       "      <td>I do not think I can find cons to working here.</td>\n",
       "      <td>11</td>\n",
       "      <td>Work/Life Balance</td>\n",
       "    </tr>\n",
       "    <tr>\n",
       "      <th>19</th>\n",
       "      <td>5</td>\n",
       "      <td>1</td>\n",
       "      <td>0</td>\n",
       "      <td>Great team of co-workers to work with.</td>\n",
       "      <td>7</td>\n",
       "      <td>Management</td>\n",
       "    </tr>\n",
       "    <tr>\n",
       "      <th>20</th>\n",
       "      <td>5</td>\n",
       "      <td>1</td>\n",
       "      <td>0</td>\n",
       "      <td>Fast pace and there is always something to do ...</td>\n",
       "      <td>14</td>\n",
       "      <td>Management</td>\n",
       "    </tr>\n",
       "    <tr>\n",
       "      <th>21</th>\n",
       "      <td>5</td>\n",
       "      <td>1</td>\n",
       "      <td>5</td>\n",
       "      <td>Great supervisors and co-workers who help trai...</td>\n",
       "      <td>12</td>\n",
       "      <td>Benefits</td>\n",
       "    </tr>\n",
       "    <tr>\n",
       "      <th>22</th>\n",
       "      <td>5</td>\n",
       "      <td>3</td>\n",
       "      <td>4</td>\n",
       "      <td>how does one join management?</td>\n",
       "      <td>5</td>\n",
       "      <td>Culture</td>\n",
       "    </tr>\n",
       "    <tr>\n",
       "      <th>23</th>\n",
       "      <td>5</td>\n",
       "      <td>3</td>\n",
       "      <td>3</td>\n",
       "      <td>I think that is a question a lot of people may...</td>\n",
       "      <td>12</td>\n",
       "      <td>Coworkers</td>\n",
       "    </tr>\n",
       "  </tbody>\n",
       "</table>\n",
       "</div>"
      ],
      "text/plain": [
       "    review_id  type  topic                                               text  \\\n",
       "0           0     1      3                            The people to work with   \n",
       "1           0     3      3  Hire more hardworking people and schedule fair...   \n",
       "2           0     2      0                             And always understaff.   \n",
       "3           0     2      7                                 11-14 hour shifts.   \n",
       "4           1     2      4  Extensive changes in upper level management ov...   \n",
       "5           1     1      1            A company in rapid growth and expansion   \n",
       "6           1     3      6  Ensure a solid foundation of training, allowan...   \n",
       "7           2     2      4                            Managers do not manage.   \n",
       "8           2     1      2     Get to know the industry, profit margins, etc.   \n",
       "9           2     3      5               Take care of your employees, better.   \n",
       "10          2     2      4  Very, very unorganized on every level, stock i...   \n",
       "11          2     1      1  Freedom of discounting once you have the knowl...   \n",
       "12          3     2      7  Layoff of long term employees - losing years o...   \n",
       "13          3     1      3               Friendly people, good company values   \n",
       "14          4     1      4                nice organized project, great boss.   \n",
       "15          4     2      0                             none that i could see.   \n",
       "16          4     2      0                              mostly worked remote.   \n",
       "17          5     2      5  just work, work and you will be on the way up ...   \n",
       "18          5     2      7    I do not think I can find cons to working here.   \n",
       "19          5     1      0             Great team of co-workers to work with.   \n",
       "20          5     1      0  Fast pace and there is always something to do ...   \n",
       "21          5     1      5  Great supervisors and co-workers who help trai...   \n",
       "22          5     3      4                      how does one join management?   \n",
       "23          5     3      3  I think that is a question a lot of people may...   \n",
       "\n",
       "    num_words       topic_labels  \n",
       "0           5          Coworkers  \n",
       "1          19          Coworkers  \n",
       "2           3         Management  \n",
       "3           3  Work/Life Balance  \n",
       "4          10            Culture  \n",
       "5           7           Training  \n",
       "6          23        Flexibility  \n",
       "7           4            Culture  \n",
       "8           8       Compensation  \n",
       "9           6           Benefits  \n",
       "10         15            Culture  \n",
       "11          9           Training  \n",
       "12         12  Work/Life Balance  \n",
       "13          5          Coworkers  \n",
       "14          5            Culture  \n",
       "15          5         Management  \n",
       "16          3         Management  \n",
       "17         14           Benefits  \n",
       "18         11  Work/Life Balance  \n",
       "19          7         Management  \n",
       "20         14         Management  \n",
       "21         12           Benefits  \n",
       "22          5            Culture  \n",
       "23         12          Coworkers  "
      ]
     },
     "execution_count": 23,
     "metadata": {},
     "output_type": "execute_result"
    }
   ],
   "source": [
    "df_to_save['topic_labels'] = df_to_save['topic'].map(lda_topic_labels)\n",
    "df_to_save"
   ]
  },
  {
   "cell_type": "code",
   "execution_count": 24,
   "metadata": {},
   "outputs": [],
   "source": [
    "df_to_save.to_clipboard(excel=True)"
   ]
  },
  {
   "cell_type": "code",
   "execution_count": 3,
   "metadata": {
    "scrolled": true
   },
   "outputs": [],
   "source": [
    "df_to_save['num_words'] = df_to_save['text'].str.split().str.len()"
   ]
  },
  {
   "cell_type": "code",
   "execution_count": 4,
   "metadata": {
    "scrolled": true
   },
   "outputs": [],
   "source": [
    "df_to_save.rename(columns={'review_num':'review_id'}, inplace=True)"
   ]
  },
  {
   "cell_type": "code",
   "execution_count": 5,
   "metadata": {
    "scrolled": false
   },
   "outputs": [
    {
     "data": {
      "text/html": [
       "<div>\n",
       "<style scoped>\n",
       "    .dataframe tbody tr th:only-of-type {\n",
       "        vertical-align: middle;\n",
       "    }\n",
       "\n",
       "    .dataframe tbody tr th {\n",
       "        vertical-align: top;\n",
       "    }\n",
       "\n",
       "    .dataframe thead th {\n",
       "        text-align: right;\n",
       "    }\n",
       "</style>\n",
       "<table border=\"1\" class=\"dataframe\">\n",
       "  <thead>\n",
       "    <tr style=\"text-align: right;\">\n",
       "      <th></th>\n",
       "      <th>review_id</th>\n",
       "      <th>type</th>\n",
       "      <th>topic</th>\n",
       "      <th>text</th>\n",
       "      <th>num_words</th>\n",
       "    </tr>\n",
       "  </thead>\n",
       "  <tbody>\n",
       "    <tr>\n",
       "      <th>0</th>\n",
       "      <td>0</td>\n",
       "      <td>1</td>\n",
       "      <td>3</td>\n",
       "      <td>The people to work with</td>\n",
       "      <td>5</td>\n",
       "    </tr>\n",
       "    <tr>\n",
       "      <th>1</th>\n",
       "      <td>0</td>\n",
       "      <td>3</td>\n",
       "      <td>3</td>\n",
       "      <td>Hire more hardworking people and schedule fair...</td>\n",
       "      <td>19</td>\n",
       "    </tr>\n",
       "    <tr>\n",
       "      <th>2</th>\n",
       "      <td>0</td>\n",
       "      <td>2</td>\n",
       "      <td>0</td>\n",
       "      <td>And always understaff.</td>\n",
       "      <td>3</td>\n",
       "    </tr>\n",
       "    <tr>\n",
       "      <th>3</th>\n",
       "      <td>0</td>\n",
       "      <td>2</td>\n",
       "      <td>7</td>\n",
       "      <td>11-14 hour shifts.</td>\n",
       "      <td>3</td>\n",
       "    </tr>\n",
       "    <tr>\n",
       "      <th>4</th>\n",
       "      <td>1</td>\n",
       "      <td>2</td>\n",
       "      <td>4</td>\n",
       "      <td>Extensive changes in upper level management ov...</td>\n",
       "      <td>10</td>\n",
       "    </tr>\n",
       "    <tr>\n",
       "      <th>...</th>\n",
       "      <td>...</td>\n",
       "      <td>...</td>\n",
       "      <td>...</td>\n",
       "      <td>...</td>\n",
       "      <td>...</td>\n",
       "    </tr>\n",
       "    <tr>\n",
       "      <th>26297935</th>\n",
       "      <td>4590139</td>\n",
       "      <td>1</td>\n",
       "      <td>2</td>\n",
       "      <td>I had a 5 month assignment at a university, go...</td>\n",
       "      <td>14</td>\n",
       "    </tr>\n",
       "    <tr>\n",
       "      <th>26297936</th>\n",
       "      <td>4590139</td>\n",
       "      <td>1</td>\n",
       "      <td>6</td>\n",
       "      <td>Medical and Dental is available.</td>\n",
       "      <td>5</td>\n",
       "    </tr>\n",
       "    <tr>\n",
       "      <th>26297937</th>\n",
       "      <td>4590139</td>\n",
       "      <td>2</td>\n",
       "      <td>0</td>\n",
       "      <td>There is a lag between assignments and you hav...</td>\n",
       "      <td>15</td>\n",
       "    </tr>\n",
       "    <tr>\n",
       "      <th>26297938</th>\n",
       "      <td>4590140</td>\n",
       "      <td>1</td>\n",
       "      <td>7</td>\n",
       "      <td>Have had the opportunity to change positions e...</td>\n",
       "      <td>17</td>\n",
       "    </tr>\n",
       "    <tr>\n",
       "      <th>26297939</th>\n",
       "      <td>4590140</td>\n",
       "      <td>2</td>\n",
       "      <td>1</td>\n",
       "      <td>Large company, at times change can take some a...</td>\n",
       "      <td>11</td>\n",
       "    </tr>\n",
       "  </tbody>\n",
       "</table>\n",
       "<p>26297940 rows × 5 columns</p>\n",
       "</div>"
      ],
      "text/plain": [
       "          review_id  type  topic  \\\n",
       "0                 0     1      3   \n",
       "1                 0     3      3   \n",
       "2                 0     2      0   \n",
       "3                 0     2      7   \n",
       "4                 1     2      4   \n",
       "...             ...   ...    ...   \n",
       "26297935    4590139     1      2   \n",
       "26297936    4590139     1      6   \n",
       "26297937    4590139     2      0   \n",
       "26297938    4590140     1      7   \n",
       "26297939    4590140     2      1   \n",
       "\n",
       "                                                       text  num_words  \n",
       "0                                   The people to work with          5  \n",
       "1         Hire more hardworking people and schedule fair...         19  \n",
       "2                                    And always understaff.          3  \n",
       "3                                        11-14 hour shifts.          3  \n",
       "4         Extensive changes in upper level management ov...         10  \n",
       "...                                                     ...        ...  \n",
       "26297935  I had a 5 month assignment at a university, go...         14  \n",
       "26297936                   Medical and Dental is available.          5  \n",
       "26297937  There is a lag between assignments and you hav...         15  \n",
       "26297938  Have had the opportunity to change positions e...         17  \n",
       "26297939  Large company, at times change can take some a...         11  \n",
       "\n",
       "[26297940 rows x 5 columns]"
      ]
     },
     "execution_count": 5,
     "metadata": {},
     "output_type": "execute_result"
    }
   ],
   "source": [
    "df_to_save"
   ]
  },
  {
   "cell_type": "code",
   "execution_count": 7,
   "metadata": {
    "scrolled": true
   },
   "outputs": [],
   "source": [
    "save_path = \"data/glassdoor/glassdoor_topics_final.json.gz\"\n",
    "\n",
    "df_to_save.to_json(save_path, orient='records', lines=True, compression=\"gzip\")"
   ]
  },
  {
   "cell_type": "code",
   "execution_count": 3,
   "metadata": {
    "scrolled": true
   },
   "outputs": [],
   "source": [
    "# df_to_save[\"text\"] =  df_to_save[\"text\"].str.replace('[^\\x00-\\x7F]','')"
   ]
  },
  {
   "cell_type": "code",
   "execution_count": 16,
   "metadata": {
    "scrolled": true
   },
   "outputs": [],
   "source": [
    "stata_path = \"data/glassdoor/glassdoor_topics2.dta.gz\"\n",
    "\n",
    "df.to_stata(stata_path, write_index=False, version=118, compression='gzip')"
   ]
  },
  {
   "cell_type": "code",
   "execution_count": 17,
   "metadata": {},
   "outputs": [],
   "source": [
    "import gzip\n",
    "import shutil\n",
    "with open(\"data/glassdoor/glassdoor_topics2.dta.gz\", 'rb') as f_in:\n",
    "    with gzip.open(\"data/glassdoor/glassdoor_topics3.dta.gz\", 'wb') as f_out:\n",
    "        shutil.copyfileobj(f_in, f_out)"
   ]
  },
  {
   "cell_type": "code",
   "execution_count": 10,
   "metadata": {
    "scrolled": true
   },
   "outputs": [],
   "source": [
    "df_stata = pd.read_stata(\"data/glassdoor/glassdoor_topics.dta\", chunksize=1000)"
   ]
  },
  {
   "cell_type": "code",
   "execution_count": 11,
   "metadata": {
    "collapsed": true
   },
   "outputs": [
    {
     "name": "stdout",
     "output_type": "stream",
     "text": [
      "270000\n",
      "304000\n",
      "392000\n",
      "411000\n",
      "885000\n",
      "1097000\n",
      "1386000\n",
      "1904000\n",
      "2019000\n",
      "2033000\n",
      "2047000\n",
      "2189000\n",
      "2509000\n",
      "2874000\n",
      "2962000\n",
      "3385000\n",
      "3442000\n",
      "3467000\n",
      "3662000\n",
      "3667000\n",
      "3896000\n",
      "3995000\n",
      "4041000\n",
      "4754000\n",
      "4771000\n",
      "4984000\n",
      "5113000\n",
      "5637000\n",
      "5722000\n",
      "5859000\n",
      "6105000\n",
      "6227000\n"
     ]
    }
   ],
   "source": [
    "count=0\n",
    "for i, df in enumerate(df_stata):\n",
    "    count+=len(df['review_num'].unique())\n",
    "    if i % 1000 == 0:\n",
    "        print(count)"
   ]
  },
  {
   "cell_type": "code",
   "execution_count": 12,
   "metadata": {},
   "outputs": [
    {
     "data": {
      "text/plain": [
       "6786141"
      ]
     },
     "execution_count": 12,
     "metadata": {},
     "output_type": "execute_result"
    }
   ],
   "source": [
    "count"
   ]
  },
  {
   "cell_type": "markdown",
   "metadata": {},
   "source": [
    "# Adding target words search"
   ]
  },
  {
   "cell_type": "code",
   "execution_count": 2,
   "metadata": {},
   "outputs": [],
   "source": [
    "load_path = \"data/glassdoor/glassdoor_topics.parquet\"\n",
    "df = pd.read_parquet(load_path)"
   ]
  },
  {
   "cell_type": "code",
   "execution_count": 3,
   "metadata": {},
   "outputs": [],
   "source": [
    "from nltk.corpus import wordnet\n",
    "import re\n",
    "\n",
    "def all_synsets(word, pos=None):\n",
    "    map = {\n",
    "        'NOUN': wordnet.NOUN,\n",
    "        'VERB': wordnet.VERB,\n",
    "        'ADJ': wordnet.ADJ,\n",
    "        'ADV': wordnet.ADV\n",
    "    }\n",
    "    if pos is None:\n",
    "        pos_list = [wordnet.VERB, wordnet.ADJ, wordnet.NOUN, wordnet.ADV]\n",
    "    else:\n",
    "        pos_list = [map[pos]]\n",
    "    ret = []\n",
    "    for pos in pos_list:\n",
    "        ret.extend(wordnet.synsets(word, pos=pos))\n",
    "    return ret\n",
    "\n",
    "def clean_senses(synsets):\n",
    "    return [x for x in set(synsets) if '_' not in x]\n",
    "\n",
    "def all_possible_synonyms(word, pos=None):\n",
    "    ret = []\n",
    "    for syn in all_synsets(word, pos=pos):\n",
    "        ret.extend(syn.lemma_names())\n",
    "    return clean_senses(ret)"
   ]
  },
  {
   "cell_type": "code",
   "execution_count": 4,
   "metadata": {},
   "outputs": [],
   "source": [
    "targets = ['account', 'fraud', 'misreport', 'misrepresent']\n",
    "synonyms = []\n",
    "for target in targets:\n",
    "    synonyms.extend(all_possible_synonyms(target))"
   ]
  },
  {
   "cell_type": "code",
   "execution_count": 5,
   "metadata": {
    "scrolled": true
   },
   "outputs": [
    {
     "data": {
      "text/plain": [
       "{'account',\n",
       " 'accounting',\n",
       " 'belie',\n",
       " 'bill',\n",
       " 'calculate',\n",
       " 'chronicle',\n",
       " 'cook',\n",
       " 'describe',\n",
       " 'dupery',\n",
       " 'explanation',\n",
       " 'fake',\n",
       " 'faker',\n",
       " 'falsify',\n",
       " 'fraud',\n",
       " 'fraudulence',\n",
       " 'fudge',\n",
       " 'history',\n",
       " 'hoax',\n",
       " 'humbug',\n",
       " 'imposter',\n",
       " 'impostor',\n",
       " 'invoice',\n",
       " 'manipulate',\n",
       " 'misreport',\n",
       " 'misrepresent',\n",
       " 'pretender',\n",
       " 'pseud',\n",
       " 'pseudo',\n",
       " 'put-on',\n",
       " 'report',\n",
       " 'score',\n",
       " 'sham',\n",
       " 'shammer',\n",
       " 'story',\n",
       " 'wangle'}"
      ]
     },
     "execution_count": 5,
     "metadata": {},
     "output_type": "execute_result"
    }
   ],
   "source": [
    "set(synonyms).union(set(targets))"
   ]
  },
  {
   "cell_type": "code",
   "execution_count": 24,
   "metadata": {},
   "outputs": [
    {
     "data": {
      "text/plain": [
       "'(shammer|account|sham|fraud|faker|misreport|pseud|imposter|impostor|pretender|humbug|fake|pseudo|misrepresent|fraudulence|put-on|hoax|dupery)'"
      ]
     },
     "execution_count": 24,
     "metadata": {},
     "output_type": "execute_result"
    }
   ],
   "source": [
    "regex = '(' + '|'.join(set(synonyms).union(set(targets))) +')'\n",
    "regex"
   ]
  },
  {
   "cell_type": "code",
   "execution_count": 25,
   "metadata": {},
   "outputs": [
    {
     "name": "stdout",
     "output_type": "stream",
     "text": [
      "Wall time: 9min 22s\n"
     ]
    }
   ],
   "source": [
    "%time df['num_targets'] = df['text'].str.count(regex, re.IGNORECASE)"
   ]
  },
  {
   "cell_type": "code",
   "execution_count": null,
   "metadata": {},
   "outputs": [],
   "source": [
    "df[json_loader['num_targets'] > 0]"
   ]
  },
  {
   "cell_type": "code",
   "execution_count": null,
   "metadata": {},
   "outputs": [],
   "source": []
  },
  {
   "cell_type": "code",
   "execution_count": 32,
   "metadata": {},
   "outputs": [],
   "source": [
    "# df['has_account']      = df['text'].str.lower().str.contains('account') * 1\n",
    "# df['has_fraud']        = df['text'].str.lower().str.contains('fraud') * 1\n",
    "# df['has_misreport']    = df['text'].str.lower().str.contains('misreport') * 1\n",
    "# df['has_misrepresent'] = df['text'].str.lower().str.contains('misrepresent') * 1"
   ]
  },
  {
   "cell_type": "code",
   "execution_count": 28,
   "metadata": {},
   "outputs": [],
   "source": [
    "# “account”, “fraud”, “misreport”, “misrepresent”\n",
    "# df['contains_target_word'] = df['text'].str.lower().str.contains('(account|fraud|misreport|misrepresent)', regex=True) * 1"
   ]
  },
  {
   "cell_type": "code",
   "execution_count": 2,
   "metadata": {},
   "outputs": [],
   "source": [
    "save_path=\"data/glassdoor/glassdoor_topics.parquet\"\n",
    "# df.to_parquet(save_path)\n",
    "df = pd.read_parquet(save_path)"
   ]
  },
  {
   "cell_type": "code",
   "execution_count": 9,
   "metadata": {},
   "outputs": [],
   "source": [
    "df.review_num = df.review_num + 1"
   ]
  },
  {
   "cell_type": "code",
   "execution_count": 12,
   "metadata": {},
   "outputs": [],
   "source": [
    "df.drop('index', axis=1,inplace=True)"
   ]
  },
  {
   "cell_type": "code",
   "execution_count": 3,
   "metadata": {},
   "outputs": [
    {
     "data": {
      "text/html": [
       "<div>\n",
       "<style scoped>\n",
       "    .dataframe tbody tr th:only-of-type {\n",
       "        vertical-align: middle;\n",
       "    }\n",
       "\n",
       "    .dataframe tbody tr th {\n",
       "        vertical-align: top;\n",
       "    }\n",
       "\n",
       "    .dataframe thead th {\n",
       "        text-align: right;\n",
       "    }\n",
       "</style>\n",
       "<table border=\"1\" class=\"dataframe\">\n",
       "  <thead>\n",
       "    <tr style=\"text-align: right;\">\n",
       "      <th></th>\n",
       "      <th>review_num</th>\n",
       "      <th>type</th>\n",
       "      <th>topic</th>\n",
       "      <th>text</th>\n",
       "      <th>num_words</th>\n",
       "      <th>num_targets</th>\n",
       "    </tr>\n",
       "  </thead>\n",
       "  <tbody>\n",
       "    <tr>\n",
       "      <th>0</th>\n",
       "      <td>1</td>\n",
       "      <td>1</td>\n",
       "      <td>3</td>\n",
       "      <td>The people to work with</td>\n",
       "      <td>5</td>\n",
       "      <td>0</td>\n",
       "    </tr>\n",
       "    <tr>\n",
       "      <th>1</th>\n",
       "      <td>1</td>\n",
       "      <td>3</td>\n",
       "      <td>3</td>\n",
       "      <td>Hire more hardworking people and schedule fair...</td>\n",
       "      <td>19</td>\n",
       "      <td>0</td>\n",
       "    </tr>\n",
       "    <tr>\n",
       "      <th>2</th>\n",
       "      <td>1</td>\n",
       "      <td>2</td>\n",
       "      <td>0</td>\n",
       "      <td>And always understaff.</td>\n",
       "      <td>3</td>\n",
       "      <td>0</td>\n",
       "    </tr>\n",
       "    <tr>\n",
       "      <th>3</th>\n",
       "      <td>1</td>\n",
       "      <td>2</td>\n",
       "      <td>7</td>\n",
       "      <td>11-14 hour shifts.</td>\n",
       "      <td>3</td>\n",
       "      <td>0</td>\n",
       "    </tr>\n",
       "    <tr>\n",
       "      <th>4</th>\n",
       "      <td>2</td>\n",
       "      <td>3</td>\n",
       "      <td>7</td>\n",
       "      <td>Ensure a solid foundation of training, allowan...</td>\n",
       "      <td>23</td>\n",
       "      <td>0</td>\n",
       "    </tr>\n",
       "    <tr>\n",
       "      <th>...</th>\n",
       "      <td>...</td>\n",
       "      <td>...</td>\n",
       "      <td>...</td>\n",
       "      <td>...</td>\n",
       "      <td>...</td>\n",
       "      <td>...</td>\n",
       "    </tr>\n",
       "    <tr>\n",
       "      <th>40569796</th>\n",
       "      <td>6754235</td>\n",
       "      <td>2</td>\n",
       "      <td>7</td>\n",
       "      <td>Long hours with little compensation</td>\n",
       "      <td>5</td>\n",
       "      <td>0</td>\n",
       "    </tr>\n",
       "    <tr>\n",
       "      <th>40569797</th>\n",
       "      <td>6754236</td>\n",
       "      <td>1</td>\n",
       "      <td>1</td>\n",
       "      <td>Really enjoyed being able to spend time with a...</td>\n",
       "      <td>17</td>\n",
       "      <td>0</td>\n",
       "    </tr>\n",
       "    <tr>\n",
       "      <th>40569798</th>\n",
       "      <td>6754236</td>\n",
       "      <td>1</td>\n",
       "      <td>7</td>\n",
       "      <td>Gained valuable experience in the field with p...</td>\n",
       "      <td>10</td>\n",
       "      <td>0</td>\n",
       "    </tr>\n",
       "    <tr>\n",
       "      <th>40569799</th>\n",
       "      <td>6754236</td>\n",
       "      <td>2</td>\n",
       "      <td>7</td>\n",
       "      <td>If you don't like working outside or getting d...</td>\n",
       "      <td>16</td>\n",
       "      <td>0</td>\n",
       "    </tr>\n",
       "    <tr>\n",
       "      <th>40569800</th>\n",
       "      <td>6754236</td>\n",
       "      <td>2</td>\n",
       "      <td>7</td>\n",
       "      <td>Some days consisted of long hours so you must ...</td>\n",
       "      <td>14</td>\n",
       "      <td>0</td>\n",
       "    </tr>\n",
       "  </tbody>\n",
       "</table>\n",
       "<p>40569801 rows × 6 columns</p>\n",
       "</div>"
      ],
      "text/plain": [
       "          review_num  type  topic  \\\n",
       "0                  1     1      3   \n",
       "1                  1     3      3   \n",
       "2                  1     2      0   \n",
       "3                  1     2      7   \n",
       "4                  2     3      7   \n",
       "...              ...   ...    ...   \n",
       "40569796     6754235     2      7   \n",
       "40569797     6754236     1      1   \n",
       "40569798     6754236     1      7   \n",
       "40569799     6754236     2      7   \n",
       "40569800     6754236     2      7   \n",
       "\n",
       "                                                       text  num_words  \\\n",
       "0                                   The people to work with          5   \n",
       "1         Hire more hardworking people and schedule fair...         19   \n",
       "2                                    And always understaff.          3   \n",
       "3                                        11-14 hour shifts.          3   \n",
       "4         Ensure a solid foundation of training, allowan...         23   \n",
       "...                                                     ...        ...   \n",
       "40569796                Long hours with little compensation          5   \n",
       "40569797  Really enjoyed being able to spend time with a...         17   \n",
       "40569798  Gained valuable experience in the field with p...         10   \n",
       "40569799  If you don't like working outside or getting d...         16   \n",
       "40569800  Some days consisted of long hours so you must ...         14   \n",
       "\n",
       "          num_targets  \n",
       "0                   0  \n",
       "1                   0  \n",
       "2                   0  \n",
       "3                   0  \n",
       "4                   0  \n",
       "...               ...  \n",
       "40569796            0  \n",
       "40569797            0  \n",
       "40569798            0  \n",
       "40569799            0  \n",
       "40569800            0  \n",
       "\n",
       "[40569801 rows x 6 columns]"
      ]
     },
     "execution_count": 3,
     "metadata": {},
     "output_type": "execute_result"
    }
   ],
   "source": [
    "df"
   ]
  },
  {
   "cell_type": "code",
   "execution_count": 59,
   "metadata": {},
   "outputs": [],
   "source": [
    "df.reset_index(inplace=True)"
   ]
  },
  {
   "cell_type": "code",
   "execution_count": 46,
   "metadata": {},
   "outputs": [
    {
     "data": {
      "text/html": [
       "<div>\n",
       "<style scoped>\n",
       "    .dataframe tbody tr th:only-of-type {\n",
       "        vertical-align: middle;\n",
       "    }\n",
       "\n",
       "    .dataframe tbody tr th {\n",
       "        vertical-align: top;\n",
       "    }\n",
       "\n",
       "    .dataframe thead th {\n",
       "        text-align: right;\n",
       "    }\n",
       "</style>\n",
       "<table border=\"1\" class=\"dataframe\">\n",
       "  <thead>\n",
       "    <tr style=\"text-align: right;\">\n",
       "      <th></th>\n",
       "      <th>review_num</th>\n",
       "      <th>type</th>\n",
       "      <th>topic</th>\n",
       "      <th>text</th>\n",
       "      <th>num_words</th>\n",
       "      <th>num_targets</th>\n",
       "    </tr>\n",
       "  </thead>\n",
       "  <tbody>\n",
       "  </tbody>\n",
       "</table>\n",
       "</div>"
      ],
      "text/plain": [
       "Empty DataFrame\n",
       "Columns: [review_num, type, topic, text, num_words, num_targets]\n",
       "Index: []"
      ]
     },
     "execution_count": 46,
     "metadata": {},
     "output_type": "execute_result"
    }
   ],
   "source": [
    "df[df['text'].str.count('(\\r|\\n)') > 0]"
   ]
  },
  {
   "cell_type": "code",
   "execution_count": null,
   "metadata": {},
   "outputs": [],
   "source": [
    "df.replace('(\\r|\\n)',  '. ', regex=True, inplace=True)"
   ]
  },
  {
   "cell_type": "code",
   "execution_count": 9,
   "metadata": {},
   "outputs": [],
   "source": [
    "data_loader = pd.read_stata(\"data/glassdoor/glassdoor_topics_v2.dta\", chunksize=10000)"
   ]
  },
  {
   "cell_type": "code",
   "execution_count": 10,
   "metadata": {},
   "outputs": [
    {
     "data": {
      "application/vnd.jupyter.widget-view+json": {
       "model_id": "2a0b18f636a7410aacc4c010bce664bf",
       "version_major": 2,
       "version_minor": 0
      },
      "text/plain": [
       "HBox(children=(FloatProgress(value=1.0, bar_style='info', layout=Layout(width='20px'), max=1.0), HTML(value=''…"
      ]
     },
     "metadata": {},
     "output_type": "display_data"
    },
    {
     "name": "stdout",
     "output_type": "stream",
     "text": [
      "\n"
     ]
    }
   ],
   "source": [
    "for df in tqdm(data_loader):\n",
    "    pass"
   ]
  },
  {
   "cell_type": "code",
   "execution_count": 11,
   "metadata": {},
   "outputs": [
    {
     "data": {
      "text/html": [
       "<div>\n",
       "<style scoped>\n",
       "    .dataframe tbody tr th:only-of-type {\n",
       "        vertical-align: middle;\n",
       "    }\n",
       "\n",
       "    .dataframe tbody tr th {\n",
       "        vertical-align: top;\n",
       "    }\n",
       "\n",
       "    .dataframe thead th {\n",
       "        text-align: right;\n",
       "    }\n",
       "</style>\n",
       "<table border=\"1\" class=\"dataframe\">\n",
       "  <thead>\n",
       "    <tr style=\"text-align: right;\">\n",
       "      <th></th>\n",
       "      <th>review_num</th>\n",
       "      <th>text</th>\n",
       "      <th>type</th>\n",
       "      <th>topic</th>\n",
       "      <th>num_words</th>\n",
       "      <th>num_targets</th>\n",
       "    </tr>\n",
       "  </thead>\n",
       "  <tbody>\n",
       "    <tr>\n",
       "      <th>35860000</th>\n",
       "      <td>7672043</td>\n",
       "      <td>HSI has excellent benefits, paid time off and ...</td>\n",
       "      <td>1</td>\n",
       "      <td>6</td>\n",
       "      <td>23</td>\n",
       "      <td>0</td>\n",
       "    </tr>\n",
       "    <tr>\n",
       "      <th>35860001</th>\n",
       "      <td>7672043</td>\n",
       "      <td>We are the best in our business, realize that ...</td>\n",
       "      <td>3</td>\n",
       "      <td>7</td>\n",
       "      <td>12</td>\n",
       "      <td>0</td>\n",
       "    </tr>\n",
       "    <tr>\n",
       "      <th>35860002</th>\n",
       "      <td>7672043</td>\n",
       "      <td>Sold Nov 2014 and new management has changed t...</td>\n",
       "      <td>2</td>\n",
       "      <td>4</td>\n",
       "      <td>21</td>\n",
       "      <td>1</td>\n",
       "    </tr>\n",
       "    <tr>\n",
       "      <th>35860003</th>\n",
       "      <td>7672045</td>\n",
       "      <td>A very strategic agency with a great vision an...</td>\n",
       "      <td>1</td>\n",
       "      <td>4</td>\n",
       "      <td>15</td>\n",
       "      <td>0</td>\n",
       "    </tr>\n",
       "    <tr>\n",
       "      <th>35860004</th>\n",
       "      <td>7672045</td>\n",
       "      <td>It is a great place to work for as it provides...</td>\n",
       "      <td>1</td>\n",
       "      <td>0</td>\n",
       "      <td>19</td>\n",
       "      <td>0</td>\n",
       "    </tr>\n",
       "    <tr>\n",
       "      <th>...</th>\n",
       "      <td>...</td>\n",
       "      <td>...</td>\n",
       "      <td>...</td>\n",
       "      <td>...</td>\n",
       "      <td>...</td>\n",
       "      <td>...</td>\n",
       "    </tr>\n",
       "    <tr>\n",
       "      <th>35862215</th>\n",
       "      <td>7672513</td>\n",
       "      <td>A truly wonderful mission.</td>\n",
       "      <td>1</td>\n",
       "      <td>3</td>\n",
       "      <td>4</td>\n",
       "      <td>0</td>\n",
       "    </tr>\n",
       "    <tr>\n",
       "      <th>35862216</th>\n",
       "      <td>7672513</td>\n",
       "      <td>Let your good people participate, genuinely, i...</td>\n",
       "      <td>3</td>\n",
       "      <td>3</td>\n",
       "      <td>11</td>\n",
       "      <td>0</td>\n",
       "    </tr>\n",
       "    <tr>\n",
       "      <th>35862217</th>\n",
       "      <td>7672514</td>\n",
       "      <td>Definitely a company where you can grow and le...</td>\n",
       "      <td>1</td>\n",
       "      <td>1</td>\n",
       "      <td>11</td>\n",
       "      <td>0</td>\n",
       "    </tr>\n",
       "    <tr>\n",
       "      <th>35862218</th>\n",
       "      <td>7672514</td>\n",
       "      <td>Friendly people and solid company culture.</td>\n",
       "      <td>1</td>\n",
       "      <td>3</td>\n",
       "      <td>6</td>\n",
       "      <td>0</td>\n",
       "    </tr>\n",
       "    <tr>\n",
       "      <th>35862219</th>\n",
       "      <td>7672514</td>\n",
       "      <td>I don't really feel there are any cons...if yo...</td>\n",
       "      <td>2</td>\n",
       "      <td>1</td>\n",
       "      <td>25</td>\n",
       "      <td>0</td>\n",
       "    </tr>\n",
       "  </tbody>\n",
       "</table>\n",
       "<p>2220 rows × 6 columns</p>\n",
       "</div>"
      ],
      "text/plain": [
       "          review_num                                               text  type  \\\n",
       "35860000     7672043  HSI has excellent benefits, paid time off and ...     1   \n",
       "35860001     7672043  We are the best in our business, realize that ...     3   \n",
       "35860002     7672043  Sold Nov 2014 and new management has changed t...     2   \n",
       "35860003     7672045  A very strategic agency with a great vision an...     1   \n",
       "35860004     7672045  It is a great place to work for as it provides...     1   \n",
       "...              ...                                                ...   ...   \n",
       "35862215     7672513                         A truly wonderful mission.     1   \n",
       "35862216     7672513  Let your good people participate, genuinely, i...     3   \n",
       "35862217     7672514  Definitely a company where you can grow and le...     1   \n",
       "35862218     7672514         Friendly people and solid company culture.     1   \n",
       "35862219     7672514  I don't really feel there are any cons...if yo...     2   \n",
       "\n",
       "          topic  num_words  num_targets  \n",
       "35860000      6         23            0  \n",
       "35860001      7         12            0  \n",
       "35860002      4         21            1  \n",
       "35860003      4         15            0  \n",
       "35860004      0         19            0  \n",
       "...         ...        ...          ...  \n",
       "35862215      3          4            0  \n",
       "35862216      3         11            0  \n",
       "35862217      1         11            0  \n",
       "35862218      3          6            0  \n",
       "35862219      1         25            0  \n",
       "\n",
       "[2220 rows x 6 columns]"
      ]
     },
     "execution_count": 11,
     "metadata": {},
     "output_type": "execute_result"
    }
   ],
   "source": [
    "df"
   ]
  },
  {
   "cell_type": "code",
   "execution_count": 2,
   "metadata": {},
   "outputs": [],
   "source": [
    "data_path = \"data/glassdoor/rev-anon.parquet\"\n",
    "df = pd.read_parquet(data_path)"
   ]
  },
  {
   "cell_type": "code",
   "execution_count": 3,
   "metadata": {},
   "outputs": [
    {
     "data": {
      "text/html": [
       "<div>\n",
       "<style scoped>\n",
       "    .dataframe tbody tr th:only-of-type {\n",
       "        vertical-align: middle;\n",
       "    }\n",
       "\n",
       "    .dataframe tbody tr th {\n",
       "        vertical-align: top;\n",
       "    }\n",
       "\n",
       "    .dataframe thead th {\n",
       "        text-align: right;\n",
       "    }\n",
       "</style>\n",
       "<table border=\"1\" class=\"dataframe\">\n",
       "  <thead>\n",
       "    <tr style=\"text-align: right;\">\n",
       "      <th></th>\n",
       "      <th>index</th>\n",
       "      <th>pros</th>\n",
       "      <th>cons</th>\n",
       "      <th>feedback</th>\n",
       "    </tr>\n",
       "  </thead>\n",
       "  <tbody>\n",
       "    <tr>\n",
       "      <th>0</th>\n",
       "      <td>1</td>\n",
       "      <td>Team work and support. Room for personal and p...</td>\n",
       "      <td>You will need a vehicle in good working condition</td>\n",
       "      <td>None</td>\n",
       "    </tr>\n",
       "    <tr>\n",
       "      <th>1</th>\n",
       "      <td>2</td>\n",
       "      <td>Especially the warehouse positions, it isn't d...</td>\n",
       "      <td>Always changing how you do your job, and not a...</td>\n",
       "      <td>Get your shift managers a bit more hands on ex...</td>\n",
       "    </tr>\n",
       "    <tr>\n",
       "      <th>2</th>\n",
       "      <td>3</td>\n",
       "      <td>Great people, great diverse environment</td>\n",
       "      <td>They need more flexible work arrangements</td>\n",
       "      <td>None</td>\n",
       "    </tr>\n",
       "    <tr>\n",
       "      <th>3</th>\n",
       "      <td>4</td>\n",
       "      <td>1. Flexible Work Timing\\r\\n2. Work-Life Balanc...</td>\n",
       "      <td>Nothing that I know of</td>\n",
       "      <td>None</td>\n",
       "    </tr>\n",
       "    <tr>\n",
       "      <th>4</th>\n",
       "      <td>5</td>\n",
       "      <td>The Individuals are mostly a joy to support</td>\n",
       "      <td>Lack of backbone by management..allow folks to...</td>\n",
       "      <td>Get strong managers and back them up!</td>\n",
       "    </tr>\n",
       "    <tr>\n",
       "      <th>...</th>\n",
       "      <td>...</td>\n",
       "      <td>...</td>\n",
       "      <td>...</td>\n",
       "      <td>...</td>\n",
       "    </tr>\n",
       "    <tr>\n",
       "      <th>7672509</th>\n",
       "      <td>7672510</td>\n",
       "      <td>The more eager you are to learn, the more you ...</td>\n",
       "      <td>Interns don't get paid for the 'trial period'.</td>\n",
       "      <td>None</td>\n",
       "    </tr>\n",
       "    <tr>\n",
       "      <th>7672510</th>\n",
       "      <td>7672511</td>\n",
       "      <td>Very passionate and dedicated group</td>\n",
       "      <td>Not a lot of balance</td>\n",
       "      <td>None</td>\n",
       "    </tr>\n",
       "    <tr>\n",
       "      <th>7672511</th>\n",
       "      <td>7672512</td>\n",
       "      <td>Great pay, bosses let you alone, loose mgmt.</td>\n",
       "      <td>Long hrs, stressful, and dirty but worth it fo...</td>\n",
       "      <td>Give assistance to techs</td>\n",
       "    </tr>\n",
       "    <tr>\n",
       "      <th>7672512</th>\n",
       "      <td>7672513</td>\n",
       "      <td>A truly wonderful mission. The most diverse st...</td>\n",
       "      <td>Delicate funding situation. Shifting political...</td>\n",
       "      <td>Let your good people participate, genuinely, i...</td>\n",
       "    </tr>\n",
       "    <tr>\n",
       "      <th>7672513</th>\n",
       "      <td>7672514</td>\n",
       "      <td>Definitely a company where you can grow and le...</td>\n",
       "      <td>I don't really feel there are any cons...if yo...</td>\n",
       "      <td>None</td>\n",
       "    </tr>\n",
       "  </tbody>\n",
       "</table>\n",
       "<p>7672514 rows × 4 columns</p>\n",
       "</div>"
      ],
      "text/plain": [
       "           index                                               pros  \\\n",
       "0              1  Team work and support. Room for personal and p...   \n",
       "1              2  Especially the warehouse positions, it isn't d...   \n",
       "2              3            Great people, great diverse environment   \n",
       "3              4  1. Flexible Work Timing\\r\\n2. Work-Life Balanc...   \n",
       "4              5        The Individuals are mostly a joy to support   \n",
       "...          ...                                                ...   \n",
       "7672509  7672510  The more eager you are to learn, the more you ...   \n",
       "7672510  7672511                Very passionate and dedicated group   \n",
       "7672511  7672512       Great pay, bosses let you alone, loose mgmt.   \n",
       "7672512  7672513  A truly wonderful mission. The most diverse st...   \n",
       "7672513  7672514  Definitely a company where you can grow and le...   \n",
       "\n",
       "                                                      cons  \\\n",
       "0        You will need a vehicle in good working condition   \n",
       "1        Always changing how you do your job, and not a...   \n",
       "2                They need more flexible work arrangements   \n",
       "3                                   Nothing that I know of   \n",
       "4        Lack of backbone by management..allow folks to...   \n",
       "...                                                    ...   \n",
       "7672509     Interns don't get paid for the 'trial period'.   \n",
       "7672510                               Not a lot of balance   \n",
       "7672511  Long hrs, stressful, and dirty but worth it fo...   \n",
       "7672512  Delicate funding situation. Shifting political...   \n",
       "7672513  I don't really feel there are any cons...if yo...   \n",
       "\n",
       "                                                  feedback  \n",
       "0                                                     None  \n",
       "1        Get your shift managers a bit more hands on ex...  \n",
       "2                                                     None  \n",
       "3                                                     None  \n",
       "4                    Get strong managers and back them up!  \n",
       "...                                                    ...  \n",
       "7672509                                               None  \n",
       "7672510                                               None  \n",
       "7672511                           Give assistance to techs  \n",
       "7672512  Let your good people participate, genuinely, i...  \n",
       "7672513                                               None  \n",
       "\n",
       "[7672514 rows x 4 columns]"
      ]
     },
     "execution_count": 3,
     "metadata": {},
     "output_type": "execute_result"
    }
   ],
   "source": [
    "df"
   ]
  },
  {
   "cell_type": "code",
   "execution_count": null,
   "metadata": {},
   "outputs": [],
   "source": []
  }
 ],
 "metadata": {
  "kernelspec": {
   "display_name": "Python 3",
   "language": "python",
   "name": "python3"
  },
  "language_info": {
   "codemirror_mode": {
    "name": "ipython",
    "version": 3
   },
   "file_extension": ".py",
   "mimetype": "text/x-python",
   "name": "python",
   "nbconvert_exporter": "python",
   "pygments_lexer": "ipython3",
   "version": "3.7.7"
  }
 },
 "nbformat": 4,
 "nbformat_minor": 4
}
